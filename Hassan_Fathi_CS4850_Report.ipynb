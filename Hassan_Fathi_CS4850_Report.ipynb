{
 "cells": [
  {
   "cell_type": "markdown",
   "metadata": {
    "id": "pEHxI4ZXxraw"
   },
   "source": [
    "## Data Mining Coursework"
   ]
  },
  {
   "cell_type": "markdown",
   "metadata": {
    "id": "WaAsYgqSxx1n"
   },
   "source": [
    "Fathi Hassan,          MSc Applied AI,          Candidate number: 514152,          119036334@aston.ac.uk"
   ]
  },
  {
   "cell_type": "markdown",
   "metadata": {
    "id": "Rj9w3ZOazAXk"
   },
   "source": [
    "# Introduction\n",
    "\n",
    "This research aims to present a data mining technique for predicting biological features from publicly available proteome data. This collection comprises parsing sequences from the internet databases IEDB (https://www.iedb.org/) and GenBank (https://www.ncbi.nlm.nih.gov/genbank/). These observations are utilised to create a classification model that accurately predicts the class of fresh data that has never been seen before.\n",
    "\n",
    "Two datasets were provided to accomplish this. The holdout dataset was used to test the model after the other data set was utilised for training. Negative epitopes made up 69.67% of the 4907 data records in the training data set, leaving 1489 positive records. Furthermore, data analysis revealed that 451 numerical features had at least 22 significantly associated features (over 90% ). To address these characteristics, among others, the data must be pre-processed. Throughout the report, the stages of exploration, pre-processing, modelling, and the evaluation/selection of the models will be detailed and explained."
   ]
  },
  {
   "cell_type": "code",
   "execution_count": 1,
   "metadata": {
    "id": "nSK7wz1F_PEQ"
   },
   "outputs": [],
   "source": [
    "import pandas as pd\n",
    "import numpy as np\n",
    "import matplotlib as mpl\n",
    "import matplotlib.pyplot as plt\n",
    "import seaborn as sns\n",
    "\n",
    "from sklearn.model_selection import train_test_split"
   ]
  },
  {
   "cell_type": "markdown",
   "metadata": {
    "id": "Nl0MtxmvjjET"
   },
   "source": [
    "# Data Exploration"
   ]
  },
  {
   "cell_type": "markdown",
   "metadata": {
    "id": "4iQElzxPjmH0"
   },
   "source": [
    "In data exploration, users examine a large data set in an unstructured manner to identify initial patterns, traits, and points of interest, which is the first step in data analysis. This procedure isn't meant to unearth every nugget of information in a data set but rather to aid in the creation of a broad picture of important trends and major points that can be investigated further. Both manual and automatic tools, such as data visualisations, charts, and preliminary reports, can be used in data exploration.\n",
    "\n",
    "Exploratory analysis of the data set revealed the following characteristics: * There are 4907 labelled records in the data set\n",
    "* There are 445 features in the dataset that can be used for prediction, and these features are all type float.\n",
    "* Five columns carry information that is not useful for prediction as per the assignment brief. Four of these columns are object types that carry letters and numbers as string values.\n",
    "* The information columns are: Info_PepID, Info_protein_id, Info_center_pos, Info_AA, and Info_window_seq.\n",
    "* The \"Class\" column, which is made up of integers (-1 and 1), indicates whether a particular record is a positive epitope or not.\n",
    "* Further data exploration has highlighted that the data set is imbalanced, with 3418 (69.7%) records out of the total are labelled 'negative' while only 1489 (30.3%) records are labelled as 'positive'.\n",
    "\n",
    "\n",
    "\n",
    "\n",
    "\n"
   ]
  },
  {
   "cell_type": "code",
   "execution_count": 2,
   "metadata": {
    "colab": {
     "base_uri": "https://localhost:8080/"
    },
    "id": "TtP9fyer_X_v",
    "outputId": "bb7a74a6-98cd-4b70-bc43-eb3551fd8368"
   },
   "outputs": [
    {
     "name": "stdout",
     "output_type": "stream",
     "text": [
      "Mounted at /content/drive\n"
     ]
    }
   ],
   "source": [
    "from google.colab import drive\n",
    "drive.mount('/content/drive')"
   ]
  },
  {
   "cell_type": "code",
   "execution_count": 3,
   "metadata": {
    "colab": {
     "base_uri": "https://localhost:8080/",
     "height": 253
    },
    "id": "-eFWc9ZCAbMl",
    "outputId": "a42b47c2-5a53-4c37-8a09-92cf59088eb0"
   },
   "outputs": [
    {
     "data": {
      "text/html": [
       "<div>\n",
       "<style scoped>\n",
       "    .dataframe tbody tr th:only-of-type {\n",
       "        vertical-align: middle;\n",
       "    }\n",
       "\n",
       "    .dataframe tbody tr th {\n",
       "        vertical-align: top;\n",
       "    }\n",
       "\n",
       "    .dataframe thead th {\n",
       "        text-align: right;\n",
       "    }\n",
       "</style>\n",
       "<table border=\"1\" class=\"dataframe\">\n",
       "  <thead>\n",
       "    <tr style=\"text-align: right;\">\n",
       "      <th></th>\n",
       "      <th>Info_PepID</th>\n",
       "      <th>Info_protein_id</th>\n",
       "      <th>Info_center_pos</th>\n",
       "      <th>Info_AA</th>\n",
       "      <th>Info_window_seq</th>\n",
       "      <th>feat_seq_entropy</th>\n",
       "      <th>feat_C_atoms</th>\n",
       "      <th>feat_H_atoms</th>\n",
       "      <th>feat_N_atoms</th>\n",
       "      <th>feat_O_atoms</th>\n",
       "      <th>feat_S_atoms</th>\n",
       "      <th>feat_molecular_weight</th>\n",
       "      <th>feat_Perc_Tiny</th>\n",
       "      <th>feat_Perc_Small</th>\n",
       "      <th>feat_Perc_Aliphatic</th>\n",
       "      <th>feat_Perc_Aromatic</th>\n",
       "      <th>feat_Perc_NonPolar</th>\n",
       "      <th>feat_Perc_Polar</th>\n",
       "      <th>feat_Perc_Charged</th>\n",
       "      <th>feat_Perc_Basic</th>\n",
       "      <th>feat_Perc_Acidic</th>\n",
       "      <th>feat_PP1</th>\n",
       "      <th>feat_PP2</th>\n",
       "      <th>feat_PP3</th>\n",
       "      <th>feat_KF1</th>\n",
       "      <th>feat_KF2</th>\n",
       "      <th>feat_KF3</th>\n",
       "      <th>feat_KF4</th>\n",
       "      <th>feat_KF5</th>\n",
       "      <th>feat_KF6</th>\n",
       "      <th>feat_KF7</th>\n",
       "      <th>feat_KF8</th>\n",
       "      <th>feat_KF9</th>\n",
       "      <th>feat_KF10</th>\n",
       "      <th>feat_Z1</th>\n",
       "      <th>feat_Z2</th>\n",
       "      <th>feat_Z3</th>\n",
       "      <th>feat_Z4</th>\n",
       "      <th>feat_Z5</th>\n",
       "      <th>feat_F1</th>\n",
       "      <th>...</th>\n",
       "      <th>feat_CT642</th>\n",
       "      <th>feat_CT643</th>\n",
       "      <th>feat_CT644</th>\n",
       "      <th>feat_CT645</th>\n",
       "      <th>feat_CT646</th>\n",
       "      <th>feat_CT650</th>\n",
       "      <th>feat_CT651</th>\n",
       "      <th>feat_CT652</th>\n",
       "      <th>feat_CT653</th>\n",
       "      <th>feat_CT654</th>\n",
       "      <th>feat_CT655</th>\n",
       "      <th>feat_CT656</th>\n",
       "      <th>feat_CT660</th>\n",
       "      <th>feat_CT661</th>\n",
       "      <th>feat_CT662</th>\n",
       "      <th>feat_CT663</th>\n",
       "      <th>feat_CT664</th>\n",
       "      <th>feat_CT665</th>\n",
       "      <th>feat_CT666</th>\n",
       "      <th>feat_Perc_A</th>\n",
       "      <th>feat_Perc_C</th>\n",
       "      <th>feat_Perc_D</th>\n",
       "      <th>feat_Perc_E</th>\n",
       "      <th>feat_Perc_F</th>\n",
       "      <th>feat_Perc_G</th>\n",
       "      <th>feat_Perc_H</th>\n",
       "      <th>feat_Perc_I</th>\n",
       "      <th>feat_Perc_K</th>\n",
       "      <th>feat_Perc_L</th>\n",
       "      <th>feat_Perc_M</th>\n",
       "      <th>feat_Perc_N</th>\n",
       "      <th>feat_Perc_P</th>\n",
       "      <th>feat_Perc_Q</th>\n",
       "      <th>feat_Perc_R</th>\n",
       "      <th>feat_Perc_S</th>\n",
       "      <th>feat_Perc_T</th>\n",
       "      <th>feat_Perc_V</th>\n",
       "      <th>feat_Perc_W</th>\n",
       "      <th>feat_Perc_Y</th>\n",
       "      <th>Class</th>\n",
       "    </tr>\n",
       "  </thead>\n",
       "  <tbody>\n",
       "    <tr>\n",
       "      <th>0</th>\n",
       "      <td>AAA99570.1:2</td>\n",
       "      <td>AAA99570.1</td>\n",
       "      <td>17</td>\n",
       "      <td>D</td>\n",
       "      <td>NQTTVKADSDNNRSA</td>\n",
       "      <td>3.056565</td>\n",
       "      <td>62</td>\n",
       "      <td>133</td>\n",
       "      <td>23</td>\n",
       "      <td>42</td>\n",
       "      <td>0</td>\n",
       "      <td>1872.85</td>\n",
       "      <td>0.400000</td>\n",
       "      <td>0.800000</td>\n",
       "      <td>0.200000</td>\n",
       "      <td>0.0</td>\n",
       "      <td>0.200000</td>\n",
       "      <td>0.800000</td>\n",
       "      <td>0.266667</td>\n",
       "      <td>0.133333</td>\n",
       "      <td>0.133333</td>\n",
       "      <td>0.356000</td>\n",
       "      <td>-0.528667</td>\n",
       "      <td>0.135333</td>\n",
       "      <td>0.151333</td>\n",
       "      <td>-0.395333</td>\n",
       "      <td>0.035333</td>\n",
       "      <td>0.658667</td>\n",
       "      <td>-0.156000</td>\n",
       "      <td>-0.131333</td>\n",
       "      <td>-0.344667</td>\n",
       "      <td>-0.083333</td>\n",
       "      <td>0.096000</td>\n",
       "      <td>-0.332000</td>\n",
       "      <td>1.922667</td>\n",
       "      <td>-0.211333</td>\n",
       "      <td>-0.048667</td>\n",
       "      <td>-0.870667</td>\n",
       "      <td>0.683333</td>\n",
       "      <td>-0.739400</td>\n",
       "      <td>...</td>\n",
       "      <td>0.0</td>\n",
       "      <td>0.0</td>\n",
       "      <td>0.076923</td>\n",
       "      <td>0.0</td>\n",
       "      <td>0.0</td>\n",
       "      <td>0.0</td>\n",
       "      <td>0</td>\n",
       "      <td>0.0</td>\n",
       "      <td>0.0</td>\n",
       "      <td>0.0</td>\n",
       "      <td>0.0</td>\n",
       "      <td>0.0</td>\n",
       "      <td>0.0</td>\n",
       "      <td>0</td>\n",
       "      <td>0.0</td>\n",
       "      <td>0.0</td>\n",
       "      <td>0.0</td>\n",
       "      <td>0.0</td>\n",
       "      <td>0.0</td>\n",
       "      <td>0.133333</td>\n",
       "      <td>0.0</td>\n",
       "      <td>0.133333</td>\n",
       "      <td>0.0</td>\n",
       "      <td>0.0</td>\n",
       "      <td>0.0</td>\n",
       "      <td>0.0</td>\n",
       "      <td>0.0</td>\n",
       "      <td>0.066667</td>\n",
       "      <td>0.0</td>\n",
       "      <td>0.0</td>\n",
       "      <td>0.200000</td>\n",
       "      <td>0.0</td>\n",
       "      <td>0.066667</td>\n",
       "      <td>0.066667</td>\n",
       "      <td>0.133333</td>\n",
       "      <td>0.133333</td>\n",
       "      <td>0.066667</td>\n",
       "      <td>0.0</td>\n",
       "      <td>0.0</td>\n",
       "      <td>1</td>\n",
       "    </tr>\n",
       "    <tr>\n",
       "      <th>1</th>\n",
       "      <td>AAA99570.1:2</td>\n",
       "      <td>AAA99570.1</td>\n",
       "      <td>18</td>\n",
       "      <td>S</td>\n",
       "      <td>QTTVKADSDNNRSAS</td>\n",
       "      <td>3.056565</td>\n",
       "      <td>61</td>\n",
       "      <td>132</td>\n",
       "      <td>22</td>\n",
       "      <td>42</td>\n",
       "      <td>0</td>\n",
       "      <td>1845.82</td>\n",
       "      <td>0.466667</td>\n",
       "      <td>0.800000</td>\n",
       "      <td>0.200000</td>\n",
       "      <td>0.0</td>\n",
       "      <td>0.200000</td>\n",
       "      <td>0.800000</td>\n",
       "      <td>0.266667</td>\n",
       "      <td>0.133333</td>\n",
       "      <td>0.133333</td>\n",
       "      <td>0.328667</td>\n",
       "      <td>-0.545333</td>\n",
       "      <td>0.172000</td>\n",
       "      <td>0.129333</td>\n",
       "      <td>-0.462667</td>\n",
       "      <td>0.054000</td>\n",
       "      <td>0.632667</td>\n",
       "      <td>-0.182000</td>\n",
       "      <td>-0.184667</td>\n",
       "      <td>-0.464667</td>\n",
       "      <td>-0.242000</td>\n",
       "      <td>-0.042000</td>\n",
       "      <td>-0.232000</td>\n",
       "      <td>1.878667</td>\n",
       "      <td>-0.390667</td>\n",
       "      <td>-0.041333</td>\n",
       "      <td>-0.886667</td>\n",
       "      <td>0.620667</td>\n",
       "      <td>-0.705133</td>\n",
       "      <td>...</td>\n",
       "      <td>0.0</td>\n",
       "      <td>0.0</td>\n",
       "      <td>0.076923</td>\n",
       "      <td>0.0</td>\n",
       "      <td>0.0</td>\n",
       "      <td>0.0</td>\n",
       "      <td>0</td>\n",
       "      <td>0.0</td>\n",
       "      <td>0.0</td>\n",
       "      <td>0.0</td>\n",
       "      <td>0.0</td>\n",
       "      <td>0.0</td>\n",
       "      <td>0.0</td>\n",
       "      <td>0</td>\n",
       "      <td>0.0</td>\n",
       "      <td>0.0</td>\n",
       "      <td>0.0</td>\n",
       "      <td>0.0</td>\n",
       "      <td>0.0</td>\n",
       "      <td>0.133333</td>\n",
       "      <td>0.0</td>\n",
       "      <td>0.133333</td>\n",
       "      <td>0.0</td>\n",
       "      <td>0.0</td>\n",
       "      <td>0.0</td>\n",
       "      <td>0.0</td>\n",
       "      <td>0.0</td>\n",
       "      <td>0.066667</td>\n",
       "      <td>0.0</td>\n",
       "      <td>0.0</td>\n",
       "      <td>0.133333</td>\n",
       "      <td>0.0</td>\n",
       "      <td>0.066667</td>\n",
       "      <td>0.066667</td>\n",
       "      <td>0.200000</td>\n",
       "      <td>0.133333</td>\n",
       "      <td>0.066667</td>\n",
       "      <td>0.0</td>\n",
       "      <td>0.0</td>\n",
       "      <td>1</td>\n",
       "    </tr>\n",
       "    <tr>\n",
       "      <th>2</th>\n",
       "      <td>AAA99570.1:2</td>\n",
       "      <td>AAA99570.1</td>\n",
       "      <td>19</td>\n",
       "      <td>D</td>\n",
       "      <td>TTVKADSDNNRSASV</td>\n",
       "      <td>2.923231</td>\n",
       "      <td>61</td>\n",
       "      <td>133</td>\n",
       "      <td>21</td>\n",
       "      <td>41</td>\n",
       "      <td>0</td>\n",
       "      <td>1816.82</td>\n",
       "      <td>0.466667</td>\n",
       "      <td>0.866667</td>\n",
       "      <td>0.266667</td>\n",
       "      <td>0.0</td>\n",
       "      <td>0.266667</td>\n",
       "      <td>0.733333</td>\n",
       "      <td>0.266667</td>\n",
       "      <td>0.133333</td>\n",
       "      <td>0.133333</td>\n",
       "      <td>0.210000</td>\n",
       "      <td>-0.554000</td>\n",
       "      <td>0.188000</td>\n",
       "      <td>0.111333</td>\n",
       "      <td>-0.526000</td>\n",
       "      <td>0.185333</td>\n",
       "      <td>0.532667</td>\n",
       "      <td>-0.222000</td>\n",
       "      <td>-0.278000</td>\n",
       "      <td>-0.592000</td>\n",
       "      <td>-0.190667</td>\n",
       "      <td>-0.070667</td>\n",
       "      <td>-0.033333</td>\n",
       "      <td>1.589333</td>\n",
       "      <td>-0.600000</td>\n",
       "      <td>-0.048000</td>\n",
       "      <td>-0.854000</td>\n",
       "      <td>0.575333</td>\n",
       "      <td>-0.735267</td>\n",
       "      <td>...</td>\n",
       "      <td>0.0</td>\n",
       "      <td>0.0</td>\n",
       "      <td>0.076923</td>\n",
       "      <td>0.0</td>\n",
       "      <td>0.0</td>\n",
       "      <td>0.0</td>\n",
       "      <td>0</td>\n",
       "      <td>0.0</td>\n",
       "      <td>0.0</td>\n",
       "      <td>0.0</td>\n",
       "      <td>0.0</td>\n",
       "      <td>0.0</td>\n",
       "      <td>0.0</td>\n",
       "      <td>0</td>\n",
       "      <td>0.0</td>\n",
       "      <td>0.0</td>\n",
       "      <td>0.0</td>\n",
       "      <td>0.0</td>\n",
       "      <td>0.0</td>\n",
       "      <td>0.133333</td>\n",
       "      <td>0.0</td>\n",
       "      <td>0.133333</td>\n",
       "      <td>0.0</td>\n",
       "      <td>0.0</td>\n",
       "      <td>0.0</td>\n",
       "      <td>0.0</td>\n",
       "      <td>0.0</td>\n",
       "      <td>0.066667</td>\n",
       "      <td>0.0</td>\n",
       "      <td>0.0</td>\n",
       "      <td>0.133333</td>\n",
       "      <td>0.0</td>\n",
       "      <td>0.000000</td>\n",
       "      <td>0.066667</td>\n",
       "      <td>0.200000</td>\n",
       "      <td>0.133333</td>\n",
       "      <td>0.133333</td>\n",
       "      <td>0.0</td>\n",
       "      <td>0.0</td>\n",
       "      <td>1</td>\n",
       "    </tr>\n",
       "    <tr>\n",
       "      <th>3</th>\n",
       "      <td>AAA99570.1:2</td>\n",
       "      <td>AAA99570.1</td>\n",
       "      <td>20</td>\n",
       "      <td>N</td>\n",
       "      <td>TVKADSDNNRSASVK</td>\n",
       "      <td>2.923231</td>\n",
       "      <td>63</td>\n",
       "      <td>138</td>\n",
       "      <td>22</td>\n",
       "      <td>40</td>\n",
       "      <td>0</td>\n",
       "      <td>1843.89</td>\n",
       "      <td>0.400000</td>\n",
       "      <td>0.800000</td>\n",
       "      <td>0.266667</td>\n",
       "      <td>0.0</td>\n",
       "      <td>0.266667</td>\n",
       "      <td>0.733333</td>\n",
       "      <td>0.333333</td>\n",
       "      <td>0.200000</td>\n",
       "      <td>0.133333</td>\n",
       "      <td>0.223333</td>\n",
       "      <td>-0.504667</td>\n",
       "      <td>0.230000</td>\n",
       "      <td>0.071333</td>\n",
       "      <td>-0.424667</td>\n",
       "      <td>0.089333</td>\n",
       "      <td>0.604000</td>\n",
       "      <td>-0.112667</td>\n",
       "      <td>-0.400000</td>\n",
       "      <td>-0.531333</td>\n",
       "      <td>-0.119333</td>\n",
       "      <td>-0.065333</td>\n",
       "      <td>-0.006000</td>\n",
       "      <td>1.692000</td>\n",
       "      <td>-0.395333</td>\n",
       "      <td>-0.139333</td>\n",
       "      <td>-0.657333</td>\n",
       "      <td>0.622667</td>\n",
       "      <td>-0.825600</td>\n",
       "      <td>...</td>\n",
       "      <td>0.0</td>\n",
       "      <td>0.0</td>\n",
       "      <td>0.076923</td>\n",
       "      <td>0.0</td>\n",
       "      <td>0.0</td>\n",
       "      <td>0.0</td>\n",
       "      <td>0</td>\n",
       "      <td>0.0</td>\n",
       "      <td>0.0</td>\n",
       "      <td>0.0</td>\n",
       "      <td>0.0</td>\n",
       "      <td>0.0</td>\n",
       "      <td>0.0</td>\n",
       "      <td>0</td>\n",
       "      <td>0.0</td>\n",
       "      <td>0.0</td>\n",
       "      <td>0.0</td>\n",
       "      <td>0.0</td>\n",
       "      <td>0.0</td>\n",
       "      <td>0.133333</td>\n",
       "      <td>0.0</td>\n",
       "      <td>0.133333</td>\n",
       "      <td>0.0</td>\n",
       "      <td>0.0</td>\n",
       "      <td>0.0</td>\n",
       "      <td>0.0</td>\n",
       "      <td>0.0</td>\n",
       "      <td>0.133333</td>\n",
       "      <td>0.0</td>\n",
       "      <td>0.0</td>\n",
       "      <td>0.133333</td>\n",
       "      <td>0.0</td>\n",
       "      <td>0.000000</td>\n",
       "      <td>0.066667</td>\n",
       "      <td>0.200000</td>\n",
       "      <td>0.066667</td>\n",
       "      <td>0.133333</td>\n",
       "      <td>0.0</td>\n",
       "      <td>0.0</td>\n",
       "      <td>1</td>\n",
       "    </tr>\n",
       "    <tr>\n",
       "      <th>4</th>\n",
       "      <td>AAA99570.1:2</td>\n",
       "      <td>AAA99570.1</td>\n",
       "      <td>21</td>\n",
       "      <td>N</td>\n",
       "      <td>VKADSDNNRSASVKK</td>\n",
       "      <td>2.739572</td>\n",
       "      <td>65</td>\n",
       "      <td>143</td>\n",
       "      <td>23</td>\n",
       "      <td>39</td>\n",
       "      <td>0</td>\n",
       "      <td>1870.96</td>\n",
       "      <td>0.333333</td>\n",
       "      <td>0.733333</td>\n",
       "      <td>0.266667</td>\n",
       "      <td>0.0</td>\n",
       "      <td>0.266667</td>\n",
       "      <td>0.733333</td>\n",
       "      <td>0.400000</td>\n",
       "      <td>0.266667</td>\n",
       "      <td>0.133333</td>\n",
       "      <td>0.236667</td>\n",
       "      <td>-0.455333</td>\n",
       "      <td>0.272000</td>\n",
       "      <td>0.031333</td>\n",
       "      <td>-0.323333</td>\n",
       "      <td>-0.006667</td>\n",
       "      <td>0.675333</td>\n",
       "      <td>-0.003333</td>\n",
       "      <td>-0.522000</td>\n",
       "      <td>-0.470667</td>\n",
       "      <td>-0.048000</td>\n",
       "      <td>-0.060000</td>\n",
       "      <td>0.021333</td>\n",
       "      <td>1.794667</td>\n",
       "      <td>-0.190667</td>\n",
       "      <td>-0.230667</td>\n",
       "      <td>-0.460667</td>\n",
       "      <td>0.670000</td>\n",
       "      <td>-0.915933</td>\n",
       "      <td>...</td>\n",
       "      <td>0.0</td>\n",
       "      <td>0.0</td>\n",
       "      <td>0.076923</td>\n",
       "      <td>0.0</td>\n",
       "      <td>0.0</td>\n",
       "      <td>0.0</td>\n",
       "      <td>0</td>\n",
       "      <td>0.0</td>\n",
       "      <td>0.0</td>\n",
       "      <td>0.0</td>\n",
       "      <td>0.0</td>\n",
       "      <td>0.0</td>\n",
       "      <td>0.0</td>\n",
       "      <td>0</td>\n",
       "      <td>0.0</td>\n",
       "      <td>0.0</td>\n",
       "      <td>0.0</td>\n",
       "      <td>0.0</td>\n",
       "      <td>0.0</td>\n",
       "      <td>0.133333</td>\n",
       "      <td>0.0</td>\n",
       "      <td>0.133333</td>\n",
       "      <td>0.0</td>\n",
       "      <td>0.0</td>\n",
       "      <td>0.0</td>\n",
       "      <td>0.0</td>\n",
       "      <td>0.0</td>\n",
       "      <td>0.200000</td>\n",
       "      <td>0.0</td>\n",
       "      <td>0.0</td>\n",
       "      <td>0.133333</td>\n",
       "      <td>0.0</td>\n",
       "      <td>0.000000</td>\n",
       "      <td>0.066667</td>\n",
       "      <td>0.200000</td>\n",
       "      <td>0.000000</td>\n",
       "      <td>0.133333</td>\n",
       "      <td>0.0</td>\n",
       "      <td>0.0</td>\n",
       "      <td>1</td>\n",
       "    </tr>\n",
       "  </tbody>\n",
       "</table>\n",
       "<p>5 rows × 451 columns</p>\n",
       "</div>"
      ],
      "text/plain": [
       "     Info_PepID Info_protein_id  ...  feat_Perc_Y Class\n",
       "0  AAA99570.1:2      AAA99570.1  ...          0.0     1\n",
       "1  AAA99570.1:2      AAA99570.1  ...          0.0     1\n",
       "2  AAA99570.1:2      AAA99570.1  ...          0.0     1\n",
       "3  AAA99570.1:2      AAA99570.1  ...          0.0     1\n",
       "4  AAA99570.1:2      AAA99570.1  ...          0.0     1\n",
       "\n",
       "[5 rows x 451 columns]"
      ]
     },
     "execution_count": 3,
     "metadata": {
      "tags": []
     },
     "output_type": "execute_result"
    }
   ],
   "source": [
    "#importing the credit card data set using panda\n",
    "DataFrame = pd.read_csv('/content/drive/MyDrive/Colab Notebooks/Data/CW_data.csv')\n",
    "\n",
    "#returning the head of the data set\n",
    "DataFrame.head()"
   ]
  },
  {
   "cell_type": "code",
   "execution_count": 4,
   "metadata": {
    "colab": {
     "base_uri": "https://localhost:8080/"
    },
    "id": "vFU5XpOMBmPm",
    "outputId": "1187a699-b7b5-462c-c292-ca41ea18b2aa"
   },
   "outputs": [
    {
     "name": "stdout",
     "output_type": "stream",
     "text": [
      "<class 'pandas.core.frame.DataFrame'>\n",
      "RangeIndex: 4907 entries, 0 to 4906\n",
      "Columns: 451 entries, Info_PepID to Class\n",
      "dtypes: float64(327), int64(120), object(4)\n",
      "memory usage: 16.9+ MB\n",
      "None\n"
     ]
    }
   ],
   "source": [
    "#This shows us the types of data are present in the dataset, as well as number of rows and columns\n",
    "print(DataFrame.info())"
   ]
  },
  {
   "cell_type": "markdown",
   "metadata": {
    "id": "T6rjRxCQJPzj"
   },
   "source": [
    "## Data Visualisation"
   ]
  },
  {
   "cell_type": "markdown",
   "metadata": {
    "id": "SQSYxj4D2W9n"
   },
   "source": [
    "There are several ways to visualise information, such as graphs and infographics and animations, but the most popular is by using basic visuals like charts and plots. It is easy to grasp complicated data linkages and data-driven insights thanks to these visual representations of information.\n",
    "\n",
    "Before performing any further analysis, histograms provide a quick way to look at data distribution and identify skew or outliers. This section contains histograms of individual input variables, demonstrating that the data is not normally distributed. Because many statistical techniques assume normally distributed data, it is critical to understand how it is distributed.\n",
    "\n",
    "Box plots may also be used to visualise data distribution and dispersion. The box plot below depicts the spread of a subset of the dataset's characteristics. There is a non-normal distribution of variables when you look at the boxes representing the interquartile range. Furthermore, there are many data points displayed on either side of the minimum and maximum cutoff values. These points might be outliers, but they need to be explored further."
   ]
  },
  {
   "cell_type": "code",
   "execution_count": 5,
   "metadata": {
    "colab": {
     "base_uri": "https://localhost:8080/"
    },
    "id": "HvHldlVYF62r",
    "outputId": "2d39fa8b-51c4-4f0c-d6cb-a2a05de4e81e"
   },
   "outputs": [
    {
     "data": {
      "text/plain": [
       "-1    3418\n",
       " 1    1489\n",
       "Name: Class, dtype: int64"
      ]
     },
     "execution_count": 5,
     "metadata": {
      "tags": []
     },
     "output_type": "execute_result"
    }
   ],
   "source": [
    "#Evaluating the balance of the dependant Class feature and we can see that there are favourable imbalance towards negative epitopes\n",
    "DataFrame['Class'].value_counts()"
   ]
  },
  {
   "cell_type": "code",
   "execution_count": 6,
   "metadata": {
    "colab": {
     "base_uri": "https://localhost:8080/"
    },
    "id": "eChfJaUWB1eq",
    "outputId": "ce22aaff-e6e5-43ad-8539-5d5211b04470"
   },
   "outputs": [
    {
     "data": {
      "text/plain": [
       "-1    69.655594\n",
       " 1    30.344406\n",
       "Name: Class, dtype: float64"
      ]
     },
     "execution_count": 6,
     "metadata": {
      "tags": []
     },
     "output_type": "execute_result"
    }
   ],
   "source": [
    "# Calculate percentage of positive and negative epitope classes.\n",
    "\n",
    "DataFrame['Class'].value_counts(normalize=True) * 100"
   ]
  },
  {
   "cell_type": "code",
   "execution_count": 7,
   "metadata": {
    "colab": {
     "base_uri": "https://localhost:8080/",
     "height": 551
    },
    "id": "EBU7INYGgmT0",
    "outputId": "56b55e14-68e5-4a31-f46a-9f6fa95bcb86"
   },
   "outputs": [
    {
     "name": "stderr",
     "output_type": "stream",
     "text": [
      "/usr/local/lib/python3.7/dist-packages/seaborn/_decorators.py:43: FutureWarning: Pass the following variable as a keyword arg: x. From version 0.12, the only valid positional argument will be `data`, and passing other arguments without an explicit keyword will result in an error or misinterpretation.\n",
      "  FutureWarning\n"
     ]
    },
    {
     "data": {
      "image/png": "[encoded data removed]",
      "text/plain": [
       "<Figure size 576x576 with 1 Axes>"
      ]
     },
     "metadata": {
      "needs_background": "light",
      "tags": []
     },
     "output_type": "display_data"
    }
   ],
   "source": [
    "plt.rcParams['figure.figsize'] = (8,8)\n",
    "\n",
    "DataFrame['Class'].value_counts()\n",
    "g = sns.countplot(DataFrame['Class'])\n",
    "g.set_xticklabels(['Negative','Positive'])\n",
    "plt.show()"
   ]
  },
  {
   "cell_type": "markdown",
   "metadata": {
    "id": "78la2S0X0b1G"
   },
   "source": [
    "The above bar chart helps illustrate the extent of the imbalance."
   ]
  },
  {
   "cell_type": "code",
   "execution_count": 8,
   "metadata": {
    "colab": {
     "base_uri": "https://localhost:8080/",
     "height": 1000
    },
    "id": "T9vla-VPCZeG",
    "outputId": "96d00a6d-aa73-4bba-f2bd-7a5bfe4c2afa"
   },
   "outputs": [
    {
     "data": {
      "image/png": "[encoded data removed]",
      "text/plain": [
       "<Figure size 3600x4320 with 462 Axes>"
      ]
     },
     "metadata": {
      "needs_background": "light",
      "tags": []
     },
     "output_type": "display_data"
    }
   ],
   "source": [
    "#Plotting histograms of the features in the DataFrame\n",
    "plt.rcParams['figure.figsize'] = (50.0,60.0)\n",
    "DataFrame.hist()\n",
    "plt.show()"
   ]
  },
  {
   "cell_type": "code",
   "execution_count": 9,
   "metadata": {
    "colab": {
     "base_uri": "https://localhost:8080/"
    },
    "id": "wH1guP1rDCRZ",
    "outputId": "e387d5d0-7520-4a71-f330-840837b3d612"
   },
   "outputs": [
    {
     "data": {
      "text/plain": [
       "<bound method DataFrame.info of       feat_seq_entropy  feat_C_atoms  ...  feat_Perc_W  feat_Perc_Y\n",
       "0             3.056565            62  ...          0.0          0.0\n",
       "1             3.056565            61  ...          0.0          0.0\n",
       "2             2.923231            61  ...          0.0          0.0\n",
       "3             2.923231            63  ...          0.0          0.0\n",
       "4             2.739572            65  ...          0.0          0.0\n",
       "...                ...           ...  ...          ...          ...\n",
       "4902          2.706891            63  ...          0.0          0.0\n",
       "4903          2.523231            64  ...          0.0          0.0\n",
       "4904          2.523231            66  ...          0.0          0.0\n",
       "4905          2.739572            70  ...          0.0          0.0\n",
       "4906          2.822580            67  ...          0.0          0.0\n",
       "\n",
       "[4907 rows x 445 columns]>"
      ]
     },
     "execution_count": 9,
     "metadata": {
      "tags": []
     },
     "output_type": "execute_result"
    }
   ],
   "source": [
    "#Selecting the features that will be used for our data analysis and buildng of our model\n",
    "Features = DataFrame.filter(regex=\"^feat\")\n",
    "Features.info"
   ]
  },
  {
   "cell_type": "code",
   "execution_count": 10,
   "metadata": {
    "colab": {
     "base_uri": "https://localhost:8080/"
    },
    "id": "Ln7MD3Vapkub",
    "outputId": "0bb66411-1ec2-44a5-ad8d-f411e413ed47"
   },
   "outputs": [
    {
     "name": "stdout",
     "output_type": "stream",
     "text": [
      "0       1\n",
      "1       1\n",
      "2       1\n",
      "3       1\n",
      "4       1\n",
      "       ..\n",
      "4902   -1\n",
      "4903   -1\n",
      "4904   -1\n",
      "4905   -1\n",
      "4906   -1\n",
      "Name: Class, Length: 4907, dtype: int64\n"
     ]
    }
   ],
   "source": [
    "#Assigning the Class feature\n",
    "Class = DataFrame['Class']\n",
    "print(Class)"
   ]
  },
  {
   "cell_type": "code",
   "execution_count": 11,
   "metadata": {
    "id": "WuNn-IaEJA33"
   },
   "outputs": [],
   "source": [
    "import numpy as np\n",
    "import pandas as pd\n",
    "import seaborn as sns\n",
    "from scipy import stats"
   ]
  },
  {
   "cell_type": "code",
   "execution_count": 12,
   "metadata": {
    "colab": {
     "base_uri": "https://localhost:8080/",
     "height": 1000
    },
    "id": "ZwMqBTbMJDf-",
    "outputId": "c2ce0664-7d3e-4577-93c1-7aa31b439db7"
   },
   "outputs": [
    {
     "data": {
      "image/png": "[encoded data removed]",
      "text/plain": [
       "<Figure size 3600x4320 with 1 Axes>"
      ]
     },
     "metadata": {
      "needs_background": "light",
      "tags": []
     },
     "output_type": "display_data"
    }
   ],
   "source": [
    "ax = sns.boxplot(data=Features.iloc[:,8:50], orient=\"h\", palette=\"Set2\")"
   ]
  },
  {
   "cell_type": "code",
   "execution_count": 13,
   "metadata": {
    "id": "pqRZR8iEbJco"
   },
   "outputs": [],
   "source": [
    "#This code uses D’Agostino’s K-squared test to prove statistically whether features are normally distributed or not\n",
    "from scipy.stats import normaltest\n",
    "normalised_features = 0\n",
    "not_normalised_features = 0\n",
    "\n",
    "for i in Features.columns:\n",
    "  \n",
    "  stat,p = normaltest(Features[[i]])\n",
    "  \n",
    "  if p < 0.05:\n",
    "    not_normalised_features += 1\n",
    "  else:\n",
    "    normalised_features +=1\n"
   ]
  },
  {
   "cell_type": "code",
   "execution_count": 14,
   "metadata": {
    "colab": {
     "base_uri": "https://localhost:8080/"
    },
    "id": "_nMnO6Qndq0w",
    "outputId": "ce6fbb42-6a63-43b9-c001-a86cef5c7e09"
   },
   "outputs": [
    {
     "name": "stdout",
     "output_type": "stream",
     "text": [
      "Normalised features: 1\n",
      "Not normalised features: 444\n"
     ]
    }
   ],
   "source": [
    "#Following the D’Agostino’s K-squared test we can see that all but one feature is not normally distributed\n",
    "print(\"Normalised features: \" + str(normalised_features))\n",
    "print(\"Not normalised features: \" + str(not_normalised_features))"
   ]
  },
  {
   "cell_type": "markdown",
   "metadata": {
    "id": "l9cwivZg62NR"
   },
   "source": [
    "We can observe from the histograms and box plots that the data features are generally not distributed. Furthermore, using D'Agostino's K-squared test, the preceding code statistically demonstrates that the characteristics are mostly not normally distributed. Scipy.stats.normaltest can determine whether or not our sample has a normal distribution. It is based on D'Agostino's and Pearson's tests, and it returns the z score for the skewness and kurtosis tests (stat) and a 2-sided chi-squared probability for the hypothesis test (p-value). [6]"
   ]
  },
  {
   "cell_type": "markdown",
   "metadata": {
    "id": "hlb9cywp47yP"
   },
   "source": [
    "# BENCH MARKING"
   ]
  },
  {
   "cell_type": "markdown",
   "metadata": {
    "id": "zoG4bGq_5n2g"
   },
   "source": [
    "It is important to include benchmark models in our report. This allows us to be able to compare or final product after pre-processing to a naive solution. In the below section, the holdout method is used to score and evaluate models, with an 80-20 split of the data. A simple PCA is run on the data to reduce the features to ten principal components instead of training models on 455 features to save computational power. As part of this Data Mining report, we will consider the following machine learning models to predict the epitopes:\n",
    "* KNeighborsClassifier\n",
    "* RandomForestClassifier\n",
    "* Perceptron\n",
    "* DecisionTreeClassifier\n",
    "* LogisticRegression\n",
    "* SupportVectorClassifier\n",
    "\n",
    "We will also consider the following Cost-Sensitive models:\n",
    "* RandomForestClassifier(class_weight='balanced')\n",
    "* DecisionTreeClassifier(class_weight='balanced')\n",
    "* SupportVectorClassifier(class_weight='balanced')\n",
    "\n",
    "As a quick initial assessment of the models' performances, a confusion matrix and and and classification report will be printed as well as MCC. In this report's final modelling and evaluation stage, the best model will be selected using one of these scoring methods.\n",
    "\n",
    "\n"
   ]
  },
  {
   "cell_type": "code",
   "execution_count": 15,
   "metadata": {
    "id": "x-5E2t_LIh2b"
   },
   "outputs": [],
   "source": [
    "#Splits the data into 80 % train and 20 % test data for use in our bench models\n",
    "X_train_Bench,X_test_Bench,Y_train_Bench,Y_test_Bench = train_test_split(Features,Class, train_size = 0.8, random_state = 0)"
   ]
  },
  {
   "cell_type": "code",
   "execution_count": 16,
   "metadata": {
    "id": "hetKEsl7rTrl"
   },
   "outputs": [],
   "source": [
    "from sklearn.decomposition import PCA\n",
    "# Fitting PCA with 10 PC's on the training data set \n",
    "PCA = PCA(n_components = 10)\n",
    "PCA.fit(X_train_Bench)\n",
    "X_train_Bench_PCA = PCA.transform(X_train_Bench)"
   ]
  },
  {
   "cell_type": "code",
   "execution_count": 17,
   "metadata": {
    "id": "_JTseU08x2pb"
   },
   "outputs": [],
   "source": [
    "# Fitting PCA with 10 PC's on the testing data set\n",
    "PCA.fit(X_test_Bench)\n",
    "X_test_Bench_PCA = PCA.transform(X_test_Bench)"
   ]
  },
  {
   "cell_type": "code",
   "execution_count": 18,
   "metadata": {
    "colab": {
     "base_uri": "https://localhost:8080/"
    },
    "id": "rA7Ic4G-yISe",
    "outputId": "95164722-20c7-4c16-8a9a-347fe3f63e50"
   },
   "outputs": [
    {
     "name": "stdout",
     "output_type": "stream",
     "text": [
      "(3925, 10)\n",
      "**\n",
      "(982, 10)\n"
     ]
    }
   ],
   "source": [
    "#Confirming that the dataset has now been reduced to 10 principle components\n",
    "print(X_train_Bench_PCA.shape)\n",
    "print(\"**\")\n",
    "print(X_test_Bench_PCA.shape)"
   ]
  },
  {
   "cell_type": "code",
   "execution_count": 19,
   "metadata": {
    "id": "EyXcZrfvzAuW"
   },
   "outputs": [],
   "source": [
    "from sklearn.neighbors import KNeighborsClassifier as KNN\n",
    "knn_bench=KNN(n_neighbors=2)\n",
    "knn_bench = knn_bench.fit(X_train_Bench_PCA,Y_train_Bench)"
   ]
  },
  {
   "cell_type": "code",
   "execution_count": 20,
   "metadata": {
    "colab": {
     "base_uri": "https://localhost:8080/"
    },
    "id": "tqxg4lSG3quG",
    "outputId": "e7b1d61c-07c0-4351-d0e0-d668d422baf8"
   },
   "outputs": [
    {
     "name": "stdout",
     "output_type": "stream",
     "text": [
      "0.33396177125609333\n"
     ]
    }
   ],
   "source": [
    "y_prediction_knn_Bench=knn_bench.predict(X_test_Bench_PCA)\n",
    "#evaluate the knn using confusion matrix,precision,recall and F1 score\n",
    "from sklearn.metrics import matthews_corrcoef as MCC\n",
    "knn_bench_MCC = MCC(Y_test_Bench,y_prediction_knn_Bench)\n",
    "print(knn_bench_MCC)\n"
   ]
  },
  {
   "cell_type": "code",
   "execution_count": 21,
   "metadata": {
    "colab": {
     "base_uri": "https://localhost:8080/"
    },
    "id": "S3XG_nWEUJ7C",
    "outputId": "9768d407-4218-471b-904a-981f7e0762b4"
   },
   "outputs": [
    {
     "name": "stdout",
     "output_type": "stream",
     "text": [
      "[[627  71]\n",
      " [174 110]]\n",
      "              precision    recall  f1-score   support\n",
      "\n",
      "          -1       0.78      0.90      0.84       698\n",
      "           1       0.61      0.39      0.47       284\n",
      "\n",
      "    accuracy                           0.75       982\n",
      "   macro avg       0.70      0.64      0.65       982\n",
      "weighted avg       0.73      0.75      0.73       982\n",
      "\n"
     ]
    }
   ],
   "source": [
    "from sklearn.metrics import classification_report,confusion_matrix\n",
    "print(confusion_matrix(Y_test_Bench,y_prediction_knn_Bench))\n",
    "print(classification_report(Y_test_Bench,y_prediction_knn_Bench))"
   ]
  },
  {
   "cell_type": "code",
   "execution_count": 22,
   "metadata": {
    "colab": {
     "base_uri": "https://localhost:8080/"
    },
    "id": "WXkpzn35eznt",
    "outputId": "0ae62009-7182-4cac-dcc9-5445a103b3a6"
   },
   "outputs": [
    {
     "name": "stdout",
     "output_type": "stream",
     "text": [
      "0.31337332387601036\n"
     ]
    }
   ],
   "source": [
    "from sklearn.ensemble import RandomForestClassifier\n",
    "# define random forest classifier\n",
    "forest_bench = RandomForestClassifier( random_state=0)\n",
    "forest_bench.fit(X_train_Bench_PCA, Y_train_Bench)\n",
    "\n",
    "y_prediction_forest_bench = forest_bench.predict(X_test_Bench_PCA)\n",
    "forest_bench_MCC = MCC(Y_test_Bench,y_prediction_forest_bench)\n",
    "print(forest_bench_MCC)"
   ]
  },
  {
   "cell_type": "code",
   "execution_count": 23,
   "metadata": {
    "colab": {
     "base_uri": "https://localhost:8080/"
    },
    "id": "0FEF1S0Ek3W2",
    "outputId": "79428e34-dc06-49c3-8f97-8c607b520137"
   },
   "outputs": [
    {
     "name": "stdout",
     "output_type": "stream",
     "text": [
      "[[641  57]\n",
      " [190  94]]\n",
      "              precision    recall  f1-score   support\n",
      "\n",
      "          -1       0.77      0.92      0.84       698\n",
      "           1       0.62      0.33      0.43       284\n",
      "\n",
      "    accuracy                           0.75       982\n",
      "   macro avg       0.70      0.62      0.64       982\n",
      "weighted avg       0.73      0.75      0.72       982\n",
      "\n"
     ]
    }
   ],
   "source": [
    "print(confusion_matrix(Y_test_Bench,y_prediction_forest_bench))\n",
    "print(classification_report(Y_test_Bench,y_prediction_forest_bench))"
   ]
  },
  {
   "cell_type": "code",
   "execution_count": 24,
   "metadata": {
    "colab": {
     "base_uri": "https://localhost:8080/"
    },
    "id": "XRkE4c_-4KCf",
    "outputId": "96ba980c-4865-4d86-b7b6-d7060816a8e6"
   },
   "outputs": [
    {
     "name": "stdout",
     "output_type": "stream",
     "text": [
      "-0.0013521474414083577\n"
     ]
    }
   ],
   "source": [
    "from sklearn.linear_model import Perceptron\n",
    "\n",
    "p_bench = Perceptron() # Initialise the model we are using\n",
    "p_bench = p_bench.fit(X_train_Bench_PCA, Y_train_Bench)\n",
    "y_prediction_Perceptron_Bench = p_bench.predict(X_test_Bench_PCA)\n",
    "p_bench_MCC = MCC(Y_test_Bench,y_prediction_Perceptron_Bench)\n",
    "print(p_bench_MCC)"
   ]
  },
  {
   "cell_type": "code",
   "execution_count": 25,
   "metadata": {
    "colab": {
     "base_uri": "https://localhost:8080/"
    },
    "id": "TIwvikt-lK5v",
    "outputId": "5461047f-9758-4a76-c901-3b2c71c33a9a"
   },
   "outputs": [
    {
     "name": "stdout",
     "output_type": "stream",
     "text": [
      "[[562 136]\n",
      " [229  55]]\n",
      "              precision    recall  f1-score   support\n",
      "\n",
      "          -1       0.71      0.81      0.75       698\n",
      "           1       0.29      0.19      0.23       284\n",
      "\n",
      "    accuracy                           0.63       982\n",
      "   macro avg       0.50      0.50      0.49       982\n",
      "weighted avg       0.59      0.63      0.60       982\n",
      "\n"
     ]
    }
   ],
   "source": [
    "print(confusion_matrix(Y_test_Bench,y_prediction_Perceptron_Bench))\n",
    "print(classification_report(Y_test_Bench,y_prediction_Perceptron_Bench))"
   ]
  },
  {
   "cell_type": "code",
   "execution_count": 26,
   "metadata": {
    "id": "1JdinToc7xVb"
   },
   "outputs": [],
   "source": [
    "from sklearn.tree import DecisionTreeClassifier"
   ]
  },
  {
   "cell_type": "code",
   "execution_count": 27,
   "metadata": {
    "colab": {
     "base_uri": "https://localhost:8080/"
    },
    "id": "b8cR1zRtwrtW",
    "outputId": "335c803f-a4dc-4725-ad51-6db7dd71b96d"
   },
   "outputs": [
    {
     "name": "stdout",
     "output_type": "stream",
     "text": [
      "0.15305652121930027\n"
     ]
    }
   ],
   "source": [
    "dtmodel_bench=DecisionTreeClassifier(random_state=0)\n",
    "dtmodel_bench.fit(X_train_Bench_PCA,Y_train_Bench)\n",
    "#make prediction on our test data\n",
    "y_pred_DT_Bench=dtmodel_bench.predict(X_test_Bench_PCA)\n",
    "dtmodel_bench_MCC= MCC(Y_test_Bench, y_pred_DT_Bench)\n",
    "\n",
    "print(dtmodel_bench_MCC)"
   ]
  },
  {
   "cell_type": "code",
   "execution_count": 28,
   "metadata": {
    "colab": {
     "base_uri": "https://localhost:8080/"
    },
    "id": "EXPDt0rnlXg0",
    "outputId": "d1898f49-db17-40db-f334-487ba5c60f1e"
   },
   "outputs": [
    {
     "name": "stdout",
     "output_type": "stream",
     "text": [
      "[[497 201]\n",
      " [157 127]]\n",
      "              precision    recall  f1-score   support\n",
      "\n",
      "          -1       0.76      0.71      0.74       698\n",
      "           1       0.39      0.45      0.42       284\n",
      "\n",
      "    accuracy                           0.64       982\n",
      "   macro avg       0.57      0.58      0.58       982\n",
      "weighted avg       0.65      0.64      0.64       982\n",
      "\n"
     ]
    }
   ],
   "source": [
    "print(confusion_matrix(Y_test_Bench,y_pred_DT_Bench))\n",
    "print(classification_report(Y_test_Bench,y_pred_DT_Bench))"
   ]
  },
  {
   "cell_type": "code",
   "execution_count": 29,
   "metadata": {
    "colab": {
     "base_uri": "https://localhost:8080/"
    },
    "id": "SkLGE8vvy6Ri",
    "outputId": "e54515d9-1b93-47e9-de79-b6b892f81d80"
   },
   "outputs": [
    {
     "name": "stdout",
     "output_type": "stream",
     "text": [
      "0.2957750743562731\n"
     ]
    },
    {
     "name": "stderr",
     "output_type": "stream",
     "text": [
      "/usr/local/lib/python3.7/dist-packages/sklearn/linear_model/_logistic.py:940: ConvergenceWarning: lbfgs failed to converge (status=1):\n",
      "STOP: TOTAL NO. of ITERATIONS REACHED LIMIT.\n",
      "\n",
      "Increase the number of iterations (max_iter) or scale the data as shown in:\n",
      "    https://scikit-learn.org/stable/modules/preprocessing.html\n",
      "Please also refer to the documentation for alternative solver options:\n",
      "    https://scikit-learn.org/stable/modules/linear_model.html#logistic-regression\n",
      "  extra_warning_msg=_LOGISTIC_SOLVER_CONVERGENCE_MSG)\n"
     ]
    }
   ],
   "source": [
    "from sklearn.linear_model import LogisticRegression\n",
    "\n",
    "lrmodel_bench=LogisticRegression()\n",
    "\n",
    "lrmodel_bench.fit(X_train_Bench_PCA,Y_train_Bench)\n",
    "#make prediction on our test dat\n",
    "Y_pred_LR_BENCH=lrmodel_bench.predict(X_test_Bench_PCA)\n",
    "lrmodel_bench_MCC = MCC(Y_test_Bench, Y_pred_LR_BENCH)\n",
    "print(lrmodel_bench_MCC)"
   ]
  },
  {
   "cell_type": "code",
   "execution_count": 30,
   "metadata": {
    "colab": {
     "base_uri": "https://localhost:8080/"
    },
    "id": "X_a-yekjl7qY",
    "outputId": "b4fd3b64-8194-498d-9d29-277f15cd3b67"
   },
   "outputs": [
    {
     "name": "stdout",
     "output_type": "stream",
     "text": [
      "[[584 114]\n",
      " [158 126]]\n",
      "              precision    recall  f1-score   support\n",
      "\n",
      "          -1       0.79      0.84      0.81       698\n",
      "           1       0.53      0.44      0.48       284\n",
      "\n",
      "    accuracy                           0.72       982\n",
      "   macro avg       0.66      0.64      0.65       982\n",
      "weighted avg       0.71      0.72      0.72       982\n",
      "\n"
     ]
    }
   ],
   "source": [
    "print(confusion_matrix(Y_test_Bench,Y_pred_LR_BENCH))\n",
    "print(classification_report(Y_test_Bench,Y_pred_LR_BENCH))"
   ]
  },
  {
   "cell_type": "code",
   "execution_count": 31,
   "metadata": {
    "colab": {
     "base_uri": "https://localhost:8080/"
    },
    "id": "RXVGnoyh7_dl",
    "outputId": "743e03ff-6f97-4b9f-b28e-cba537e60311"
   },
   "outputs": [
    {
     "name": "stdout",
     "output_type": "stream",
     "text": [
      "0.3731580233814911\n"
     ]
    }
   ],
   "source": [
    "from sklearn.svm import SVC\n",
    "\n",
    "#Training the SVC model on train data\n",
    "svc_bench = SVC()\n",
    "svc_bench.fit(X_train_Bench_PCA, Y_train_Bench)\n",
    "y_pred_svc_bench = svc_bench.predict(X_test_Bench_PCA)\n",
    "\n",
    "svc_bench_MCC = MCC(Y_test_Bench,y_pred_svc_bench)\n",
    "\n",
    "print(svc_bench_MCC)"
   ]
  },
  {
   "cell_type": "code",
   "execution_count": 32,
   "metadata": {
    "colab": {
     "base_uri": "https://localhost:8080/"
    },
    "id": "jhm9VtbZYhLw",
    "outputId": "a43cc0b6-6b15-4dcb-ecab-324736b5c280"
   },
   "outputs": [
    {
     "name": "stdout",
     "output_type": "stream",
     "text": [
      "[[628  70]\n",
      " [163 121]]\n",
      "              precision    recall  f1-score   support\n",
      "\n",
      "          -1       0.79      0.90      0.84       698\n",
      "           1       0.63      0.43      0.51       284\n",
      "\n",
      "    accuracy                           0.76       982\n",
      "   macro avg       0.71      0.66      0.68       982\n",
      "weighted avg       0.75      0.76      0.75       982\n",
      "\n"
     ]
    }
   ],
   "source": [
    "print(confusion_matrix(Y_test_Bench,y_pred_svc_bench))\n",
    "print(classification_report(Y_test_Bench,y_pred_svc_bench))"
   ]
  },
  {
   "cell_type": "markdown",
   "metadata": {
    "id": "uJWDinRdJrhc"
   },
   "source": [
    "### Cost-Sensitive Models"
   ]
  },
  {
   "cell_type": "code",
   "execution_count": 33,
   "metadata": {
    "colab": {
     "base_uri": "https://localhost:8080/"
    },
    "id": "HuBxT4mhJqkw",
    "outputId": "17405750-a565-49a9-9c3a-5efdf69ce11c"
   },
   "outputs": [
    {
     "name": "stdout",
     "output_type": "stream",
     "text": [
      "0.2763343750317612\n"
     ]
    }
   ],
   "source": [
    "# define class sensitive random forest classifier\n",
    "forest_balanced = RandomForestClassifier( class_weight='balanced', random_state=0)\n",
    "forest_balanced.fit(X_train_Bench_PCA, Y_train_Bench)\n",
    "\n",
    "y_prediction_forest_bench_balanced = forest_balanced.predict(X_test_Bench_PCA)\n",
    "\n",
    "forest_bal_bench_MCC = MCC(Y_test_Bench,y_prediction_forest_bench_balanced)\n",
    "\n",
    "print(forest_bal_bench_MCC)"
   ]
  },
  {
   "cell_type": "code",
   "execution_count": 34,
   "metadata": {
    "colab": {
     "base_uri": "https://localhost:8080/"
    },
    "id": "c5xggxPqKMvh",
    "outputId": "128978f8-0ded-482f-a16b-6c0a1ceecd7d"
   },
   "outputs": [
    {
     "name": "stdout",
     "output_type": "stream",
     "text": [
      "[[653  45]\n",
      " [209  75]]\n",
      "              precision    recall  f1-score   support\n",
      "\n",
      "          -1       0.76      0.94      0.84       698\n",
      "           1       0.62      0.26      0.37       284\n",
      "\n",
      "    accuracy                           0.74       982\n",
      "   macro avg       0.69      0.60      0.60       982\n",
      "weighted avg       0.72      0.74      0.70       982\n",
      "\n"
     ]
    }
   ],
   "source": [
    "print(confusion_matrix(Y_test_Bench,y_prediction_forest_bench_balanced))\n",
    "print(classification_report(Y_test_Bench,y_prediction_forest_bench_balanced))"
   ]
  },
  {
   "cell_type": "code",
   "execution_count": 35,
   "metadata": {
    "colab": {
     "base_uri": "https://localhost:8080/"
    },
    "id": "ysMMYvGNKoqr",
    "outputId": "a06335b1-1a8c-452b-fe88-e798b6eb72c9"
   },
   "outputs": [
    {
     "name": "stdout",
     "output_type": "stream",
     "text": [
      "0.22382854098839597\n"
     ]
    }
   ],
   "source": [
    "dtmodel_balanced=DecisionTreeClassifier(class_weight='balanced',random_state=0)\n",
    "dtmodel_balanced.fit(X_train_Bench_PCA,Y_train_Bench)\n",
    "#make prediction on our test data\n",
    "y_pred_DT_Bench_balanced=dtmodel_balanced.predict(X_test_Bench_PCA)\n",
    "\n",
    "dtmodel_bal_bench_MCC = MCC(Y_test_Bench, y_pred_DT_Bench_balanced)\n",
    "print(dtmodel_bal_bench_MCC)"
   ]
  },
  {
   "cell_type": "code",
   "execution_count": 36,
   "metadata": {
    "colab": {
     "base_uri": "https://localhost:8080/"
    },
    "id": "8LoVuli2Kkad",
    "outputId": "6f8c270e-d3eb-49b8-ecda-de53afba6198"
   },
   "outputs": [
    {
     "name": "stdout",
     "output_type": "stream",
     "text": [
      "[[536 162]\n",
      " [154 130]]\n",
      "              precision    recall  f1-score   support\n",
      "\n",
      "          -1       0.78      0.77      0.77       698\n",
      "           1       0.45      0.46      0.45       284\n",
      "\n",
      "    accuracy                           0.68       982\n",
      "   macro avg       0.61      0.61      0.61       982\n",
      "weighted avg       0.68      0.68      0.68       982\n",
      "\n"
     ]
    }
   ],
   "source": [
    "print(confusion_matrix(Y_test_Bench,y_pred_DT_Bench_balanced))\n",
    "print(classification_report(Y_test_Bench,y_pred_DT_Bench_balanced))"
   ]
  },
  {
   "cell_type": "code",
   "execution_count": 37,
   "metadata": {
    "colab": {
     "base_uri": "https://localhost:8080/"
    },
    "id": "5h414xrBYOtL",
    "outputId": "61349ad5-e25e-4daa-dc2c-9560ca26a23a"
   },
   "outputs": [
    {
     "name": "stdout",
     "output_type": "stream",
     "text": [
      "0.41326085970226845\n"
     ]
    }
   ],
   "source": [
    "#Training the SVC model on train data\n",
    "svc_bench_balanced = SVC(random_state=0, class_weight='balanced')\n",
    "svc_bench_balanced.fit(X_train_Bench_PCA, Y_train_Bench)\n",
    "y_pred_svc_bench_balanced = svc_bench_balanced.predict(X_test_Bench_PCA)\n",
    "\n",
    "svc_bal_bench_MCC = MCC(Y_test_Bench,y_pred_svc_bench_balanced)\n",
    "\n",
    "print(svc_bal_bench_MCC)"
   ]
  },
  {
   "cell_type": "code",
   "execution_count": 38,
   "metadata": {
    "colab": {
     "base_uri": "https://localhost:8080/"
    },
    "id": "7zP_givjZCnU",
    "outputId": "b0e97f18-db06-483e-a2c0-d69f09bcf73d"
   },
   "outputs": [
    {
     "name": "stdout",
     "output_type": "stream",
     "text": [
      "[[538 160]\n",
      " [ 95 189]]\n",
      "              precision    recall  f1-score   support\n",
      "\n",
      "          -1       0.85      0.77      0.81       698\n",
      "           1       0.54      0.67      0.60       284\n",
      "\n",
      "    accuracy                           0.74       982\n",
      "   macro avg       0.70      0.72      0.70       982\n",
      "weighted avg       0.76      0.74      0.75       982\n",
      "\n"
     ]
    }
   ],
   "source": [
    "print(confusion_matrix(Y_test_Bench,y_pred_svc_bench_balanced))\n",
    "print(classification_report(Y_test_Bench,y_pred_svc_bench_balanced))"
   ]
  },
  {
   "cell_type": "markdown",
   "metadata": {
    "id": "Skh1FDlC5b2a"
   },
   "source": [
    "# DATA PREPROCESSING"
   ]
  },
  {
   "cell_type": "markdown",
   "metadata": {
    "id": "vC7ES2yIN3l5"
   },
   "source": [
    "In this section of the report, we will address some of our data set's characteristics to improve models. From data exploration, we have discovered that the data :\n",
    "* Is not normally distributed\n",
    "* May contain outliers\n",
    "* Is imbalanced in favour of negative epitopes\n",
    "\n",
    "The first step in our data pre-processing is to address any potential data quality issues. Further examination of the data shows no duplicate data, nor are there any missing values. This is important, as duplicate values would have to be removed beforehand if they were present as they can affect our models. Since this data set comprises the merging of data from two different sources, it is important to rule out any data that is duplicate or near-duplicate. If there were any missing values present, a decision would have to be made on addressing these. Some methods can include imputing mean/median values; however, significant missing values might be better served by removing the responsible data object if possible."
   ]
  },
  {
   "cell_type": "code",
   "execution_count": 39,
   "metadata": {
    "id": "vVabnBg9pshl"
   },
   "outputs": [],
   "source": [
    "X_train,X_test,Y_train,Y_test = train_test_split(Features,Class, train_size = 0.8, random_state = 0)"
   ]
  },
  {
   "cell_type": "markdown",
   "metadata": {
    "id": "LUfgE9A_DgxJ"
   },
   "source": [
    "## Dupplicate values"
   ]
  },
  {
   "cell_type": "code",
   "execution_count": 40,
   "metadata": {
    "colab": {
     "base_uri": "https://localhost:8080/"
    },
    "id": "lDGsXAKW5iya",
    "outputId": "f23706b0-ba46-476c-f9b7-a5bc952cc783"
   },
   "outputs": [
    {
     "data": {
      "text/plain": [
       "(0, 451)"
      ]
     },
     "execution_count": 40,
     "metadata": {
      "tags": []
     },
     "output_type": "execute_result"
    }
   ],
   "source": [
    "duplicate_data = DataFrame[DataFrame.duplicated(keep=False)]\n",
    "duplicate_data.shape"
   ]
  },
  {
   "cell_type": "code",
   "execution_count": 41,
   "metadata": {
    "colab": {
     "base_uri": "https://localhost:8080/"
    },
    "id": "yecbOUCb6Af7",
    "outputId": "c29d1c0b-6716-479f-e650-5b24740e9271"
   },
   "outputs": [
    {
     "data": {
      "text/plain": [
       "0"
      ]
     },
     "execution_count": 41,
     "metadata": {
      "tags": []
     },
     "output_type": "execute_result"
    }
   ],
   "source": [
    "DataFrame.duplicated(keep=False).sum()"
   ]
  },
  {
   "cell_type": "markdown",
   "metadata": {
    "id": "eoGomB-_Mj8I"
   },
   "source": [
    "## Missing values"
   ]
  },
  {
   "cell_type": "code",
   "execution_count": 42,
   "metadata": {
    "colab": {
     "base_uri": "https://localhost:8080/"
    },
    "id": "gyDjxUbf6w4X",
    "outputId": "2a8fd5a4-4137-4984-b7de-5254dac0a7e6"
   },
   "outputs": [
    {
     "data": {
      "text/plain": [
       "feat_Perc_Y    0\n",
       "feat_CT126     0\n",
       "feat_CT112     0\n",
       "feat_CT113     0\n",
       "feat_CT114     0\n",
       "feat_CT115     0\n",
       "feat_CT116     0\n",
       "feat_CT120     0\n",
       "feat_CT121     0\n",
       "feat_CT122     0\n",
       "dtype: int64"
      ]
     },
     "execution_count": 42,
     "metadata": {
      "tags": []
     },
     "output_type": "execute_result"
    }
   ],
   "source": [
    "X_train.isnull().sum().sort_values(ascending = False).head(10)"
   ]
  },
  {
   "cell_type": "code",
   "execution_count": 43,
   "metadata": {
    "colab": {
     "base_uri": "https://localhost:8080/"
    },
    "id": "MOpBQBDGwrBs",
    "outputId": "9ac41bf4-bde4-42bf-9b46-e866cbe5a9a3"
   },
   "outputs": [
    {
     "data": {
      "text/plain": [
       "feat_Perc_Y    0\n",
       "feat_CT126     0\n",
       "feat_CT112     0\n",
       "feat_CT113     0\n",
       "feat_CT114     0\n",
       "feat_CT115     0\n",
       "feat_CT116     0\n",
       "feat_CT120     0\n",
       "feat_CT121     0\n",
       "feat_CT122     0\n",
       "dtype: int64"
      ]
     },
     "execution_count": 43,
     "metadata": {
      "tags": []
     },
     "output_type": "execute_result"
    }
   ],
   "source": [
    "X_test.isnull().sum().sort_values(ascending = False).head(10)"
   ]
  },
  {
   "cell_type": "markdown",
   "metadata": {
    "id": "_1_BFC5LgrJ8"
   },
   "source": [
    "## Sampling"
   ]
  },
  {
   "cell_type": "markdown",
   "metadata": {
    "id": "JefZOkCQWaur"
   },
   "source": [
    "Since we have discovered an imbalance issue present in our data set, this has to be addressed. As part of our solution, we will examine both cost-sensitive and non-cost sensitive models. As the name suggests, cost-sensitive models take into account the class weight and address imbalances. The cost-sensitive models used in this report all have a cost-sensitive extension, which will be used to build a balanced model. For the models that will run without this extension, the imbalance has to be addressed differently. We will be using the SMOTE oversampling technique to create additional data variables of the minority(positive) class. [1]"
   ]
  },
  {
   "cell_type": "code",
   "execution_count": 44,
   "metadata": {
    "colab": {
     "base_uri": "https://localhost:8080/"
    },
    "id": "kC5dZTNUjgQB",
    "outputId": "93910486-e9b3-4c7f-f9df-c8487d190956"
   },
   "outputs": [
    {
     "name": "stderr",
     "output_type": "stream",
     "text": [
      "/usr/local/lib/python3.7/dist-packages/sklearn/externals/six.py:31: FutureWarning: The module is deprecated in version 0.21 and will be removed in version 0.23 since we've dropped support for Python 2.7. Please rely on the official version of six (https://pypi.org/project/six/).\n",
      "  \"(https://pypi.org/project/six/).\", FutureWarning)\n",
      "/usr/local/lib/python3.7/dist-packages/sklearn/utils/deprecation.py:144: FutureWarning: The sklearn.neighbors.base module is  deprecated in version 0.22 and will be removed in version 0.24. The corresponding classes / functions should instead be imported from sklearn.neighbors. Anything that cannot be imported from sklearn.neighbors is now part of the private API.\n",
      "  warnings.warn(message, FutureWarning)\n",
      "/usr/local/lib/python3.7/dist-packages/sklearn/utils/deprecation.py:87: FutureWarning: Function safe_indexing is deprecated; safe_indexing is deprecated in version 0.22 and will be removed in version 0.24.\n",
      "  warnings.warn(msg, category=FutureWarning)\n"
     ]
    },
    {
     "name": "stdout",
     "output_type": "stream",
     "text": [
      "Oversampled feature data shape: (5440, 445)\n",
      "Oversampled Class data shape: (5440,)\n"
     ]
    }
   ],
   "source": [
    "from imblearn.over_sampling import SMOTE\n",
    "oversample=SMOTE()\n",
    "X_train_OS,Y_train_OS =oversample.fit_resample(X_train,Y_train)\n",
    "print('Oversampled feature data shape: '+str(X_train_OS.shape))\n",
    "print('Oversampled Class data shape: '+str(Y_train_OS.shape))"
   ]
  },
  {
   "cell_type": "code",
   "execution_count": 45,
   "metadata": {
    "colab": {
     "base_uri": "https://localhost:8080/"
    },
    "id": "d4efAuDxvfVd",
    "outputId": "4d1e831e-55b0-4aaf-b258-e506c98329f6"
   },
   "outputs": [
    {
     "data": {
      "text/plain": [
       "-1    2720\n",
       " 1    2720\n",
       "dtype: int64"
      ]
     },
     "execution_count": 45,
     "metadata": {
      "tags": []
     },
     "output_type": "execute_result"
    }
   ],
   "source": [
    "#Use pandas value counts to check that the class data set is now balanced\n",
    "pd.value_counts(Y_train_OS)"
   ]
  },
  {
   "cell_type": "markdown",
   "metadata": {
    "id": "DYpdFqMxlw4c"
   },
   "source": [
    "## Scaling"
   ]
  },
  {
   "cell_type": "markdown",
   "metadata": {
    "id": "KgGZnaVMRsgk"
   },
   "source": [
    "In this section, we use RobustScaler to scale and fit our training and test sets. This is an essential step and decision for the pre-processing of our data. The RobustScaler allows for standardisation of the datasets without being affected too much by any potential outliers. Our earlier data exploration showed that our dataset did contain outliers, making this the most suitable choice for scaling our data. [1]\n",
    "\n",
    "RobustScaler can be robust to the effects of outliers by removing the median and scaling the data but the interquartile range. Many machine learning estimators perform better when a dataset has been standardised. It's usually done by eliminating the mean and scaling the data down to unit variances. Outliers, on the other hand, might have a negative impact on the sample mean/variance. As a result, the median and the interquartile range are typically more useful in such instances. [1]"
   ]
  },
  {
   "cell_type": "code",
   "execution_count": 46,
   "metadata": {
    "colab": {
     "base_uri": "https://localhost:8080/"
    },
    "id": "Bn3vtq19l0TN",
    "outputId": "9a462b4f-0312-4752-cd84-369db8198eb0"
   },
   "outputs": [
    {
     "data": {
      "text/plain": [
       "<bound method NDFrame.describe of            0    1         2     3     4    ...  440  441  442       443  444\n",
       "0     0.584963  1.4  0.705882  0.00 -0.75  ...  0.0  0.0  0.0  0.066667  2.0\n",
       "1    -0.333333 -0.3 -0.058824  0.25 -0.50  ...  0.0  0.5  2.0  0.000000  0.0\n",
       "2    -0.540852  0.6 -0.705882 -0.50  0.50  ...  1.0 -0.5 -1.0  0.000000  4.0\n",
       "3    -0.349978  1.0  0.764706  0.25  1.25  ...  0.0  0.0 -1.0  0.000000  1.0\n",
       "4     0.125815  0.7  0.411765 -0.25  0.75  ...  0.5  0.5 -1.0  0.000000  0.0\n",
       "...        ...  ...       ...   ...   ...  ...  ...  ...  ...       ...  ...\n",
       "3920 -0.540852  0.5  0.764706  0.25  0.00  ...  0.0 -0.5 -1.0  0.000000  0.0\n",
       "3921  0.000000 -0.1  0.000000 -0.50  0.00  ...  1.0  0.5  2.0  0.000000  0.0\n",
       "3922  0.251629  0.5  0.235294  0.50 -0.25  ...  0.0 -0.5 -1.0  0.000000  0.0\n",
       "3923  0.333333 -0.1  0.294118  0.75  0.00  ...  0.0 -0.5  0.0  0.000000  0.0\n",
       "3924  0.125815 -0.6 -0.764706 -0.25  0.25  ...  0.0  0.0 -1.0  0.000000  0.0\n",
       "\n",
       "[3925 rows x 445 columns]>"
      ]
     },
     "execution_count": 46,
     "metadata": {
      "tags": []
     },
     "output_type": "execute_result"
    }
   ],
   "source": [
    "from sklearn.preprocessing import RobustScaler\n",
    "\n",
    "X_train = pd.DataFrame(RobustScaler().fit_transform(X_train))\n",
    "X_train.describe"
   ]
  },
  {
   "cell_type": "code",
   "execution_count": 47,
   "metadata": {
    "colab": {
     "base_uri": "https://localhost:8080/"
    },
    "id": "E0okXox4m2HC",
    "outputId": "7e553259-b389-455d-b12a-881673efe112"
   },
   "outputs": [
    {
     "data": {
      "text/plain": [
       "<bound method NDFrame.describe of           0         1       2     3     4    ...  440  441  442  443       444\n",
       "0   -0.459148  0.111111  0.0625  0.50  0.50  ... -0.5  0.0 -1.0  0.0  0.000000\n",
       "1   -0.251629  0.666667  1.1250  0.75  0.50  ... -0.5  0.0 -1.0  0.0  0.000000\n",
       "2    0.333333 -0.555556 -0.1250 -0.25 -0.25  ...  0.0  0.0  0.0  0.0  0.000000\n",
       "3    0.874185  0.111111 -0.5625 -0.50  0.25  ...  1.0 -0.5  0.0  0.0  0.066667\n",
       "4    0.000000 -1.444444 -0.8125  0.00 -1.50  ...  0.5 -0.5  0.0  0.0  0.000000\n",
       "..        ...       ...     ...   ...   ...  ...  ...  ...  ...  ...       ...\n",
       "977 -1.377444  1.111111  1.3125  0.50  1.25  ... -0.5 -0.5 -1.0  0.0  0.000000\n",
       "978  0.207519 -1.333333 -1.3750 -0.75 -0.25  ...  1.5  0.0  0.0  0.0  0.000000\n",
       "979 -1.459148  1.000000  1.3125  0.50  1.00  ... -0.5 -0.5 -1.0  0.0  0.000000\n",
       "980 -0.710777 -0.555556 -0.2500 -0.75  0.75  ...  1.0  1.0  1.0  0.0  0.000000\n",
       "981  1.000000  0.666667  0.0000 -0.25  0.75  ... -0.5  0.0 -1.0  0.0  0.133333\n",
       "\n",
       "[982 rows x 445 columns]>"
      ]
     },
     "execution_count": 47,
     "metadata": {
      "tags": []
     },
     "output_type": "execute_result"
    }
   ],
   "source": [
    "X_test = pd.DataFrame(RobustScaler().fit_transform(X_test))\n",
    "X_test.describe"
   ]
  },
  {
   "cell_type": "code",
   "execution_count": 48,
   "metadata": {
    "colab": {
     "base_uri": "https://localhost:8080/"
    },
    "id": "2DAWPS0zarlZ",
    "outputId": "847bbde7-08f1-4a25-9d90-77d81173195e"
   },
   "outputs": [
    {
     "data": {
      "text/plain": [
       "<bound method NDFrame.describe of            0    1         2     3     4    ...  440  441  442       443  444\n",
       "0     0.584963  1.4  0.705882  0.00 -0.75  ...  0.0  0.0  0.0  0.066667  2.0\n",
       "1    -0.333333 -0.3 -0.058824  0.25 -0.50  ...  0.0  0.5  2.0  0.000000  0.0\n",
       "2    -0.540852  0.6 -0.705882 -0.50  0.50  ...  1.0 -0.5 -1.0  0.000000  4.0\n",
       "3    -0.349978  1.0  0.764706  0.25  1.25  ...  0.0  0.0 -1.0  0.000000  1.0\n",
       "4     0.125815  0.7  0.411765 -0.25  0.75  ...  0.5  0.5 -1.0  0.000000  0.0\n",
       "...        ...  ...       ...   ...   ...  ...  ...  ...  ...       ...  ...\n",
       "3920 -0.540852  0.5  0.764706  0.25  0.00  ...  0.0 -0.5 -1.0  0.000000  0.0\n",
       "3921  0.000000 -0.1  0.000000 -0.50  0.00  ...  1.0  0.5  2.0  0.000000  0.0\n",
       "3922  0.251629  0.5  0.235294  0.50 -0.25  ...  0.0 -0.5 -1.0  0.000000  0.0\n",
       "3923  0.333333 -0.1  0.294118  0.75  0.00  ...  0.0 -0.5  0.0  0.000000  0.0\n",
       "3924  0.125815 -0.6 -0.764706 -0.25  0.25  ...  0.0  0.0 -1.0  0.000000  0.0\n",
       "\n",
       "[3925 rows x 445 columns]>"
      ]
     },
     "execution_count": 48,
     "metadata": {
      "tags": []
     },
     "output_type": "execute_result"
    }
   ],
   "source": [
    "X_train_OS = pd.DataFrame(RobustScaler().fit_transform(X_train_OS))\n",
    "X_train.describe"
   ]
  },
  {
   "cell_type": "markdown",
   "metadata": {
    "id": "yjHUVXUjir_5"
   },
   "source": [
    "## Feature extraction "
   ]
  },
  {
   "cell_type": "markdown",
   "metadata": {
    "id": "77ImK-HYPQxa"
   },
   "source": [
    "### Correlated features"
   ]
  },
  {
   "cell_type": "code",
   "execution_count": 49,
   "metadata": {
    "colab": {
     "base_uri": "https://localhost:8080/"
    },
    "id": "RyY2p9JhNajC",
    "outputId": "5a064bb3-bfdb-404b-b38f-9edaa9a3f352"
   },
   "outputs": [
    {
     "name": "stdout",
     "output_type": "stream",
     "text": [
      "22\n",
      "{'feat_MSWHIM1', 'feat_ST1', 'feat_CT201', 'feat_CT143', 'feat_ST6', 'feat_BLOSUM3', 'feat_VHSE2', 'feat_F2', 'feat_T1', 'feat_BLOSUM1', 'feat_CT010', 'feat_ProtFP2', 'feat_Perc_M', 'feat_CT512', 'feat_CT104', 'feat_PP1', 'feat_F3', 'feat_Perc_Polar', 'feat_VHSE1', 'feat_KF2', 'feat_VHSE3', 'feat_Perc_P'}\n"
     ]
    }
   ],
   "source": [
    "corr_features = set()\n",
    "corr_matrix = Features.corr()\n",
    "\n",
    "for i in range(len(corr_matrix .columns)):\n",
    "    for j in range(i):\n",
    "        if abs(corr_matrix.iloc[i, j]) > 0.9:\n",
    "            colname = corr_matrix.columns[i]\n",
    "            corr_features.add(colname)\n",
    "print(len(corr_features))\n",
    "print(corr_features)"
   ]
  },
  {
   "cell_type": "markdown",
   "metadata": {
    "id": "A2SWE9okVa2k"
   },
   "source": [
    "From a simple analysis of features in the data set, we can see that 22 features are highly correlated at 90% and above. This indicates that our models can benefit significantly from dimensionality reduction and feature extraction."
   ]
  },
  {
   "cell_type": "markdown",
   "metadata": {
    "id": "WzMBhOBKjZAV"
   },
   "source": [
    "PCA"
   ]
  },
  {
   "cell_type": "markdown",
   "metadata": {
    "id": "hLplRDJklrIy"
   },
   "source": [
    "We utilise PCA in this report (Principal Component Analysis). Features may be extracted using PCA, a linear algebra method. As a result, it creates a new set of components called principal components. Then, as a linear combination of the original characteristics, these new qualities are ranked by the amount of variation they explain the data. In this way, we may pick a sufficient number of PCs to account for the variance in our data. [7]"
   ]
  },
  {
   "cell_type": "code",
   "execution_count": 50,
   "metadata": {
    "colab": {
     "base_uri": "https://localhost:8080/",
     "height": 684
    },
    "id": "oedpD6o4g1vE",
    "outputId": "08b0f86e-e2c8-4de4-9db5-4a28537e059b"
   },
   "outputs": [
    {
     "data": {
      "text/plain": [
       "<matplotlib.legend.Legend at 0x7fc1e23b5f50>"
      ]
     },
     "execution_count": 50,
     "metadata": {
      "tags": []
     },
     "output_type": "execute_result"
    },
    {
     "name": "stderr",
     "output_type": "stream",
     "text": [
      "findfont: Font family ['Cambria'] not found. Falling back to DejaVu Sans.\n"
     ]
    },
    {
     "data": {
      "image/png": "[encoded data removed]",
      "text/plain": [
       "<Figure size 1080x720 with 1 Axes>"
      ]
     },
     "metadata": {
      "needs_background": "light",
      "tags": []
     },
     "output_type": "display_data"
    }
   ],
   "source": [
    "#Running a pca on the oversampled dataset \n",
    "from sklearn.decomposition import PCA\n",
    "\n",
    "pca = PCA()\n",
    "train_pca_OS = pca.fit_transform(X_train_OS)\n",
    "cum_var = np.cumsum(pca.explained_variance_ratio_)*100\n",
    "d = [n for n in range(len(cum_var))]\n",
    "\n",
    "plt.figure(figsize=(15, 10))\n",
    "plt.plot(d,cum_var, color = 'b',label='Cumulative Explained Variance')\n",
    "plt.title('\\nFigure 5. \\nPrincipal Component Analysis', fontname=\"Cambria\", fontsize=18)\n",
    "plt.ylabel('Cumulative Explained variance')\n",
    "plt.xlabel('Number of features')\n",
    "\n",
    "plt.axhline(y = 99, color='k', linestyle='--', label = '99% Explained Variance')\n",
    "plt.axvline(x = 13, color='k', linestyle='--', label = '15 Features')\n",
    "plt.legend(loc='best')"
   ]
  },
  {
   "cell_type": "code",
   "execution_count": 51,
   "metadata": {
    "colab": {
     "base_uri": "https://localhost:8080/",
     "height": 684
    },
    "id": "n8aagxCAxDhJ",
    "outputId": "26d67c7d-4ad6-4a6f-a096-0988d2d3ecbc"
   },
   "outputs": [
    {
     "data": {
      "text/plain": [
       "<matplotlib.legend.Legend at 0x7fc1e238ce10>"
      ]
     },
     "execution_count": 51,
     "metadata": {
      "tags": []
     },
     "output_type": "execute_result"
    },
    {
     "data": {
      "image/png": "[encoded data removed]",
      "text/plain": [
       "<Figure size 1080x720 with 1 Axes>"
      ]
     },
     "metadata": {
      "needs_background": "light",
      "tags": []
     },
     "output_type": "display_data"
    }
   ],
   "source": [
    "#Running a pca on the dataset that is not oversampled\n",
    "pca = PCA()\n",
    "train_pca = pca.fit_transform(X_train)\n",
    "cum_var = np.cumsum(pca.explained_variance_ratio_)*100\n",
    "d = [n for n in range(len(cum_var))]\n",
    "\n",
    "plt.figure(figsize=(15, 10))\n",
    "plt.plot(d,cum_var, color = 'b',label='Cumulative Explained Variance')\n",
    "plt.title('\\nFigure 5. \\nPrincipal Component Analysis', fontname=\"Cambria\", fontsize=18)\n",
    "plt.ylabel('Cumulative Explained variance')\n",
    "plt.xlabel('Number of features')\n",
    "\n",
    "plt.axhline(y = 99, color='k', linestyle='--', label = '99% Explained Variance')\n",
    "plt.axvline(x = 15, color='k', linestyle='--', label = '15 Features')\n",
    "plt.legend(loc='best')"
   ]
  },
  {
   "cell_type": "code",
   "execution_count": 52,
   "metadata": {
    "id": "BYIsMK47wRrw"
   },
   "outputs": [],
   "source": [
    "pca1 = PCA(n_components = 15)\n",
    "train_pca = pca1.fit_transform(X_train)\n"
   ]
  },
  {
   "cell_type": "code",
   "execution_count": 53,
   "metadata": {
    "id": "kBV-gTUqxeiu"
   },
   "outputs": [],
   "source": [
    "pca2 = PCA(n_components = 15)\n",
    "train_pca_OS = pca2.fit_transform(X_train_OS)"
   ]
  },
  {
   "cell_type": "code",
   "execution_count": 54,
   "metadata": {
    "colab": {
     "base_uri": "https://localhost:8080/"
    },
    "id": "5sja2Tndkv4_",
    "outputId": "9110aa54-65f7-4bf6-d991-8015e08adf04"
   },
   "outputs": [
    {
     "name": "stdout",
     "output_type": "stream",
     "text": [
      "Oversampled explained variance ratio:\n",
      "\n",
      " [0.68306185 0.11196366 0.06262051 0.03038903 0.02166279 0.02053831\n",
      " 0.01458857 0.01139591 0.00864343 0.00682213 0.00626165 0.00523201\n",
      " 0.00391172 0.00315425 0.00282944]\n",
      "\n",
      "sum of explained variance ratio for Oversampled PCA:\n",
      "\n",
      " 0.993075271579242\n"
     ]
    }
   ],
   "source": [
    "print(\"Oversampled explained variance ratio:\\n\\n\", pca2.explained_variance_ratio_)\n",
    "print(\"\\nsum of explained variance ratio for Oversampled PCA:\\n\\n\",sum(pca2.explained_variance_ratio_))"
   ]
  },
  {
   "cell_type": "code",
   "execution_count": 55,
   "metadata": {
    "colab": {
     "base_uri": "https://localhost:8080/",
     "height": 877
    },
    "id": "3CnkQbMBi68B",
    "outputId": "6f7e8ad6-b727-40f0-d22f-d81617011caa"
   },
   "outputs": [
    {
     "data": {
      "image/png": "[encoded data removed]",
      "text/plain": [
       "<Figure size 1080x1080 with 1 Axes>"
      ]
     },
     "metadata": {
      "needs_background": "light",
      "tags": []
     },
     "output_type": "display_data"
    }
   ],
   "source": [
    "import seaborn as sns\n",
    "#Oversampled data\n",
    "#calculating the explained variance ratio for each component\n",
    "explained_var_ratio = pd.DataFrame({'explained variance':pca2.explained_variance_ratio_,\n",
    "             'PC':['pc1','pc2','pc3','pc4','pc5','pc6',\n",
    "                  'pc7','pc8','pc9','pc10','pc11','pc12','pc13','pc14','pc15']})\n",
    "plt.figure(figsize= (15,15))\n",
    "# plotting the ratio of the explained ratio each comonent accounts for \n",
    "sns.barplot(x='PC',y=\"explained variance\", \n",
    "           data=explained_var_ratio, color=\"c\");"
   ]
  },
  {
   "cell_type": "code",
   "execution_count": 56,
   "metadata": {
    "colab": {
     "base_uri": "https://localhost:8080/",
     "height": 877
    },
    "id": "CHOTk2JVythq",
    "outputId": "8fcf8171-5c29-4dfc-e9da-b2efc8496e11"
   },
   "outputs": [
    {
     "data": {
      "image/png": "[encoded data removed]",
      "text/plain": [
       "<Figure size 1080x1080 with 1 Axes>"
      ]
     },
     "metadata": {
      "needs_background": "light",
      "tags": []
     },
     "output_type": "display_data"
    }
   ],
   "source": [
    "#not oversampled\n",
    "#calculating the explained variance ratio for each component\n",
    "explained_var_ratio = pd.DataFrame({'explained variance':pca1.explained_variance_ratio_,\n",
    "             'PC':['pc1','pc2','pc3','pc4','pc5','pc6',\n",
    "                  'pc7','pc8','pc9','pc10','pc11','pc12','pc13','pc14','pc15']})\n",
    "plt.figure(figsize= (15,15))\n",
    "# plotting the ratio of the explained ratio each comonent accounts for \n",
    "sns.barplot(x='PC',y=\"explained variance\", \n",
    "           data=explained_var_ratio, color=\"c\");"
   ]
  },
  {
   "cell_type": "markdown",
   "metadata": {
    "id": "LuYeTIxkM4l7"
   },
   "source": [
    "The above charts and graphs show that running PCA on the oversampled and non-oversampled data produces slightly different results. The oversampled dataset needs fewer Principal Components to explain 99% of the variance (13 vs 15). This is expected as the oversampled dataset contains more duplicates to make up for the imbalance; these duplicates would all be easier to explain through the principal components. As we are not oversampling our test data set, we will continue to the next stage with 15 PCs for our modelling."
   ]
  },
  {
   "cell_type": "markdown",
   "metadata": {
    "id": "dbTVwk6DnuGh"
   },
   "source": [
    "# Modelling"
   ]
  },
  {
   "cell_type": "markdown",
   "metadata": {
    "id": "tUYMr_HxnxgM"
   },
   "source": [
    "KNN"
   ]
  },
  {
   "cell_type": "markdown",
   "metadata": {
    "id": "nFnk1RC9V6gm"
   },
   "source": [
    "The letter K in the classifier's name stands for the k nearest neighbours, where k is an integer number given by the user. As a result, as the name implies, this classifier employs learning based on the k nearest neighbours. The data determine the value of k.[1] As our dependant variable(Class) has two possible values, the number of nearest neighbours used in our project is 2.\n",
    "\n",
    "Another variable that can affect the performance of this classifier is distance weighting. [1] We have chosen to keep this variable as its default, \"uniform\" in our modelling process. This is done deliberately because other measures have been taken to address imbalances, such as SMOTE."
   ]
  },
  {
   "cell_type": "code",
   "execution_count": 57,
   "metadata": {
    "id": "jSw4qO73zuoq"
   },
   "outputs": [],
   "source": [
    "test_pca = pca1.fit_transform(X_test)"
   ]
  },
  {
   "cell_type": "code",
   "execution_count": 58,
   "metadata": {
    "id": "YFoAjbpSbYpF"
   },
   "outputs": [],
   "source": [
    "test_pca_OS = pca2.fit_transform(X_test)"
   ]
  },
  {
   "cell_type": "code",
   "execution_count": 59,
   "metadata": {
    "colab": {
     "base_uri": "https://localhost:8080/"
    },
    "id": "iX4KWbfolGup",
    "outputId": "10b3ce48-732e-44fa-b6c1-246326c25089"
   },
   "outputs": [
    {
     "name": "stdout",
     "output_type": "stream",
     "text": [
      "0.18166426195839575\n"
     ]
    }
   ],
   "source": [
    "\n",
    "knn2=KNN(n_neighbors=2)\n",
    "knn2 = knn2.fit(train_pca_OS,Y_train_OS)\n",
    "\n",
    "y_prediction_knn=knn2.predict(test_pca_OS)\n",
    "\n",
    "knn_MCC = MCC(Y_test,y_prediction_knn)\n",
    "print(knn_MCC)\n",
    "\n"
   ]
  },
  {
   "cell_type": "code",
   "execution_count": 60,
   "metadata": {
    "colab": {
     "base_uri": "https://localhost:8080/"
    },
    "id": "9wREyPGCUd0j",
    "outputId": "a3ad4e9a-2598-4caa-e8d7-704f3be594b2"
   },
   "outputs": [
    {
     "name": "stdout",
     "output_type": "stream",
     "text": [
      "[[153 545]\n",
      " [ 19 265]]\n",
      "              precision    recall  f1-score   support\n",
      "\n",
      "          -1       0.89      0.22      0.35       698\n",
      "           1       0.33      0.93      0.48       284\n",
      "\n",
      "    accuracy                           0.43       982\n",
      "   macro avg       0.61      0.58      0.42       982\n",
      "weighted avg       0.73      0.43      0.39       982\n",
      "\n"
     ]
    }
   ],
   "source": [
    "print(confusion_matrix(Y_test,y_prediction_knn))\n",
    "print(classification_report(Y_test,y_prediction_knn))"
   ]
  },
  {
   "cell_type": "markdown",
   "metadata": {
    "id": "pimhqvZdZGwl"
   },
   "source": [
    "## RandomForestClassifier"
   ]
  },
  {
   "cell_type": "markdown",
   "metadata": {
    "id": "GSF7u3GsZUC0"
   },
   "source": [
    "Several decision tree classifiers are fitted to a sub-sample of the dataset in random forest, and averaging is used to enhance prediction accuracy and prevent overfitting. Throughout all our RandomForestClassifiers the random state is 0 to be able to create reproducible results. [1]\n",
    "\n",
    "Furthermore, we engaged in parameter tuning regarding max depth to further increase the models' accuracy. GridSearchCV was employed to do an exhaustive search across the provided parameter values for an estimator. A cross-validated grid-search across a parameter grid is used to improve the parameters of the estimator used to apply these approaches.[1] The best_params_ attribute helped return the parameter value that scored the best on the holdout data. This allowed us to tune the max_depth parameter of the classifier to improve our accuracy."
   ]
  },
  {
   "cell_type": "code",
   "execution_count": 61,
   "metadata": {
    "colab": {
     "base_uri": "https://localhost:8080/"
    },
    "id": "PH-A766Ryqrp",
    "outputId": "d3199a24-aaa9-44be-a973-e87bd649f0d1"
   },
   "outputs": [
    {
     "data": {
      "text/plain": [
       "{'max_depth': 40}"
      ]
     },
     "execution_count": 61,
     "metadata": {
      "tags": []
     },
     "output_type": "execute_result"
    }
   ],
   "source": [
    "from sklearn.pipeline import Pipeline\n",
    "from sklearn.model_selection import GridSearchCV\n",
    "parameters={'max_depth':[5,10,15,20,30,40,50],}\n",
    "\n",
    "forest2=Pipeline([('CV',GridSearchCV(RandomForestClassifier(random_state=0),parameters,cv=10))])\n",
    "forest2.fit(train_pca_OS,Y_train_OS)\n",
    "forest2.named_steps['CV'].best_params_"
   ]
  },
  {
   "cell_type": "code",
   "execution_count": 62,
   "metadata": {
    "colab": {
     "base_uri": "https://localhost:8080/"
    },
    "id": "6IHODWz3pYrR",
    "outputId": "229e2111-174b-432f-d0bf-f207b07b1a7e"
   },
   "outputs": [
    {
     "name": "stdout",
     "output_type": "stream",
     "text": [
      "0.3234527309249403\n"
     ]
    }
   ],
   "source": [
    "forest2 = RandomForestClassifier(random_state=0, max_depth=20)\n",
    "forest2.fit(train_pca_OS, Y_train_OS)\n",
    "\n",
    "y_prediction_forest = forest2.predict(test_pca_OS)\n",
    "forest_MCC = MCC(Y_test,y_prediction_forest)\n",
    "print(forest_MCC)"
   ]
  },
  {
   "cell_type": "code",
   "execution_count": 63,
   "metadata": {
    "colab": {
     "base_uri": "https://localhost:8080/"
    },
    "id": "vIvF-pmrgwOL",
    "outputId": "eee9e78b-b786-45d8-ff32-45328fd4adfd"
   },
   "outputs": [
    {
     "name": "stdout",
     "output_type": "stream",
     "text": [
      "[[445 253]\n",
      " [ 80 204]]\n",
      "              precision    recall  f1-score   support\n",
      "\n",
      "          -1       0.85      0.64      0.73       698\n",
      "           1       0.45      0.72      0.55       284\n",
      "\n",
      "    accuracy                           0.66       982\n",
      "   macro avg       0.65      0.68      0.64       982\n",
      "weighted avg       0.73      0.66      0.68       982\n",
      "\n"
     ]
    }
   ],
   "source": [
    "print(confusion_matrix(Y_test,y_prediction_forest))\n",
    "print(classification_report(Y_test,y_prediction_forest))"
   ]
  },
  {
   "cell_type": "markdown",
   "metadata": {
    "id": "hON_AyPwgxrj"
   },
   "source": [
    "## Perceptron\n",
    "Perceptron is another model from pythons Scikitlearn. This is a linear model that is used for classification in this report. "
   ]
  },
  {
   "cell_type": "code",
   "execution_count": 64,
   "metadata": {
    "colab": {
     "base_uri": "https://localhost:8080/"
    },
    "id": "KpJnVAn5OtES",
    "outputId": "b248015c-8bab-4cc0-e009-528301427be4"
   },
   "outputs": [
    {
     "name": "stdout",
     "output_type": "stream",
     "text": [
      "0.4132156410847541\n"
     ]
    }
   ],
   "source": [
    "p2 = Perceptron() # Initialise the model we are using\n",
    "p2 = p2.fit(train_pca_OS, Y_train_OS)\n",
    "y_prediction_Perceptron = p2.predict(test_pca_OS)\n",
    "p2_MCC = MCC(Y_test,y_prediction_Perceptron)\n",
    "print(p2_MCC)"
   ]
  },
  {
   "cell_type": "code",
   "execution_count": 65,
   "metadata": {
    "colab": {
     "base_uri": "https://localhost:8080/"
    },
    "id": "pzyReXuYj23Y",
    "outputId": "7c2d67b1-d7e2-41b7-c972-7d4a79529c7e"
   },
   "outputs": [
    {
     "name": "stdout",
     "output_type": "stream",
     "text": [
      "[[431 267]\n",
      " [ 46 238]]\n",
      "              precision    recall  f1-score   support\n",
      "\n",
      "          -1       0.90      0.62      0.73       698\n",
      "           1       0.47      0.84      0.60       284\n",
      "\n",
      "    accuracy                           0.68       982\n",
      "   macro avg       0.69      0.73      0.67       982\n",
      "weighted avg       0.78      0.68      0.70       982\n",
      "\n"
     ]
    }
   ],
   "source": [
    "print(confusion_matrix(Y_test,y_prediction_Perceptron))\n",
    "print(classification_report(Y_test,y_prediction_Perceptron))"
   ]
  },
  {
   "cell_type": "markdown",
   "metadata": {
    "id": "DGsq8QnQhcdr"
   },
   "source": [
    "## DecisionTreeClassifier\n",
    "A decision tree classifier resembles a flowchart, with the terminal nodes representing classification outputs/decisions. Entropy can be used to discover a way to divide the dataset until all of the data belongs to the same class. [8]\n",
    "\n",
    "Similarly to RandomForestClassifier, parameter tuning was employed to optimise the value for max_depth using GridSearchCV."
   ]
  },
  {
   "cell_type": "code",
   "execution_count": 66,
   "metadata": {
    "colab": {
     "base_uri": "https://localhost:8080/"
    },
    "id": "fUCAAX0LEcMz",
    "outputId": "f215f77d-f036-406f-9a89-6e61042a6199"
   },
   "outputs": [
    {
     "data": {
      "text/plain": [
       "{'max_depth': 15}"
      ]
     },
     "execution_count": 66,
     "metadata": {
      "tags": []
     },
     "output_type": "execute_result"
    }
   ],
   "source": [
    "parameters={'max_depth':[1,2,3,4,5,6,7,8,9,10,11,12,13,14,15,16,17,18,19,20,30,40,50],}\n",
    "\n",
    "dtmodel2=Pipeline([('CV',GridSearchCV(DecisionTreeClassifier(random_state=0),parameters,cv=10))])\n",
    "dtmodel2.fit(train_pca_OS,Y_train_OS)\n",
    "dtmodel2.named_steps['CV'].best_params_"
   ]
  },
  {
   "cell_type": "code",
   "execution_count": 67,
   "metadata": {
    "colab": {
     "base_uri": "https://localhost:8080/"
    },
    "id": "zKDcUokEcg26",
    "outputId": "b2eb3b15-bae4-4deb-ceec-6f940de7cf2a"
   },
   "outputs": [
    {
     "name": "stdout",
     "output_type": "stream",
     "text": [
      "0.1885225430819475\n"
     ]
    }
   ],
   "source": [
    "dtmodel2=DecisionTreeClassifier(random_state=0, max_depth=12)\n",
    "dtmodel2.fit(train_pca_OS,Y_train_OS)\n",
    "#make prediction on our test dat\n",
    "y_pred_DT=dtmodel2.predict(test_pca_OS)\n",
    "dtmodel_MCC = MCC(Y_test, y_pred_DT)\n",
    "print(dtmodel_MCC)"
   ]
  },
  {
   "cell_type": "code",
   "execution_count": 68,
   "metadata": {
    "colab": {
     "base_uri": "https://localhost:8080/"
    },
    "id": "LMlfmm9Lj9pU",
    "outputId": "537ab446-6a9c-4343-b2a1-5292460e0868"
   },
   "outputs": [
    {
     "name": "stdout",
     "output_type": "stream",
     "text": [
      "[[381 317]\n",
      " [ 96 188]]\n",
      "              precision    recall  f1-score   support\n",
      "\n",
      "          -1       0.80      0.55      0.65       698\n",
      "           1       0.37      0.66      0.48       284\n",
      "\n",
      "    accuracy                           0.58       982\n",
      "   macro avg       0.59      0.60      0.56       982\n",
      "weighted avg       0.68      0.58      0.60       982\n",
      "\n"
     ]
    }
   ],
   "source": [
    "print(confusion_matrix(Y_test,y_pred_DT))\n",
    "print(classification_report(Y_test,y_pred_DT))"
   ]
  },
  {
   "cell_type": "markdown",
   "metadata": {
    "id": "NANeBSEaoPN6"
   },
   "source": [
    "## Logstic Regression\n",
    "Logistic Regression is another one of SciKit: earn's linear models and uses using the 'liblinear' library, 'newton-cg', 'sag', 'saga' and 'lbfgs' solvers to classify our data set."
   ]
  },
  {
   "cell_type": "code",
   "execution_count": 69,
   "metadata": {
    "colab": {
     "base_uri": "https://localhost:8080/"
    },
    "id": "6nV_FnmAc5wx",
    "outputId": "3d958faf-ac7e-48e1-cd80-1c0fbfdc05b9"
   },
   "outputs": [
    {
     "name": "stdout",
     "output_type": "stream",
     "text": [
      "0.24294211941162444\n"
     ]
    }
   ],
   "source": [
    "lrmodel2=LogisticRegression()\n",
    "\n",
    "lrmodel2.fit(train_pca_OS,Y_train_OS)\n",
    "#make prediction on our test dat\n",
    "Y_pred_LR=lrmodel2.predict(test_pca_OS)\n",
    "lrmodel2_MCC = MCC(Y_test, Y_pred_LR)\n",
    "print(lrmodel2_MCC)"
   ]
  },
  {
   "cell_type": "code",
   "execution_count": 70,
   "metadata": {
    "colab": {
     "base_uri": "https://localhost:8080/"
    },
    "id": "A6S4hgvKdJTj",
    "outputId": "b6a22a98-5594-42b3-c425-a710b7a21889"
   },
   "outputs": [
    {
     "name": "stdout",
     "output_type": "stream",
     "text": [
      "[[336 362]\n",
      " [ 62 222]]\n",
      "              precision    recall  f1-score   support\n",
      "\n",
      "          -1       0.84      0.48      0.61       698\n",
      "           1       0.38      0.78      0.51       284\n",
      "\n",
      "    accuracy                           0.57       982\n",
      "   macro avg       0.61      0.63      0.56       982\n",
      "weighted avg       0.71      0.57      0.58       982\n",
      "\n"
     ]
    }
   ],
   "source": [
    "print(confusion_matrix(Y_test,Y_pred_LR))\n",
    "print(classification_report(Y_test,Y_pred_LR))"
   ]
  },
  {
   "cell_type": "markdown",
   "metadata": {
    "id": "J8SGsSoPooKu"
   },
   "source": [
    "## SupportVectorClassification\n",
    "C-Support Vector Classification's implementation is based on libsvm and, according to the documentation, may not be fit for use beyond tens of thousands of samples. However, it is suitable for this data set as, at most, we will pass through less than 4000 samples."
   ]
  },
  {
   "cell_type": "code",
   "execution_count": 71,
   "metadata": {
    "colab": {
     "base_uri": "https://localhost:8080/"
    },
    "id": "E2QgCLpekhRI",
    "outputId": "ac44e009-eadc-44ca-ff15-935a59abdbbe"
   },
   "outputs": [
    {
     "name": "stdout",
     "output_type": "stream",
     "text": [
      "0.21257758985301073\n"
     ]
    }
   ],
   "source": [
    "#Training the SVC model on train data\n",
    "svc = SVC(random_state=0)\n",
    "svc.fit(train_pca_OS, Y_train_OS)\n",
    "y_pred_svc = svc.predict(test_pca_OS)\n",
    "svc_MCC = MCC(Y_test,y_pred_svc)\n",
    "print(svc_MCC)"
   ]
  },
  {
   "cell_type": "code",
   "execution_count": 72,
   "metadata": {
    "colab": {
     "base_uri": "https://localhost:8080/"
    },
    "id": "DEdvDQhv-CmT",
    "outputId": "d75dfeec-f98e-48c6-fda1-f059638a8955"
   },
   "outputs": [
    {
     "name": "stdout",
     "output_type": "stream",
     "text": [
      "[[113 585]\n",
      " [  3 281]]\n",
      "              precision    recall  f1-score   support\n",
      "\n",
      "          -1       0.97      0.16      0.28       698\n",
      "           1       0.32      0.99      0.49       284\n",
      "\n",
      "    accuracy                           0.40       982\n",
      "   macro avg       0.65      0.58      0.38       982\n",
      "weighted avg       0.79      0.40      0.34       982\n",
      "\n"
     ]
    }
   ],
   "source": [
    "print(confusion_matrix(Y_test,y_pred_svc))\n",
    "print(classification_report(Y_test,y_pred_svc))"
   ]
  },
  {
   "cell_type": "markdown",
   "metadata": {
    "id": "oUWlhE0v19zE"
   },
   "source": [
    "## Cost-Sensitive Models"
   ]
  },
  {
   "cell_type": "code",
   "execution_count": 73,
   "metadata": {
    "colab": {
     "base_uri": "https://localhost:8080/"
    },
    "id": "vKYnsfH717w3",
    "outputId": "98637383-595a-46aa-fced-99f9e517553b"
   },
   "outputs": [
    {
     "data": {
      "text/plain": [
       "{'max_depth': 20}"
      ]
     },
     "execution_count": 73,
     "metadata": {
      "tags": []
     },
     "output_type": "execute_result"
    }
   ],
   "source": [
    "parameters={'max_depth':[5,10,15,20,30,40,50],}\n",
    "\n",
    "forest2_bal=Pipeline([('CV',GridSearchCV(RandomForestClassifier(random_state=0,class_weight='balanced'),parameters,cv=10))])\n",
    "forest2_bal.fit(train_pca,Y_train)\n",
    "forest2_bal.named_steps['CV'].best_params_"
   ]
  },
  {
   "cell_type": "code",
   "execution_count": 74,
   "metadata": {
    "colab": {
     "base_uri": "https://localhost:8080/"
    },
    "id": "mQuJIs1z2Og1",
    "outputId": "d05cecab-d5ad-4183-b0d5-a822bf1ea09f"
   },
   "outputs": [
    {
     "name": "stdout",
     "output_type": "stream",
     "text": [
      "0.4897094525840203\n"
     ]
    }
   ],
   "source": [
    "forest2_bal = RandomForestClassifier(random_state=0, class_weight='balanced', max_depth=20)\n",
    "forest2_bal.fit(train_pca, Y_train)\n",
    "\n",
    "y_prediction_forest_bal = forest2_bal.predict(test_pca)\n",
    "forest2_bal_MCC = MCC(Y_test,y_prediction_forest_bal)\n",
    "print(forest2_bal_MCC)"
   ]
  },
  {
   "cell_type": "code",
   "execution_count": 75,
   "metadata": {
    "colab": {
     "base_uri": "https://localhost:8080/"
    },
    "id": "urCQXLt-6Dyf",
    "outputId": "7ae786a7-c401-4d82-d927-f3c5de1becd1"
   },
   "outputs": [
    {
     "name": "stdout",
     "output_type": "stream",
     "text": [
      "[[648  50]\n",
      " [142 142]]\n",
      "              precision    recall  f1-score   support\n",
      "\n",
      "          -1       0.82      0.93      0.87       698\n",
      "           1       0.74      0.50      0.60       284\n",
      "\n",
      "    accuracy                           0.80       982\n",
      "   macro avg       0.78      0.71      0.73       982\n",
      "weighted avg       0.80      0.80      0.79       982\n",
      "\n"
     ]
    }
   ],
   "source": [
    "print(confusion_matrix(Y_test,y_prediction_forest_bal))\n",
    "print(classification_report(Y_test,y_prediction_forest_bal))"
   ]
  },
  {
   "cell_type": "code",
   "execution_count": 76,
   "metadata": {
    "colab": {
     "base_uri": "https://localhost:8080/"
    },
    "id": "TbmSIZ1Q2hHK",
    "outputId": "da666e38-634c-48d0-dfb6-3ff6eff7a397"
   },
   "outputs": [
    {
     "data": {
      "text/plain": [
       "{'max_depth': 12}"
      ]
     },
     "execution_count": 76,
     "metadata": {
      "tags": []
     },
     "output_type": "execute_result"
    }
   ],
   "source": [
    "parameters={'max_depth':[1,2,3,4,5,6,7,8,9,10,11,12,13,14,15,16,17,18,19,20,30,40,50],}\n",
    "\n",
    "dtmodel2_bal=Pipeline([('CV',GridSearchCV(DecisionTreeClassifier(random_state=0, class_weight='balanced'),parameters,cv=10))])\n",
    "dtmodel2_bal.fit(train_pca,Y_train)\n",
    "dtmodel2_bal.named_steps['CV'].best_params_"
   ]
  },
  {
   "cell_type": "code",
   "execution_count": 77,
   "metadata": {
    "colab": {
     "base_uri": "https://localhost:8080/"
    },
    "id": "5D6fUqBP5SlL",
    "outputId": "6bc19c58-fd9b-4c76-dff7-647169b8b064"
   },
   "outputs": [
    {
     "name": "stdout",
     "output_type": "stream",
     "text": [
      "0.3642440240256817\n"
     ]
    }
   ],
   "source": [
    "dtmodel2_bal=DecisionTreeClassifier(random_state=0, class_weight='balanced',max_depth=12)\n",
    "dtmodel2_bal.fit(train_pca,Y_train)\n",
    "#make prediction on our test dat\n",
    "y_pred_DT_bal=dtmodel2_bal.predict(test_pca)\n",
    "dtmodel2_bal_MCC = MCC(Y_test, y_pred_DT_bal)\n",
    "print(dtmodel2_bal_MCC)"
   ]
  },
  {
   "cell_type": "code",
   "execution_count": 78,
   "metadata": {
    "colab": {
     "base_uri": "https://localhost:8080/"
    },
    "id": "r4nqrtIj5j6e",
    "outputId": "4ae2b825-e2aa-4968-eb6d-3eabb60414bf"
   },
   "outputs": [
    {
     "name": "stdout",
     "output_type": "stream",
     "text": [
      "[[542 156]\n",
      " [113 171]]\n",
      "              precision    recall  f1-score   support\n",
      "\n",
      "          -1       0.83      0.78      0.80       698\n",
      "           1       0.52      0.60      0.56       284\n",
      "\n",
      "    accuracy                           0.73       982\n",
      "   macro avg       0.68      0.69      0.68       982\n",
      "weighted avg       0.74      0.73      0.73       982\n",
      "\n"
     ]
    }
   ],
   "source": [
    "print(confusion_matrix(Y_test,y_pred_DT_bal))\n",
    "print(classification_report(Y_test,y_pred_DT_bal))"
   ]
  },
  {
   "cell_type": "code",
   "execution_count": 79,
   "metadata": {
    "colab": {
     "base_uri": "https://localhost:8080/"
    },
    "id": "Tx45ynHe58FP",
    "outputId": "aefbdb30-6624-4de8-8be1-2a4ac1216fd7"
   },
   "outputs": [
    {
     "name": "stdout",
     "output_type": "stream",
     "text": [
      "0.4927164456900596\n"
     ]
    }
   ],
   "source": [
    "svc_bal = SVC(random_state=0, class_weight='balanced')\n",
    "svc_bal.fit(train_pca, Y_train)\n",
    "y_pred_svc_bal = svc_bal.predict(test_pca)\n",
    "\n",
    "svc_bal_MCC = MCC(Y_test,y_pred_svc_bal)\n",
    "\n",
    "print(svc_bal_MCC)"
   ]
  },
  {
   "cell_type": "markdown",
   "metadata": {
    "id": "kELp_z2dwmIA"
   },
   "source": [
    "# Model Evaluation and Selection\n",
    "### MCC VS F1(accuracy)\n",
    "\n",
    "Accuracy is the ratio between the properly predicted instances and the total number of instances in the dataset. [2]\n",
    "\n",
    "![Screenshot 2021-08-16 at 05.40.44.png](data:image/png;base64,iVBORw0KGgoAAAANSUhEUgAAAxgAAACgCAYAAACPDMrhAAAMamlDQ1BJQ0MgUHJvZmlsZQAASImVVwdYU8kWnltSSWiBCEgJvQnSq5QQWgQBqYKNkAQSSowJQcWGZVHBtYsoVnRVRNG1ALKoiL0sir0vFlSUdbGgKCpvQgK67ivfO983d/575sx/yp259w4AWj08qTQX1QYgT5Ivi48IYY1JTWOR2gEOjIAWsAdkHl8uZcfFRQMoA/3f5f0NgCj7q05Krn+O/1fRFQjlfACQcRBnCOT8PIibAMDX86WyfACISr3llHypEhdBrCeDAUK8SomzVHinEmeocGO/TWI8B+LLAJBpPJ4sCwDNe1DPKuBnQR7NzxC7SARiCQBawyAO5It4AoiVsQ/Ly5ukxOUQ20F7KcQwHuCT8R1n1t/4Mwb5ebysQazKq1/IoWK5NJc37f8szf+WvFzFgA8b2GgiWWS8Mn9Yw1s5k6KUmAZxpyQjJlZZa4h7xAJV3QFAqSJFZJLKHjXmyzmwfoAJsYuAFxoFsTHE4ZLcmGi1PiNTHM6FGK4WdKo4n5sIsQHEC4XysAS1zWbZpHi1L7Q2U8Zhq/VnebJ+v0pfDxQ5SWw1/xuRkKvmxzQLRYkpEFMhtioQJ8dArAmxszwnIUptM6JQxIkZsJEp4pXxW0EcL5REhKj4sYJMWXi82r4kTz6QL7ZZJObGqPH+fFFipKo+2Ek+rz9+mAt2WShhJw3wCOVjogdyEQhDw1S5Y8+FkqQENU+PND8kXjUXp0pz49T2uIUwN0Kpt4DYQ16QoJ6LJ+fDxanixzOl+XGJqjjxwmzeyDhVPPgyEA04IBSwgAK2DDAJZANxS2ddJ7xTjYQDHpCBLCAETmrNwIyU/hEJvCaAQvAnREIgH5wX0j8qBAVQ/2VQq7o6gcz+0YL+GTngKcR5IArkwntF/yzJoLdk8ARqxP/wzoOND+PNhU05/u/1A9pvGjbURKs1igGPLK0BS2IYMZQYSQwn2uNGeCDuj0fDazBsbrgP7juQxzd7wlNCK+ER4TqhjXB7oniu7IcoR4E2yB+urkXG97XAbSCnJx6CB0B2yIwzcSPghHtAP2w8CHr2hFqOOm5lVVg/cP8tg++ehtqO4kJBKUMowRS7H2dqOmh6DrIoa/19fVSxZgzWmzM48qN/znfVF8A+6kdLbCF2ADuDHcfOYY1YHWBhx7B67CJ2RIkHV9eT/tU14C2+P54cyCP+hz+e2qeyknKXapcOl8+qsXzh1HzlxuNMkk6TibNE+Sw2/DoIWVwJ33kYy83FzRUA5bdG9fp6y+z/hiDM89908+AeD5D09fU1ftNFfQLgoDnc/m3fdLZX4GsCvqfPLucrZAUqHa68EOBbQgvuNENgCiyBHczHDXgBfxAMwsBIEAsSQSqYAKssgutcBqaAGWAOKAalYBlYDdaBTWAr2An2gP2gDjSC4+A0uAAug+vgLlw97eAl6ALvQS+CICSEjjAQQ8QMsUYcETfEBwlEwpBoJB5JRdKRLESCKJAZyDykFFmBrEO2IFXIr8hh5DhyDmlFbiMPkQ7kDfIJxVAaqoeaoDbocNQHZaNRaCI6Hs1CJ6OF6Hx0CVqOVqK70Vr0OHoBvY62oS/RbgxgGhgTM8ecMB+Mg8ViaVgmJsNmYSVYGVaJ1WAN8DlfxdqwTuwjTsQZOAt3gis4Ek/C+fhkfBa+GF+H78Rr8ZP4Vfwh3oV/JdAJxgRHgh+BSxhDyCJMIRQTygjbCYcIp+Beaie8JxKJTKIt0RvuxVRiNnE6cTFxA3EvsYnYSnxM7CaRSIYkR1IAKZbEI+WTiklrSbtJx0hXSO2kHrIG2YzsRg4np5El5LnkMvIu8lHyFfIzci9Fm2JN8aPEUgSUaZSllG2UBsolSjull6pDtaUGUBOp2dQ51HJqDfUU9R71rYaGhoWGr8ZoDbFGkUa5xj6NsxoPNT7SdGkONA5tHE1BW0LbQWui3aa9pdPpNvRgeho9n76EXkU/QX9A79FkaDprcjUFmrM1KzRrNa9ovtKiaFlrsbUmaBVqlWkd0Lqk1alN0bbR5mjztGdpV2gf1r6p3a3D0HHVidXJ01mss0vnnM5zXZKujW6YrkB3vu5W3RO6jxkYw5LBYfAZ8xjbGKcY7XpEPVs9rl62XqneHr0WvS59XX0P/WT9qfoV+kf025gY04bJZeYylzL3M28wPw0xGcIeIhyyaEjNkCtDPhgMNQg2EBqUGOw1uG7wyZBlGGaYY7jcsM7wvhFu5GA02miK0UajU0adQ/WG+g/lDy0Zun/oHWPU2ME43ni68Vbji8bdJqYmESZSk7UmJ0w6TZmmwabZpqtMj5p2mDHMAs3EZqvMjpm9YOmz2KxcVjnrJKvL3Ng80lxhvsW8xbzXwtYiyWKuxV6L+5ZUSx/LTMtVls2WXVZmVqOsZlhVW92xplj7WIus11ifsf5gY2uTYrPAps7mua2BLde20Lba9p4d3S7IbrJdpd01e6K9j32O/Qb7yw6og6eDyKHC4ZIj6ujlKHbc4Ng6jDDMd5hkWOWwm040J7ZTgVO100NnpnO081znOudXw62Gpw1fPvzM8K8uni65Lttc7rrquo50neva4PrGzcGN71bhds2d7h7uPtu93v21h6OH0GOjxy1PhucozwWezZ5fvLy9ZF41Xh3eVt7p3uu9b/ro+cT5LPY560vwDfGd7dvo+9HPyy/fb7/fX/5O/jn+u/yfj7AdIRyxbcTjAIsAXsCWgLZAVmB64ObAtiDzIF5QZdCjYMtgQfD24Gdse3Y2ezf7VYhLiCzkUMgHjh9nJqcpFAuNCC0JbQnTDUsKWxf2INwiPCu8OrwrwjNiekRTJCEyKnJ55E2uCZfPreJ2jfQeOXPkyShaVELUuqhH0Q7RsuiGUeiokaNWjroXYx0jiamLBbHc2JWx9+Ns4ybH/TaaODpudMXop/Gu8TPizyQwEiYm7Ep4nxiSuDTxbpJdkiKpOVkreVxyVfKHlNCUFSltY4aPmTnmQqpRqji1Po2Ulpy2Pa17bNjY1WPbx3mOKx53Y7zt+Knjz00wmpA74chErYm8iQfSCekp6bvSP/NieZW87gxuxvqMLj6Hv4b/UhAsWCXoEAYIVwifZQZkrsh8nhWQtTKrQxQkKhN1ijnideLX2ZHZm7I/5MTm7Mjpy03J3ZtHzkvPOyzRleRITk4ynTR1UqvUUVosbZvsN3n15C5ZlGy7HJGPl9fn68Gf+osKO8VPiocFgQUVBT1TkqccmKozVTL14jSHaYumPSsML/xlOj6dP715hvmMOTMezmTP3DILmZUxq3m25ez5s9uLIop2zqHOyZnz+1yXuSvmvpuXMq9hvsn8ovmPf4r4qbpYs1hWfHOB/4JNC/GF4oUti9wXrV30tURQcr7UpbSs9PNi/uLzP7v+XP5z35LMJS1LvZZuXEZcJll2Y3nQ8p0rdFYUrni8ctTK2lWsVSWr3q2euPpcmUfZpjXUNYo1beXR5fVrrdYuW/t5nWjd9YqQir3rjdcvWv9hg2DDlY3BG2s2mWwq3fRps3jzrS0RW2orbSrLthK3Fmx9ui1525lffH6p2m60vXT7lx2SHW0743eerPKuqtplvGtpNVqtqO7YPW735T2he+prnGq27GXuLd0H9in2vfg1/dcb+6P2Nx/wOVBz0Prg+kOMQyW1SO202q46UV1bfWp96+GRh5sb/BsO/eb8245G88aKI/pHlh6lHp1/tO9Y4bHuJmlT5/Gs44+bJzbfPTHmxLWTo0+2nIo6dfZ0+OkTZ9hnjp0NONt4zu/c4fM+5+sueF2oveh58dDvnr8favFqqb3kfan+su/lhtYRrUevBF05fjX06ulr3GsXrsdcb72RdOPWzXE3224Jbj2/nXv79Z2CO713i+4R7pXc175f9sD4QeUf9n/sbfNqO/Iw9OHFRwmP7j7mP375RP7kc/v8p/SnZc/MnlU9d3ve2BHecfnF2BftL6UvezuL/9T5c/0ru1cH/wr+62LXmK7217LXfW8WvzV8u+Odx7vm7rjuB+/z3vd+KOkx7Nn50efjmU8pn571TvlM+lz+xf5Lw9eor/f68vr6pDwZr/9XAIMNzcwE4M0OAOipADDguY06VnUW7BdEdX7tR+A/YdV5sV+8AKiBnfI3ntMEwD7YbIogN2zKX/jEYIC6uw82tcgz3d1UXDR4EiL09PW9NQGA1ADAF1lfX++Gvr4v22CwtwFomqw6gyqFCM8Mm0OV6PbK8UXgB1GdT7/L8cceKCPwAD/2/wKksJAeDxbNuAAAAIplWElmTU0AKgAAAAgABAEaAAUAAAABAAAAPgEbAAUAAAABAAAARgEoAAMAAAABAAIAAIdpAAQAAAABAAAATgAAAAAAAACQAAAAAQAAAJAAAAABAAOShgAHAAAAEgAAAHigAgAEAAAAAQAAAxigAwAEAAAAAQAAAKAAAAAAQVNDSUkAAABTY3JlZW5zaG90NUB4+gAAAAlwSFlzAAAWJQAAFiUBSVIk8AAAAdZpVFh0WE1MOmNvbS5hZG9iZS54bXAAAAAAADx4OnhtcG1ldGEgeG1sbnM6eD0iYWRvYmU6bnM6bWV0YS8iIHg6eG1wdGs9IlhNUCBDb3JlIDYuMC4wIj4KICAgPHJkZjpSREYgeG1sbnM6cmRmPSJodHRwOi8vd3d3LnczLm9yZy8xOTk5LzAyLzIyLXJkZi1zeW50YXgtbnMjIj4KICAgICAgPHJkZjpEZXNjcmlwdGlvbiByZGY6YWJvdXQ9IiIKICAgICAgICAgICAgeG1sbnM6ZXhpZj0iaHR0cDovL25zLmFkb2JlLmNvbS9leGlmLzEuMC8iPgogICAgICAgICA8ZXhpZjpQaXhlbFlEaW1lbnNpb24+MTYwPC9leGlmOlBpeGVsWURpbWVuc2lvbj4KICAgICAgICAgPGV4aWY6UGl4ZWxYRGltZW5zaW9uPjc5MjwvZXhpZjpQaXhlbFhEaW1lbnNpb24+CiAgICAgICAgIDxleGlmOlVzZXJDb21tZW50PlNjcmVlbnNob3Q8L2V4aWY6VXNlckNvbW1lbnQ+CiAgICAgIDwvcmRmOkRlc2NyaXB0aW9uPgogICA8L3JkZjpSREY+CjwveDp4bXBtZXRhPgpMnuDOAAAAHGlET1QAAAACAAAAAAAAAFAAAAAoAAAAUAAAAFAAABxfJvjUGQAAHCtJREFUeAHsnQu0FVX9x38IoSZhusIHoohpoImaQiorQRQFTdJQIQUFKimUjEgUSEUQTHlYAaVoJmAY8hBJNFLQZRFKhgqCIZoPEBXNDN+Zj7/fvdrz3zP3nHPPnDvnnovn81vrcvZ7Zj4zzOzvfjb6+BMzDAIQgAAEIAABCEAAAhCAQAYEGiEwMqBIERCAAAQgAAEIQAACEICAI4DA4EGAAAQgAAEIQAACEIAABDIjgMDIDCUFQQACEIAABCAAAQhAAAIIDJ4BCEAAAhCAAAQgAAEIQCAzAgiMzFBSEAQgAAEIQAACEIAABCCAwOAZgAAEIAABCEAAAhCAAAQyI4DAyAwlBUEAAhCAAAQgAAEIQAACCAyeAQhAAAIQgAAEIAABCEAgMwIIjMxQUhAEIAABCEAAAhCAAAQggMDgGYAABCAAAQhAAAIQgAAEMiOAwMgMJQVBAAIQgAAEIAABCEAAAggMngEIQAACEIAABCAAAQhAIDMCCIzMUFIQBCAAAQhAAAIQgAAEIIDA4BmAAAQgAAEIQAACEIAABDIjgMDIDCUFQQACEIAABCAAAQhAAAIIDJ4BCEAAAhCAAAQgAAEIQCAzAgiMzFBSEAQgAAEIQAACEIAABCCAwOAZgAAEIAABCEAAAhCAAAQyI4DAyAwlBUEAAhCAAAQgAAEIQAACCAyeAQhAAAIQgAAEIAABCEAgMwIIjMxQUhAEIAABCEAAAhCAAAQggMDgGYAABCAAAQhAAAIQgAAEMiOAwMgMJQVBAAIQgAAEIAABCEAAAggMngEIQAACEIAABCAAAQhAIDMCCIzMUFIQBCAAAQhAAAIQgAAEIIDA4BmAAAQgAAEIQAACEIAABDIjgMDIDCUFQQACEIAABCAAAQhAAAIIDJ4BCEAAAhCAAAQgAAEIQCAzAgiMzFBSEAQgAAEIQAACEIAABCCAwOAZgAAEIAABCEAAAhCAAAQyI4DAyAwlBUEAAhCAAAQgAAEIQAACCAyeAQhAAAIQgAAEIAABCEAgMwIIjMxQUhAEIAABCEAAAhCAAAQggMDgGYAABCAAAQhAAAIQgAAEMiOAwMgMJQVBAAIQgAAEIAABCEAAAggMngEIQAACEIAABCAAAQhAIDMCCIzMUFIQBCAAAQhAAAIQgAAEIIDA4BmAAAQgAAEIQAACEIAABDIjgMDIDCUFQQACEIAABCAAAQhAAAIIDJ4BCGRAYMqUKTZr1qwMSqpZxMUXX2yHHXaYPfroo7Z8+XJ78MEHayYqIuTQQw+1H/3oR3bwwQcXkXrbSPLnP//ZXVM5zrZr16524YUX2uOPP27333+/+0se54ADDrDf/OY3tuOOOyajYv63337bli1bZs8995zNnz/f3nnnnVh8u3btrHv37ta+fXt3r2OReCBQBwJvvPGGHXfccXUooXDWv/3tb7ZixQp76qmnbNGiRbZx48bCGfLEnnzyyTZkyBDbbbfd8qTY9oLPOussx6UcZ37rrbe6985f//pXW7hwoa1fv77GYXr16mWjRo2qEZ4MeOGFF9w9fOKJJ2zx4sXJaNO7sGPHjnbUUUfZPvvsUyOeAAjkIoDAyEWFMAikJHD11Ve7iqPPdsopp1inTp2sWbNm9rnPfc6aNGlijzzyiP3sZz/zSdzv+PHj3Qv7v//9r6kisHXrVrv33nudkPAJVck999xzvdfGjBljd955Z+SX45vf/KYNGjTIPvjgA3v99dfttddes/vuu69GOqU9/fTTTaKlcePG8m7Tds8998Q+oPoInnTSSbbrrrs67k2bNrW33nrLBg8eHLtO8TzhhBPsww8/dPFiv2rVKluwYEGU7uijj7apU6dG/rlz59qECRMiv3f06NHDrrzySmvUqJEPKvj76quvunvgRYY+3tdcc41tt912BfMRCYFSCLzyyiumyrs3VRDPOOMMa9mypTVv3tx22GEH9+yOGDHCNm/e7JPZEUccYUOHDrWPP/7YJJDffPNN+8c//mHz5s2zf/3rX1G6hx9+OHr29f7R+yUsRwlVyT322GNdOXo/vfTSS3bHHXeY8iZNaVUx/jTYqaeeGrH47Gc/a3369DE1JuiboG+D3hmzZ8+2JUuWxC73lltucf53333XvZ9efvllJyIk4rzdfPPNrkFCfn0/9F1IlqO4tDwlWM4//3xldfbjH//YJJQwCKQlgMBIS4z0EMhB4IorrohafvQBbtOmTY1Uf/rTn2zYsGGxcLVCfelLX4qFyaOeCn3cZRIO+vOWqxwJl2OOOcYniX5VEZCIeeCBB6IwOb773e/a97///VjYtuiR0NKHVTZ27NhYRcpfT64WXAms3r17+yTRrz7kClflXz0+N910UxQnh/JJuCVN96pfv37J4Lx+CZeZM2e6ePWAHHLIIXnTEgGBuhDYtGmTa4BQGarw/uQnP8kpZpOt7RK+EydOrHHo999/3wn21atXu7i//OUvtv3220fpfv7zn9tvf/vbyC+H/s9IzCTtmWeecb0WEkGhTZs2zbWWh2HbovvEE090Ymy//fZz/99z9XTm4qVeoVwWvjd+9atf2Ve/+tUome6LGrZC8ecj075j9C7zPSLqnVJDDQaBtAQQGGmJkR4COQj4iufw4cNdK1WOJJZLGOQTGMr/05/+1LWoq7VdvRjeNFTqvPPO8173W+iDrJZHfTCSrYphC1issAw8qjBs2LDBldSqVSvbd999Myi1ZhG+V6FLly42efLkmgk+CUkjMFSA7xXR8Kff/e53sTL9PYkF/s+T/ODnSuPD7r77brv88sudV8+FWjcxCJSDgFq9JR7Uq6deg3zPWrECQ+eod4nEiiwpHlSZ1f+F0DSUMVflWmlUkU2Kc53jXXfd5Vr6w3KycovJli1bXHFf/vKXbZdddsmq6Fg5HTp0cH71UrRt2zYW5z1pBIZEhFhJmOVqVAp7THz5+tW91zm0aNEiDM7rVo+shrsddNBBZRv6m/fgRHxqCCAwPjW3kgupJAEJALX0qHKql3kuSysw1qxZY9/+9rfdcAYNX/C2bt0669+/v/e630ICQwk0/v+SSy6J5ZFI+d73vhcLy8rzxz/+0bWUqrxClf+6Hk/zXjT/RUOX8o0zTysw9BHX8La99trLfWTDcywkMFQpmjNnjht6EubJ5Q6fhXytlbnyEQaBtAQ0h2jgwIH2rW99yy666KK82dMIDBVywQUX2MqVK01iOZw3od4LVZpDKyQwlE7/f9VYEFoawR7mK8Z91VVX2e233+6SFmoUKqasQmkkMDQkzR8rV9o0AkP5Z8yYYXrf6xrUQxJaPoGhNJrfNX369KJ6I/w5fe1rX6txL8Pj4YZAIQIIjEJ0iINAkQS+853vuDHKyY9kmD2sVPrwQj0YGs+sSXU9e/a00aNH+yxWisDQ5GKNuw6tnB+P+hIYN9xwg+lP81bytUKmFRhipKFsa9eudYIxZOYFhthpTo2fR+HTqNdDPUMa117INPZc80IkSvRcYBAoFwH/rKmHT2I/n6UVGHp3XXvttW5uwN577x0VW4rAUM/KuHHjojLk0IIUffv2jYVl5akPgeEbKs4+++waQ2PD6/CV+TCsUKODJmKrV1vfBH0bQvMCQ3NuJPySpvkxI0eOTAbX8Pv3ardu3UzzCzEIlEIAgVEKNfJAIEFAlU0NATjwwAMTMf/vzbXiUSGBoZwaDvX5z38+NqejFIGhSYCatBxarhb6ML4u7voSGBoqoHkT6nHIZ6UIDJWrfFq9KzQvMFRp0KTVcG6MT1fMpG9VIDQHBoHhqfFbLgIaky+xrNZ0PW/5LK3A8OVKbIcLFJQiMPz/h/Dciq0Mh3mKddeHwNACEpqfsv/++xfs1cy1AmEhgfHRRx+5OXrqkUg2qniBMWnSJDeMKjlUTXw0B0eLghSyG2+80fV2qIdErDAIlEIAgVEKNfJAoAQCaXsw8h2iFIGhykCyOz3XHIN8x0wbXl8Co5jzKkVg5Cs3FBjq5fBzQJLpa2t99RUqBEaSHP5KEUgrMPKdZykCQ/M4NI8tNM018AtdhOFZuOtDYBR7nml7MAqVGwqMzp07uxWkli5dWiNLbfPvEBg1kBFQAgEERgnQyAKBUghUUmD4Cm143hp+oIpwOaxaBIbY5Vo2WOGFxpD7+4HAECmsIRCopMDwFdqQg4ZfqZJcDqsGgaEeVg3hHDBggOvNCDnWNunb3w96MEJquNMSQGCkJUZ6CJRIoFICQ+vYay3z5Fh/dc0XGlpU4mW6bNUkMP7zn/+4Vb00Njo0iYd8k74RGCEp3A2BQKUEhnoYNT8subxqcnWqLBlVi8AQMy1TrMak5HwxLcN93XXX5Zz0jcDI8mmr3rIQGNV777nyeiZQKYGhfTm0kVtoX/nKV+z6668v22Z71SQwxFXL8qqSlPyI55v0jcAIn0bcDYFAJQSG5hNoToAWaQhNq+eFm72FcVm4q0lgiNdDDz3k9htJsss3zwWBkSSFvxQCCIxSqJEHAiUQqG+BsXHjRrecoVoCQ1PLunasLnZN9DBvse5qExji8thjj7kNDJOMtKKLNgEMDYER0sDdEAjUt8DQjtHayyHcnVocOnbs6N5bjRs3LhuWahMYAumX9E5CvfTSS+20006LBSMwYjjwlEgAgVEiOLJBIC2BcgqMI444wm1m16hRI3vxxRft6aefdq3qyXNUi7qWHWzdunUyKlN/NQoMAZRw00TwpGlCuFae8obA8CT4bSgEyikwNJZ/5513Ni3dqoaP559/vsaQKHFQulGjRlmzZs3KiqUaBYaGyqq3SHs1JS056RuBkSSEvxQCCIxSqJEHAiUQKKfAqO10tCStNtpSl3jTpk1rS17n+GoVGAI3fvx4tzdAEqLGO6t1VobASNLBX2kC5RQYtV2bGkj69OmTd7PM2vKnja9GgSFG7777rtu8NdlrpEnfWjL9C1/4gkOJwEj7RJE+FwEERi4qhEGgDATKKTAkHrTZlfa70Jr0EhH60w672kl2zz33NPVu1NU0l+OBBx6otZi33norNh8h3Om3UGa1pO2+++6FkqSOK+cytblORq202iFdOyiHFk76RmCEZHA3BALlFBhaglYbh2pviCZNmtj222/vNqNs2bKlez+pgltX07tPG57+85//rLUozZnypv+XxfSY6L2k91PWVq5larWKVC7bvHmz6V4n54uFk74RGLnIEZaWAAIjLTHSQ6BEAuUUGNOmTXO7fpd4akVn0w6yydWSis5cRMLf//73BTelKqKIGknqW2DoBF599VW3cktyZZx27drZr3/9a7fxGRvt1bhVBFSQQDkFhjYZ1Uak5bS333674E7ldT22Gkly7Y5d13LrW2DofDX/Jdckei1UMWLECENg1PWukl8EEBg8BxCoJwIIjNpB33XXXdt8D4a/SvVgDBw40HujX0367tmzpw0ePJidvCMqOCpNAIFR+A5omOmiRYsKJyohthICQ6epIVHaayRpl112mZu/N336dDcnRsPJMAiUQgCBUQo18kCgBAKfBoGhyZna96E2U0ufdvSVtW/f3kaOHFlbFjeES5PQs7ZK9GD4a7jjjjts3Lhx3hv9HnnkkbZy5UoERkQER6UJbOsCQ0veanGLYkxDPVevXu2SanjpN77xjVqz7bTTTiaRkbVVSmBo0vfo0aNz9spoTsyqVasQGFnf7CorD4FRZTecy60cgU+DwCiWXjVP8k4y0qpd8+fPTwY7v8Z/67nAIFBpAtu6wEjDr1oneScZvffee25p7fXr1yejnJ+dvHNiIbBIAgiMIkGRDAJ1JYDAqCvB0vKXowdDrZ4XXXRRUSekyaeab+FbTMNMCIyQBu5KEkBgVIZ+OXowJkyYUPSKXC+99JJbwSs56Vs0TjjhhJzLbleGFEfd1gggMLa1O8b5brMEshIYa9eutQEDBsQ41Nck79hBC3gaUg/G1q1b7fjjj4+drVa16d27dyysGI82pVqyZImbQ6HhBcWaVrbRPhjJSd8IjGIJkq7cBLISGLfccov94he/iJ1ufUzyjh2wFk9D6sHQZoOzZ8+OnbFWmSvFOnfu7FaHGjNmjH39618vuggNh9LKd0lDYCSJ4E9DAIGRhhZpIVAHAmGl2xczY8YMO/jgg723qN9HHnnEBg0aFEuryXr6uDQUC6+1S5cuNnny5Iqd2ssvv2ynnHJK7Pg//OEP7ZxzzomFFeMZOnSoLV++3Lp27WoTJ04sJkuUZt26dda/f//ILwcCI4YDTwUJaPGBcPnWTp062ZQpU1Kf0U033WTa8yW0ZcuWuY32wrBKuhuSwAjPxTN5+OGHS1pWvEOHDq6IUhpQ5s6da+r5CA2BEdLAnZYAAiMtMdJDoEQCuV7g+oDrQ57GVMFVRTc0taZrZaKGYg1JYGhTKbXOhqYeoCFDhoRBtbo1ibRHjx6uF0Lr9qsnQ3uOpLE777zT1LroDYHhSfBbSQKa8KuGgHCYzEEHHWSzZs1KfVp6pyXzLVy40O3Tk7qwMmUIK/XDhw93Q4TKdKhai5UYuO+++2LptNeQJpWnMe2Q3qtXL5dFYnHs2LFpsru0ejfpHeUNgeFJ8FsKAQRGKdTIA4ESCJx33nn26KOPxnLqgzBq1KhYWG2eSZMm2Zw5c2LJ1HuRa8nBWKJ69DQkgeHXdA8vX5sPzps3zxo3bhwGF3QvXbrUrRHvE+kDrg95WlPPx2233eayITDS0iN9OQj4jR+TZafdl0ZCRTtyP/PMM7Gihg0b5oYIxgIr6GkoAuPNN990vaFJFOPHj7fu3bsng/P6xV3fBf9eUcIFCxZY69at8+bJFaEVAvWd8nsdITByUSKsWAIIjGJJkQ4CKQlo11qNbdUQHe3vIHcu69atmxvepI2cDj/88Jyt4ps2bbK///3vbmnTfGuxqydELewtWrQwLTOYtnU917mVGlZpgaEPpJhpQ6l8vNRCe9ppp9kee+xhhxxySM7dfHXvNFxBw9LClj3PRby15Kxaf5s3b+6DC/5qR2PtgSGxicAoiIrIMhLQjs5PPvmkbdiwwe2JEPZe+MOqp65v377Wpk0b0xLSe+65p4+K/Wpe2LPPPmuLFy/O+57TJm56v6nS27Zt21j++vZUUmBo0Yk1a9a495MainQfcpnmbGl37VatWuXlpdWfVJaGoOX6vvTr18+VofdTsd+DLVu22Jlnnul6sxAYue4MYcUSQGAUS4p0EEhJQB/stPMiHnroIWvSpEmNI91www2mv2JNE8pVea2UVVpg5OotKsQi31yYmTNn2tSpUwtldXEad67KQLGmyd5aiUrLRLJMbbHUSJclgVw9e4XKLzRvSQsmJHst8pVV6tCrfOWVEl5JgZGvtyjfdRSaC6Ndt9WzWputWLHCmjZtWluyKF6NH3qHIjAiJDhKIIDAKAEaWSAAgcIEKi0wCp9dw4hVhUwTvxvS3JmGQYazgEB5CVRSYJT3yrIrXb2/mnd21FFHZVcoJVUVAQRGVd1uLhYC9UPg8ccfN43flh122GGplkysnzPkKBCAQLUS0JDVxx57zF2+dvFu3759taLguiFQNgIIjLKhpWAIQAACEIAABCAAAQhUHwEERvXdc64YAhCAAAQgAAEIQAACZSOAwCgbWgqGAAQgAAEIQAACEIBA9RFAYFTfPeeKIQABCEAAAhCAAAQgUDYCCIyyoaVgCEAAAhCAAAQgAAEIVB8BBEb13XOuGAIQgAAEIAABCEAAAmUjgMAoG1oKhgAEIAABCEAAAhCAQPURqFeBod0hly9fbps3b7YXXnjBdtxxRzvggAOsTZs21r17d2vevHnRd0C7Ya5Zs8Y2bNhgzz//vLVs2dL2339/0y6hxxxzjG233Xa1lvX++++7XXSffPJJW79+vb3++uu277772he/+EXr0KFDjbWxV61aZc8++2yNclu1ahXbjEbn9txzz9VIp4CTTjrJdtppp5xxKnvx4sXuGNdee619/PHHtmzZMhe2ZcsWa9eunf3gBz+wXXfdNZb/jTfesCVLltjTTz9tmzZtsn//+9/WunVrdx3ag6Bjx46x9IU82mFY98gzUVrx0D3q0qWL4xzm12Y8GzduDINi7t13393djzDQ37cwrHHjxu4ZqOTu0+H54IYABCAAAQhAAAIQKI1AvQgMVd7HjBljTz31lDvL3XbbzQ499FB74oknnNhQoCrNV199tR1++OEFr0S7306ePNlWrlwZpVOl9J133on8EhnDhw+vIRCiBJ84VqxYYddcc010/GQZSnviiSfa0KFDTecr+8Mf/mDz58+31atXO7//5+STT7axY8d6r82dO9cWLlwYXW8U8YlDm49JDHl77bXX7P777zdt/KPNyWR77bWXyz9p0iRXlk+r31NPPdUuu+wyF/Thhx/addddZzNmzHB+/XPkkUfaZz7zGScSfODpp5/urkOCLp998MEHtmDBAvvlL38ZsdQ9keAIbdCgQXbuuefaDjvs4IJ1rdOmTYvyhGn3228/dw/8+fo4CU3dQz0X3nQsXUfIxsfxCwEIQAACEIAABCCw7RAou8CQqDjrrLMiIlOmTLFOnTo5v3oQxo0bZ3fffXcUr4q2Wr1z2dKlS23EiBEuap999rErrrjCDjzwQFehVkv6+eefH8s2e/Zsa9u2bSxMnokTJ9ptt93mwo877ji74IILTOV99NFHdvPNN9v1118f5VFlX+U0a9YsCps+fbrdeOONkb9Hjx7uOqKA/zmS167gUGBMnTrVZs6cmczmBEbPnj1j5+ETqdKuSr3s8ssvj9gdffTRTjD5HoB169ZZ//79fTbr06ePE11RQOB47733TMJBgk82ePBg0+6mLVq0MMVdfPHFTpD5LBJe48ePt0aNGrkg9aCcc845kVhToASDBJl6JnKZemfUayUBo2sSYwkjDAIQgAAEIAABCEBg2yZQdoFx4YUXRpVT9QSEYkLoNJynW7duEcUzzzzTLrnkksjvHWFlXUN+JBLCSr/SDRs2zA158nlUrnpFQlu0aJFdeeWVLkgVcImLcDiVKtSqQIc9IhI1Z5xxRlSMhg/17ds38ucTGEqgIU0PPvhglDYUGBoSpb977rnHJJ6S1rVrV9OfBI2GlcnUGzFy5Ehbu3atDRgwwIXpH/WgqCclNIm5WbNmRUEafrXHHntEfu8IhYqGZnXu3NlHuV8JD/VahDZnzhw3JM2HqUdI9zq0e++913bZZZcwKHK/8sor0fmGojNKkMKhoWvJXpIU2WtNeuyxxzqRVWtCEkCgARLQO1e9jOUyveM09BODAAQgAAEIeAJlFxiayxCaehrCCr3ievXqFY3jD1vofb6tW7e6XhBVSmUafrT33nv76Og37OFQoHolbr/99iheQ5AGDhzo/OqZ0JCgJk2aRPHeoaFT8+bN817r3bt3rIL54osvuhZ+n6CQwLj00kvd/AifNhQYPkxiJlmpl19DpMRK8erZUW+AxI+ElXoxJkyY4ItwQ6D69esX+eXQ/I1QrEmUSbCEduutt5pEhUy9JqNHjw6jI3d4jxQoRscff3wUrx6Js88+OzYsbMiQITERFCX+xOGPK9Ep4ZN8JsK0tblziZva8qSJF/OrrroqTRbSQqDBEJC40PDDctmoUaPcO7xc5VMuBCAAAQhsewT+DwAA///l95RVAAAk5UlEQVTtnQvYFUX9x4eytESpHgkwCVQK07REE7HQNA0VMbUkS0xQQwTULl66aEJFEmplYKiVWdrNK4KFF8RbZWqmkuYFSc1MSwpvZWplfOb/n3XOvLvn7J737J7d5ft7nvfZ2+zs7Gfec878Zn6XPi+tFpOjfOADHzCPPvqofcKb3vQms2DBAtOnT5+GJx5xxBHm1ltvtefe8IY3mKuuuqrh+vnnn2++8Y1v2HPUd+KJJzZcdwf/+c9/zIQJE8zy5cvtKeo99NBD3WXziU98wvziF7+wx1/84hfNnnvuGV3zdx5//HGz1157RafOPvtsM2LEiOj4z3/+s9l7772jY+qhvjj5whe+YH7+859HlxYuXGg23HDD6NjtbLvttm7XbpPKuUJLliwxn/nMZ9yh+cpXvmLe//73R8fs3H777ebjH/94dI62+O1+4YUXzA477BBdv/TSS83gwYOjY39n6dKl5rjjjrOnXvva15rLL7/crL/++n4R22+f+9znonP0JeVe/epXR+fcDv107733msmTJ9s/d76d7S233GKmTp3azq2p7oErfCUiUEUC8+bNM+eee25uTeczv99+++VWvyoWAREQARGoHoE+eSsYy5YtM/PnzzcMShnsb7755j0oMQhmMIxQ7oYbbmgow3133nmnPTd79myz6667Nlz3D55//nnzq1/9ygwYMKDhWf/85z/NjjvuGBVdvHix6d+/f3Qc7vz973+3Ss9WW21lBg0a1HA5DwWDttFGJE7JamjA6gOUqTPOOMMwuN55553NxIkTzStf+cqGYihtKFlOwoGAPzB/85vfbC655BJXNHb7hz/8wfA3cuRIs9566/UoQ5vGjRtn/vrXv0bXZs6cacaOHRsds/PQQw+ZD33oQ/bcxRdfbIYMGdJwPevBiy++aNuV9b605XnXOKUw7f0qJwLdJPDEE08Yvs/yEr5rX/e61+VVveoVAREQARGoIIHcFYwkJqtWrTJXX321ueiiixoGh6GCwQ+jPzP/gx/8oEFxSKo/PH/dddeZY445JjrN4PoVr3hFdJxlJ28Fg5Weyy67LEuTorL//e9/zR133GEWLVpk/6ILq3dCBeNrX/ua+dGPfmSLoOBw3FtBSfFn+zfZZBPz05/+tGHV6tvf/rY566yzzJZbbmm+973v9faRul8EREAEREAEREAERKBEBApXMO655x5zwQUXRIPfd7zjHdHqBFxCBeOaa64xxx9/fIQMk5uBAwdGx2l35syZY59L+Te+8Y0NZktp63DlyqhgsPrBqswPf/hD88c//tFyHDp0qPn973/vmt1DwcCsgbII+755U3RTxp1//etfViF0qzHc/q1vfctst912tiYs8vbZZx9rNhcqPBkfpeIiIAIiIAIiIAIiIAIlJFCYgoFpzTe/+c3IBwK/hQMPPNAMHz7cmvE4H4xQwWCFA7MoJ+2uYOCvgN+Ck7qsYPz73/82mBlhLsWgHvOqadOm2UH+fffdZw477DD3yj0UDN8s6z3veU/k5xLd0ObO97//fTN37tzo7lGjRkXHKDwf+9jH7DWUx379+kXlqrgT+s5U8R3U5vIS+M1vflPexqVomT4fKSCpiAiIgAi0QaDsvw+FKBg4D8+aNcviYwA8Y8aMBudi38k7VDAwrznllFMi9HHOzNHFJjuf/vSnzfXXXx+VwPGalYx2pCwrGH/729/MJz/5yWiVAv8Hjp3zNaZSzRQM/8e/N2ZZIcOnn37a7LLLLg2n6cdNN93UKpkoiVxnVanq4jOs+ruo/eUjUPYfkFbE9PloRUjXRUAERKA9AmX/fchdwQgVBMyjsMv3pZmC4Ucv4h5mv4866ij/9lT7KCm0xcnXv/51M3r0aHeYaVsGBYNB/AEHHBA5VBP1CsXNl1YKhm8ixX2s8HTKWTOMXEP0L0yi9thjD+twir+H73TvtzvrPh8yImTlJfvvv7+ZNGlSXtWrXhHIlQARpPjezUuIoCdFIi+6qlcEREAEqkkgVwXjkUceMfvuu29EhmhRhx9+eHTsdpopGL5JjStPGFtWQpoJzs4McseMGWPNsPBNQKlwQjQrTHnCkLnuuts+9dRT1vxo+vTp0cpAGRSMk08+2ZpGuXYSeYvVH19aKRh+2F7uIxIV79lKfve739lIX5hiJQmRa1AmfGEggiJAO1Fm4sLX+uXT7hM1rB2lM239ClOblpTKlZFAqOx3uo3ypeo0UdUnAiIgAtUnkKuCgSkMfhdOTjvtNLPTTju5w2jrh6ENTaTizG3SrGIwa+d+WN/+9rfb0LXhILTVLDpKCoNwBupXXHFFNIAPFQzC5vp+ItGLrd7hmQyAnSTlt/D9IVqZK+F3sf3227sq7YpQ3AylH4aWwuFAwPGJKlq9w3tusMEG/qmGfaJ6sXKy2WabNfRtQ6H/PwiVIFeG+/2IXu58u9vwPdutJ+k+KRhJZHS+CgTiPuedbHf4vdLJulWXCIiACIhANQnkqmB89rOftaFoHZo4/wlyJ5DHwY86xIDcn90Ok9VRH6semK3EhZrF6ZnBrT/wj8vRQD0k8MPBORRyK9Bewr3iIO7yNlBu5cqVZvfdd49uSVIIiKhEYjs/Bn1S3ocsCsaKFSvMhz/84ZbP//GPf2xQ6pzADGXOycMPP2w++MEPukO7JR8GTNiGwnujcJEgj7rf8pa3hEUajolQFZeAi5WjLbbYoqFsbw7oK3Jr5CXrrruu8mDkBVf15k6A1cQnn3wyt+fgy1b1YA25wVHFIiACIrCGEshVwQgVA0LSkv9grbXWsrgZ9H/pS1+y2Z59/s4hmOskj7v77rvNwQcf7Bex+6yGYNuPuROOzUSqIq+Dy5z9s5/9zCbcczeGZlLuPCsiZLR+29veZk2mWLEgVwOmQMzUMyD2k9ixsuHCrro6wszgJJtDQXGZw125JN8P34Y5XMVx97ptnGLASpGflRvTsilTpjQobrvttptVvGg/pmH8hWZSPIPnY/5EksFhw4aZf/zjH4Y8IoSbRVki+hfO5GkkVDJRXFCyWpmmpalbZURABERABERABERABMpHIFcFg4F+6HyL7wSz/wxab7zxxobZfYcHhQETIAa1zvSHMKxZkrKFA27qfuGFF8yRRx5pbrvtNveoplvaiqlVXBbnY4891lx77bUN96PsbLzxxja3hMuKzeyen9maOim39dZbRwpBnL9CkimVeyBmO/7KCOfJsA273/72tw25Rdw9bPGzIGs6KyDUgbkX58K6/Hv8/Xe96112hWPttdf2Tyfuk/fkoIMOiq7j48HzJCIgAiIgAiIgAiIgAvUkkKuCETdwDjEy0GXQPX/+/PCSYTDrzjPrzioBifZaSZwplrsHnw5Ct7La0Uxo05lnntkj4pW7hxwTzOQ3E1YHMOEKM2RTN6sLRLG68847rRKD2ZEvrJxMnjzZPn/QoEENKyiUo06Xhdu/z+3zDEydXM4Jd95tzz77bDNixAh7yLvggO+bqbly/hal6PTTT498UfxrzfYnTJhgzaoog8kZ7yMRAREQAREQAREQARGoJ4FcFQyQ4S/AbL/LGO0w4rdAbgp8D8jncMghh9jszu46ygV+FGHYVEyOGFyH9XEfJkA4VbcawLKSsWDBAusEHjeoRgFhYI6pUDNhpWDmzJkN7aY8ysFxxx1nTYxQAmgv74s/BmZd5IPARIhBPasJrQTTLhIS+oL52DnnnGNNzvzz7ONXgb8F7MKkd1wPzbk4xwoGqzVxSgvKCsoSK09xPi/c30yco/s222wT295m9+qaCIiACIiACIiACIhAtQjkrmCAA2fn+++/3zz22GMG05rBgwfbQbaPihUKZvNxRmQwjZKQZKdP2ccff9wqGaxIYMI0dOhQ07dvX7/KlvsoGn/6058M4XSJzDRkyBDr3Ow7mLeqhLbgI8K74VtCO/w8H9RNqFucmpPep9Uzml1/9NFHrRL33HPPmde//vX2OTgl+4LyQK6IgQMHWsfs17zmNf7lhn1M11DeqHedddax7wPfdhQLKqbvnRM9ytjYsWMbnqcDERABERABERABERCBehEoRMGoFzK9TRYCixcvNieeeKJdDfJD/WapQ2VFQASqS4CJHBKB5iGs0uKnx2o4QTnSCBMsrMoS+YrJIAJ2vPOd77QTKmnur1KZT33qU+auu+7KpcmsoGNGTJjwOGGlHpPaNBN2mM7OnTs3rpqGcwQXCfMrNRQo+QHBV7AG6LRgMYGlBBOlaYTJWCYk+Rzgt8lnAMsLP5hNmnrKXiYv3ieccIL58pe/nPj648aNs/6+iQW8CwQ6wh+5lRB4iEnwKokUjCr1VsXayuoOfirLly9vOwN7xV65NM3ly4hVKwIK7LnnnqVplxqy5hGIy2XUSQr8nxPanO+Zyy67LNZ8Ns3z+JwQhILAHHWRj3zkI5ZLHu+DOS3KGgrGpZdeGvnZ+c8iTDl5UloJlgT0IQPCOD9LQtljNk3wl7gQ6q3qL8t1PgvXX3+97ZM4c+R223nSSSdZ5eDBBx80ROGMM/1uVTcm4fhLYh6O9UIdJC/emJnDC96E7I8LkoPikEYZXrZsmc21dtNNN5lbb721B/bx48db5e+9731vlOy5R6GSnpCCUdKOqUOz8OkgyReCz8tGG21Uh9eqxDu48MCK2lWJ7qp1I4mi5yu5DBDJK4TpJeHFGcxgPkq+IUwzneCzxWzvSy+9ZKMOPvPMM9Yc9MILL2z4QedH2ZmfMoOLD5pfD/UxyOUHGhPQVatWWZNWvpPiftDrlDiQCQbHggERQVWYqV5vvfWsSTHc8PFjddmX8847zx5ievvss89ak2SUCJQ4J0R13HLLLe0huYgwgQ3r4WJWnmHiVFanUJTqJkmBYvjdHLra1Nr9T7v3ZiUQxYE/zMn5/3XBYXzGmGXvu+++7rZoS+JjzKQxQ+fvgQceMD/5yU96KOQo2Pi/klagTpIXb3yI8aeN8wuO859txpQVwe985ztRET6HpE+oqkjBqGrPlajdzCASRhgtni8lnO358uIc4ic8LFGza90UKRi17t5KvZw/4GHA+/nPfz7WpyucbWfW+pRTTunxrgy0CGLBIAv55S9/aX37XEGi551//vnu0G6XLl0aO/tHNEGUcD+UODcwMcJsedXFhTPHFIyAH3H+d3G8+E6PE8yYqAchL5KfD8qZwsXN5mJORV6ltOJHHgwT76atowrlfAWQ9qKwpQ3Hj38jqw38D4dKWPhZIikuM+2hYGVA4BxM6XxBGSVfVf/+/f3Tld/PizeKd5wSjLLGSlUYrCgJJP6673vf++zlUaNGpTIbTKqrDOelYJShFyrcBmYXmTGM0955Lb6oLrroolqZHVShu8qkYPBD6AYszFhnGWhUgbXa2JyA+/HF3ptZV74T4iQcFCUpGNzLrDyDBSRUHhjMMvj1BRvnuME1ZZgFZkDrC20kUSsz/XkInwc+FwQGIVx4Gj+FdtrhErg2m0nNomCgRMCKQW1c0thwAOfaTN/ThrQDVsxLMHfDP4CZ9yKkqD7x3wUFAbMwJ35ofneu2Zb/ffwvwpVqFHB/da6V4sJv9OzZsxseReJe8onlJXXiHa7S+szoUyYs0vq3sNpLfZMmTbIJj/26qrYvBaNqPVay9jID4s9ihc3DNhSHJ0mxBMqkYBDxzXfydcpGsUT0tG4RwPmaH8sDDjjAHHPMMYnNyKJgUMm0adPMzTffbEjo6vtNsHrBoNmXZgoG5ebMmRMldXX3hTP07nwntm4QQV3NBv+9fRYKBiZpLvFrXH1ZFAzud6avcfmmkhQM7mOQe9ZZZ6VSplybiEAY9iV15SFF9Ynf9sMPP7wh8W9WBYPVIlapqAczHSeYFrIy4aSVgkE5/GXCiULqyMsfo068mykYsEUpT+vc774HCWjQKtcadZdZpGCUuXcq0jY32xQ2lyzu5P6QFE9ACkbxzPXEeALMpDKjetppp9k8QPGljDUx8G38m61gUAemB0TOwTeA0OdO2lEwWFkJo8Lk+QNfxOCK1QZmoT/60Y/2MIFxrNi6wbx/rtkkADPuzLzHTR45BYP3Q/ELhdVuvptaCYlg+SvSvLaIPgnfu7cKBvWhwJNni1UiJ+0oGERGCn1oWD1iFSkPqRNvX8FgMi0uUMGsWbPMmDFjWqI89NBDrfknPmn4qlVZpGBUufdK0nYcK6+66iqbNJB9nJKqHu2jJGjbboYUjLbR6cYOE2CWlVCpzKYnmUfxSDdz5x7fSsFw9TLL7efpaUfBYEA9ZcoU92i7TTsYbrgp5UERgyuSseKfMmzYMOtQn9Q0zGBCM6RmCoaz22dWnFCnvjgF49RTT7VmVKGpGmXxwYlzQvbrIQoeqx3MzrNSUoQU0Sfhe3RCwQjr5LgdBcMx9+uLW6Xyr/dmv068fQUDJY0oU/gOhZJmtdIlYPYd98N6qnIsBaMqPaV21poAUVhe9apXxb4j0XNCW3AUuSuvvDK2PCcJVchM4y677JI4a4xNOtfzlrKYSDVj/Pzzz9uoLXG28Nddd52NPtQup9GjR8c6GLdbX13vy6pgJHFoR8Fwtux+nVnMGvz70ux3Y3CV1K6sKxhJ9XDeVzB23HFHG0FqyZIlPW7xI1D1uLj6hBvsSsGIo2Os/8vDDz+caD7WjoKBUkhUKV9YIaQf85BufAbaVejwN2rG21cwrr76autvcdBBB0UR3By/NE7fUjAcLW1FQAQyEcAEhC8qIutg7/rQQw/Z0JuEJfRnEVeuXGlNBBjcMlPL8jcDAbdcTajC3n7xs6yOI2XeUrSCQexzHHeJrQ9j/lasWGG/7JmtxWzECStvKGMuIhEDJBJD+hJnm+xfb7VP9BaiuEiaE+imguEGtH4L6za48t/N389LwSAsMN9TEydOtKsZ/jNbOX27/pCC4VN7eR8TNSIOJX1/t6NguIHty08xBuUwbQQk/740+1VSMFrxDhUMVvb4zSEsdCgjR460zvNJTt+uH7SCEZLTsQiIQFMCYXQPV9g3x8Cxji8Xfpx98Qe/RKDByTVJUGS4nx9y3z7dL8/5GTNm+Kdy2S9awYAf4U1d/H//pYgMNGDAABvBB1MNkl6FsnDhwgaTEnyJ4uoK70s6xsyAZ0qaE+iWgoFCiq0zirwvYXQq/1pv97sxuEpqc54KBs9kMgVn1fD7jJDm8+fPj3X6loKR1FvGToZgp99sgiirguECMfhPzTuCVzc+A+2sYDD51Ip3nIIBy7iVUc6jsBx11FHs9hApGD2Q6IQIiEAWAiSlWrRoUXTLV7/6VRv/OkwyFRVYvdMqGoxfVj4YjaFMYeP44fxKNKM4G1nKub5gX1IcgW4oGPgToGhi1uDLIYccYqZOneqf6uh+NwZXSS+Qt4LBc3/961/bUKphG/yJFf/amqpg4NcSN+mDCSeKMINd8pCgrHVKwcAEF3PAcBIlXO31+6cT+934DIQKRqd4JykYcAqT5zl2Sf4tUjAcIW1FQATaIkBiJH/2nAEOM30MbHCExUmMHxAGXU623npra5vsjpttpWAYE2ZuJZrO0UcfbQeULP1jfsFMHz+kfvQUfhBc/oBmjHWtswSKVjBQ5rGt9iNX8UZZ49a3Q6Ebg6ukdhahYPBsTED5rIVC9KJ99tmn4fSaqmA0QGhx0FsFgyAATHLhiB+u3k2ePNnwl6d04zMQKhhZ3q8Z72YKBpMYJDL0wwa75xIJ761vfas7tFspGA04dCACIpCFAF/sRMhxJgObbbaZVSiwVUb4cR0+fLihHPaaTpJm+9x1fysFw9jMtYRGdcJACqWOsKZEsYER0Ye++93vWlMNVy7Mq+DOa5svgTwVDJTJfv36GVav8MnBDyocVPF2lMM8sW/fvrm+bDcGV0kvVJSCQVJWVovwewoldPpekxWMuEhr7rfC59ZswBuaSFEnGaIJ7PHss89a3z/8/+LqPfLIIw0Oyn5kNv+5ndrvxmcgTsHoBO9mCga8WH1KcvrGR4/vJidSMBwJbUVABDITuOeee+yXjbuRmXVMCMiOS2jGbbbZxl5iZtVfwSBj6/jx491tTbdSMIydNbrhhhsiTscff7w1fxo1apR1mHdOdsQb9yPdkLehT58+0X3aKYZAngpGqzfgM4dDZhFR1WhLNwZXSQyKUjB4/nPPPWdXacNVI3zFmM3dYIMNbDPXVAWjWaI9lGOCV8ydO9eGhM+iYCT1vX9+9913t74yhJkvQrrxGQgVjE7xbqVgwPPBBx80+++/fw+0odO3FIweiHRCBEQgLQGXIMyV58eV2VSWUVE2nFx44YV2QOyOsyQ9KkLBYKZ/3rx5rnmJW0Lq+rPFftblxJtWX8BPot0BX7j6wywVs3U8m1CM66+/vn00y9cu2g0niMxF9CBJ8QTyVDBQzvk/5P9irbXWMmuvvbbNULzhhhta3xw+g72V2267rUcEsqQ6GZA44dm0qZUwAExyDG11b7PrRSoYtANbf/o6nD33nb47pWCUvU+yDHhdHz7xxBNmjz32yOSDwfcejsr4cvCdRzhuwqKvu+66NgjIkCFDmuaocc9utV1TeadRMGDHhBe/86H4Tt9SMEI6OhYBEUhNIFy+5kZm1U8//fSGZeljjz3WXHvttbZeBsjsu1n3Vg8rQsFAuTj33HNbNaXt6/ihMMvVjrhsw+G9DFzwZXFy//33Nyh1+Mb4q0aunLb5E8hTwbjxxhuteUieb0HQgDwUANdmP4qcO9eJbdEKBm1OCmZBNC9WFDulYJS9T9pRMODH/xlmfp0MU0u9vZU1lXdaBQO+7n87ZO2cvqVghGR0LAIikIoAs6hkOQ/FhU9150M/jZ122sn4/gSuXNKW0KqsMEyfPt3GoU8q15vzeSsY7gu3nTbGJVtjdSicPSIHBiFtnaTJtOrKattZAlVXMOKygXeSUBYfrCzP7YaCQfvClVzXZvLQMGDrRCbvsvdJuwoGdvu33367mTNnjsPWsA0nsYiWhJ9L3rKm8s6iYLCCxOShH+TF9Qv9Sp/St8qD4ahoKwIikIrAXXfd1WPAH5pGUVHop5HF/4L7ceRbtWqVdR5z5kCc76SwVM8zWsljjz1mWBlwwsAijRBWdp111klTtEcZZvj8MLSYoeDcjUmAL7B3fhqsEpHYMG/nRv/52n+ZQNUVDN7kgQcesCYoL79V/J5vCnnSSSfZoA7xJV8+i39CJ0y5Xq7x//a6pWDg9M27MxESCj4xmNt0ItFemfukXQUj5BUed0vBoB1rIu8sCgaM+H3GLIqAE75gyobpGmaEUjB8MtoXARFoSSAM1UiGZ2bbQ9MnZtIJoemkytmgi0609+KLL1qTM8eOLbNCoT9HuJrE9aQZQb8u7edDoA4KRloy3XBwTWpbtxQM2kPC0MMOO8w6L8e1rxMKRly9cee60Sd1VDDi2MadqxPvrAoGPDBxI7JU6IvkWEnBcCS0FQERSEWAEIA33XRTVJYY5Nttt1107Hb8Gfiqz6wXrWCEWWmTzAPC1SSiTMVF+XB9om2+BKRg5Ms3qfY8FIw4hT7p+axwEsErbqC12267mZNPPjnp1o6er9OAt5srGGk7pU68//KXv5ixY8faVycMc9qVRnJj0FdxIgUjjorOiYAIxBIgzOAOO+wQXSP/xXnnndcjJGpYbtdddzWzZ8+O7qvaTtEKBpluCeXohJWg0aNHu8NoG64mEV1q2LBh0XXtFEugUwoGnykCJvhShJO3/7xW+90YXCW1ic8HK6a+YEvfjhCFDUVh5syZ0YArTT2YQzGbH0rdFQzn0Oveu1nYVFcmzdafoKJ80iRLmrryKtONz0BevP0QtAsWLDAbbbRRamznnHOOTXYY3iAFIySiYxEQgUQCy5YtszHgXYEkv4qwnPuiwXdhwIABNmGSq6MK26IVjGnTppmbb77Zomm2+hNXbuXKlfbLntUMklJJiiPgDzh4Ksp4XObnVi0KEydS/pprrmlIZtWqjryv++/a7cACBFO45JJLGl653Vww2267ra0n6but4SHBwQUXXNDDRLHuCsaECRMazMMI1cv/b28lNL3CFBcz2zJJNz4DefG+++67zcEHH2zxZv084/RN5LSlS5c2dI/73W84WbGDPqsdrV6qWJvVXBGoJAGieJxxxhlR2/lB3WSTTaJjtxPOwBPp6L777jNEhspieuDq6/a2SAUjXP1JGqCE/heUI7Tv1KlTLS5mlYgVLymGAD9DRErzzWQ233xzwypTVkEpCe/DwX/w4MFZq8qtfDcGV0kvgzIQDm6IcBMGREi6353HYXW//fazh7wfYaazCisfixYtim5L+vxGBTq4040+wcfEzxHULHlellcNB9KY7MRlUM9SZ6fL1on3woULo/93fqf33nvvTLj43ps4caJNtutulILhSGgrAiLQksARRxxhmBlE+MK/8sore5hHce2EE04wV1xxBbtWUELI8j1lyhTrEOnOV2VbpIJxxx13NDAi5CX5A0Lxl7S5xkqHi1iF033aZIBhvTpuj0BSeEt+uEmGl1ZQVLDn5/PiS1ykNv960fvdGFzFveMzzzxjdt555x6XZs2aZcaMGdPjfNIJuJ966qmGyRAnF198sSGBWxYhERxmLOSxQeqsYISRAh2npIknd73VllVYkjKGgtKN0l4WKfozkBdvstOzYuT+ZzF9PvPMM03fvn0zoX7kkUdsJnU3ySIFIxM+FRaBNZcAP5zvfve7IwDjxo2zIRqjE95O6KDHpbgcDt4tpd4tUsEI7VmTZq79JW0HDyUD+/2sgyJ3v7bZCBCKkZU5kh1i/ud+WP1aUMQPPPBAs/HGGxvMPAYNGuRfjvZx2EdpvPzyy2140+iCt0MStxEjRtj+HT58uHel+N2iB1f+Gz799NMGM0wGNPgd0Q9xwncOJjvYkyfxuvfee21dmKDhRxEKM+nUwepU2vDPOMwSbIH/h7opGCh0TIIQypUV7Wb/80wsbbHFFqkchsmbxOQVq0gkPyWqUSh8vxEalc8Rf1kU97CuThwX8RnIizfvTxj05cuXW/PC8DPEBBV5a/Cp2WqrrVLj8hMVSsFIjU0FRWDNJrBixQo7s+ooNMtSjT00dtFO2llydfeWYVukguEymPPefMnHxdjnGqZUe+21V2SeMHLkSDNjxgzTv39/LksKIJCU0Tbp0UcffbQN6xh3ffz48T1WLeLKca5d06uk+to5X8TgKqldSatFSeWb+cJgO75kyZKkW6PzDJyymBySaIyVjLopGGHkughQwk6z3wn/lieffNIQDCStTJo0yeCD1k0p4jOQF2+4OX+jZgz5XfHNopuVddecibQUDEdEWxEQgY4SYHaRJHYst2b5Ye5oIzpUWZEKRpYmky+D2URs8wcOHJjlVpUVgV4RKGJw1asGluDmW265xSYt3H777QtpjfqkEMzRQ8Q7QtGwg7nh4sWL7arhpptu2nCtagdy8q5aj6m9IlAxAphkuLCx/fr1M9OnT6/YG6i5ItBZAvPmzTNPPfWUTbA5efLkVGYwnW2BagsJqE9CIvkei3e+fMtQuxSMMvSC2iACIiACIiACIiACIiACNSEgBaMmHanXEAEREAEREAEREAEREIEyEJCCUYZeUBtEQAREQAREQAREQAREoCYEpGDUpCP1GiIgAiIgAiIgAiIgAiJQBgJSMMrQC2qDCIiACIiACIiACIiACNSEgBSMmnSkXkMEREAEREAEREAEREAEykBACkYZekFtEAEREAEREAEREAEREIGaEJCCUZOO1GuIgAiIgAiIgAiIgAiIQBkISMEoQy+oDSIgAiIgAiIgAiIgAiJQEwJSMGrSkXoNERABERABERABERABESgDASkYZegFtUEEREAEREAEREAEREAEakJACkZNOlKvIQIiIAIiIAIiIAIiIAJlICAFowy9oDaIgAiIgAiIgAiIgAiIQE0ISMGoSUfqNURABERABERABERABESgDASkYJShF9QGERABERABERABERABEagJASkYNelIvYYIiIAIiIAIiIAIiIAIlIGAFIwy9ILaIAIiIAIiIAIiIAIiIAI1ISAFoyYdqdcQAREQAREQAREQAREQgTIQkIJRhl5QG0RABERABERABERABESgJgSkYNSkI/UaIiACIiACIiACIiACIlAGAlIwytALaoMIiIAIiIAIiIAIiIAI1ISAFIyadKReQwREQAREQAREQAREQATKQEAKRhl6QW0QAREQAREQAREQAREQgZoQkIJRk47Ua4iACIiACIiACIiACIhAGQhIwShDL6gNIiACIiACIiACIiACIlATAlIwatKReg0REAEREAEREAEREAERKAMBKRhl6AW1QQREQAREQAREQAREQARqQkAKRk06Uq8hAiIgAiIgAiIgAiIgAmUgIAWjDL2gNoiACIiACIiACIiACIhATQhIwahJR+o1REAEREAEREAEREAERKAMBKRglKEX1AYREAEREAEREAEREAERqAkBKRg16Ui9hgiIgAiIgAiIgAiIgAiUgYAUjDL0gtogAiIgAiIgAiIgAiIgAjUhIAWjJh2p1xABERABERABERABERCBMhCQglGGXlAbREAEREAEREAEREAERKAmBKRg1KQj9RoiIAIiIAIiIAIiIAIiUAYC/wMydxw9eu20lQAAAABJRU5ErkJggg==)\n",
    "\n",
    "The Matthews correlation coefficient is a contingency matrix technique of computing the Pearson product-moment correlation coefficient between actual and projected data. [5]\n",
    "\n",
    "![Screenshot 2021-08-16 at 05.40.54.png](data:image/png;base64,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)\n",
    "\n",
    "For binary and multiclass classification, the Matthews correlation coefficient is appropriate. A balanced measure that may be employed even when the classes are substantially diverse in size considers true and false positives and negatives. It is a correlation coefficient that ranges from -1 to 1. For example, the ideal prediction coefficient is 1, the average random prediction is 0, and -1 is the opposite of the prediction.[2] Also known as the phi coefficient, it is a statistical measure. [3]\n",
    "\n",
    "When dealing with imbalanced datasets, like the dataset presented in this task, F1 scores/accuracy aren't reliable since it offers an overoptimistic assessment of the classifier's skill on the majority class. [4]\n",
    "\n",
    "Each model prediction in this assignment has been followed by a confusion matrix, MCC, and classification report. The F1 score consistently outperforms the MCC. This is sometimes despite the fact that the confusion matrix is showing that there were more false positives than true negatives. Here is where MCC is a better metric because you cannot get a high score in MCC without performing well in all four sections of the confusion matrix(true positives and negatives, false positives and negatives)[2].\n"
   ]
  },
  {
   "cell_type": "code",
   "execution_count": 80,
   "metadata": {
    "colab": {
     "base_uri": "https://localhost:8080/"
    },
    "id": "MwRSGstE6i4n",
    "outputId": "da4167df-9c44-413e-e4c6-5bbfd58d5e2e"
   },
   "outputs": [
    {
     "name": "stdout",
     "output_type": "stream",
     "text": [
      "BenchMark model performances: \n",
      "\n",
      "\n",
      "KNeighbourClassifier MCC score =      0.33396177125609333\n",
      "\n",
      "RandomForestClassifier MCC score =    0.31337332387601036\n",
      "\n",
      "DecisionTreeClassifier MCC score =    0.15305652121930027\n",
      "\n",
      "LogisticRegression MCC score =        0.2957750743562731\n",
      "\n",
      "Perceptron MCC score =               -0.0013521474414083577\n",
      "\n",
      "SupportVectorClassifier MCC score =   0.3731580233814911\n"
     ]
    }
   ],
   "source": [
    "print(\"BenchMark model performances: \\n\")\n",
    "print(\"\\nKNeighbourClassifier MCC score =      \"+str(knn_bench_MCC))\n",
    "print(\"\\nRandomForestClassifier MCC score =    \"+str(forest_bench_MCC))\n",
    "print(\"\\nDecisionTreeClassifier MCC score =    \"+str(dtmodel_bench_MCC))\n",
    "print(\"\\nLogisticRegression MCC score =        \"+str(lrmodel_bench_MCC))\n",
    "print(\"\\nPerceptron MCC score =               \"+str(p_bench_MCC))\n",
    "print(\"\\nSupportVectorClassifier MCC score =   \"+str(svc_bench_MCC))"
   ]
  },
  {
   "cell_type": "code",
   "execution_count": 81,
   "metadata": {
    "colab": {
     "base_uri": "https://localhost:8080/"
    },
    "id": "hzDWirYhuZva",
    "outputId": "9c1f357e-17a0-47a7-aa15-951c2e89455d"
   },
   "outputs": [
    {
     "name": "stdout",
     "output_type": "stream",
     "text": [
      "Cost-Sensitive BenchMark model performances: \n",
      "\n",
      "\n",
      "Balanced RandomForestClassifier MCC score =    0.2763343750317612\n",
      "\n",
      "Balanced DecisionTreeClassifier MCC score =    0.22382854098839597\n",
      "\n",
      "Balanced SupportVectorClassifier MCC score =   0.41326085970226845\n"
     ]
    }
   ],
   "source": [
    "print(\"Cost-Sensitive BenchMark model performances: \\n\")\n",
    "print(\"\\nBalanced RandomForestClassifier MCC score =    \"+str(forest_bal_bench_MCC))\n",
    "print(\"\\nBalanced DecisionTreeClassifier MCC score =    \"+str(dtmodel_bal_bench_MCC))\n",
    "print(\"\\nBalanced SupportVectorClassifier MCC score =   \"+str(svc_bal_bench_MCC))"
   ]
  },
  {
   "cell_type": "code",
   "execution_count": 82,
   "metadata": {
    "colab": {
     "base_uri": "https://localhost:8080/"
    },
    "id": "CnlDmqq9v3UA",
    "outputId": "00032025-6779-4782-ec65-ff286f8aac48"
   },
   "outputs": [
    {
     "name": "stdout",
     "output_type": "stream",
     "text": [
      "Pre-processed and oversampled model performances: \n",
      "\n",
      "\n",
      "KNeighbourClassifier MCC score =      0.18166426195839575\n",
      "\n",
      "RandomForestClassifier MCC score =    0.3234527309249403\n",
      "\n",
      "DecisionTreeClassifier MCC score =    0.1885225430819475\n",
      "\n",
      "LogisticRegression MCC score =        0.24294211941162444\n",
      "\n",
      "Perceptron MCC score =                0.4132156410847541\n",
      "\n",
      "SupportVectorClassifier MCC score =   0.21257758985301073\n"
     ]
    }
   ],
   "source": [
    "print(\"Pre-processed and oversampled model performances: \\n\")\n",
    "print(\"\\nKNeighbourClassifier MCC score =      \"+str(knn_MCC))\n",
    "print(\"\\nRandomForestClassifier MCC score =    \"+str(forest_MCC))\n",
    "print(\"\\nDecisionTreeClassifier MCC score =    \"+str(dtmodel_MCC))\n",
    "print(\"\\nLogisticRegression MCC score =        \"+str(lrmodel2_MCC))\n",
    "print(\"\\nPerceptron MCC score =                \"+str(p2_MCC))\n",
    "print(\"\\nSupportVectorClassifier MCC score =   \"+str(svc_MCC))"
   ]
  },
  {
   "cell_type": "code",
   "execution_count": 83,
   "metadata": {
    "colab": {
     "base_uri": "https://localhost:8080/"
    },
    "id": "tqHSt5D1we-B",
    "outputId": "a92a4390-dc6e-4da8-f822-c6bd456779d3"
   },
   "outputs": [
    {
     "name": "stdout",
     "output_type": "stream",
     "text": [
      "Pre-processed Cost-Sensitive model performances(No oversampling): \n",
      "\n",
      "\n",
      "Balanced RandomForestClassifier MCC score =    0.4897094525840203\n",
      "\n",
      "Balanced DecisionTreeClassifier MCC score =    0.3642440240256817\n",
      "\u001b[1m\n",
      "Balanced SupportVectorClassifier MCC score =   0.4927164456900596\u001b[0m\n"
     ]
    }
   ],
   "source": [
    "print(\"Pre-processed Cost-Sensitive model performances(No oversampling): \\n\")\n",
    "print(\"\\nBalanced RandomForestClassifier MCC score =    \"+str(forest2_bal_MCC))\n",
    "print(\"\\nBalanced DecisionTreeClassifier MCC score =    \"+str(dtmodel2_bal_MCC))\n",
    "print('\\033[1m'+\"\\nBalanced SupportVectorClassifier MCC score =   \"+str(svc_bal_MCC)+'\\033[0m')"
   ]
  },
  {
   "cell_type": "markdown",
   "metadata": {
    "id": "SJyipl3_S4SC"
   },
   "source": [
    "## Model Selection"
   ]
  },
  {
   "cell_type": "markdown",
   "metadata": {
    "id": "N9ck4byUTA8v"
   },
   "source": [
    "As discussed, the chosen model will be the model that has returned the highest MCC. From the above, we can note that the svc_bal model, the cost-sensitive SupportVectorClassifier trained on the pre-processed dataset, is the best, with an MCC score of 0.493(to 3d.p.) This score was achieved using the holdout method with 20% of data that has not been exposed to the training model at all and hence should be an accurate reflection of the expected score on the official holdout data set."
   ]
  },
  {
   "cell_type": "markdown",
   "metadata": {
    "id": "C1-T5FjPXwuL"
   },
   "source": [
    "## Holdout Data Prediction"
   ]
  },
  {
   "cell_type": "code",
   "execution_count": 84,
   "metadata": {
    "colab": {
     "base_uri": "https://localhost:8080/",
     "height": 253
    },
    "id": "RP-uc5BF0_KI",
    "outputId": "d9a27f41-004f-471b-bfd5-bdea75cf4c03"
   },
   "outputs": [
    {
     "data": {
      "text/html": [
       "<div>\n",
       "<style scoped>\n",
       "    .dataframe tbody tr th:only-of-type {\n",
       "        vertical-align: middle;\n",
       "    }\n",
       "\n",
       "    .dataframe tbody tr th {\n",
       "        vertical-align: top;\n",
       "    }\n",
       "\n",
       "    .dataframe thead th {\n",
       "        text-align: right;\n",
       "    }\n",
       "</style>\n",
       "<table border=\"1\" class=\"dataframe\">\n",
       "  <thead>\n",
       "    <tr style=\"text-align: right;\">\n",
       "      <th></th>\n",
       "      <th>Info_PepID</th>\n",
       "      <th>Info_protein_id</th>\n",
       "      <th>Info_center_pos</th>\n",
       "      <th>Info_AA</th>\n",
       "      <th>Info_window_seq</th>\n",
       "      <th>feat_seq_entropy</th>\n",
       "      <th>feat_C_atoms</th>\n",
       "      <th>feat_H_atoms</th>\n",
       "      <th>feat_N_atoms</th>\n",
       "      <th>feat_O_atoms</th>\n",
       "      <th>feat_S_atoms</th>\n",
       "      <th>feat_molecular_weight</th>\n",
       "      <th>feat_Perc_Tiny</th>\n",
       "      <th>feat_Perc_Small</th>\n",
       "      <th>feat_Perc_Aliphatic</th>\n",
       "      <th>feat_Perc_Aromatic</th>\n",
       "      <th>feat_Perc_NonPolar</th>\n",
       "      <th>feat_Perc_Polar</th>\n",
       "      <th>feat_Perc_Charged</th>\n",
       "      <th>feat_Perc_Basic</th>\n",
       "      <th>feat_Perc_Acidic</th>\n",
       "      <th>feat_PP1</th>\n",
       "      <th>feat_PP2</th>\n",
       "      <th>feat_PP3</th>\n",
       "      <th>feat_KF1</th>\n",
       "      <th>feat_KF2</th>\n",
       "      <th>feat_KF3</th>\n",
       "      <th>feat_KF4</th>\n",
       "      <th>feat_KF5</th>\n",
       "      <th>feat_KF6</th>\n",
       "      <th>feat_KF7</th>\n",
       "      <th>feat_KF8</th>\n",
       "      <th>feat_KF9</th>\n",
       "      <th>feat_KF10</th>\n",
       "      <th>feat_Z1</th>\n",
       "      <th>feat_Z2</th>\n",
       "      <th>feat_Z3</th>\n",
       "      <th>feat_Z4</th>\n",
       "      <th>feat_Z5</th>\n",
       "      <th>feat_F1</th>\n",
       "      <th>...</th>\n",
       "      <th>feat_CT641</th>\n",
       "      <th>feat_CT642</th>\n",
       "      <th>feat_CT643</th>\n",
       "      <th>feat_CT644</th>\n",
       "      <th>feat_CT645</th>\n",
       "      <th>feat_CT646</th>\n",
       "      <th>feat_CT650</th>\n",
       "      <th>feat_CT651</th>\n",
       "      <th>feat_CT652</th>\n",
       "      <th>feat_CT653</th>\n",
       "      <th>feat_CT654</th>\n",
       "      <th>feat_CT655</th>\n",
       "      <th>feat_CT656</th>\n",
       "      <th>feat_CT660</th>\n",
       "      <th>feat_CT661</th>\n",
       "      <th>feat_CT662</th>\n",
       "      <th>feat_CT663</th>\n",
       "      <th>feat_CT664</th>\n",
       "      <th>feat_CT665</th>\n",
       "      <th>feat_CT666</th>\n",
       "      <th>feat_Perc_A</th>\n",
       "      <th>feat_Perc_C</th>\n",
       "      <th>feat_Perc_D</th>\n",
       "      <th>feat_Perc_E</th>\n",
       "      <th>feat_Perc_F</th>\n",
       "      <th>feat_Perc_G</th>\n",
       "      <th>feat_Perc_H</th>\n",
       "      <th>feat_Perc_I</th>\n",
       "      <th>feat_Perc_K</th>\n",
       "      <th>feat_Perc_L</th>\n",
       "      <th>feat_Perc_M</th>\n",
       "      <th>feat_Perc_N</th>\n",
       "      <th>feat_Perc_P</th>\n",
       "      <th>feat_Perc_Q</th>\n",
       "      <th>feat_Perc_R</th>\n",
       "      <th>feat_Perc_S</th>\n",
       "      <th>feat_Perc_T</th>\n",
       "      <th>feat_Perc_V</th>\n",
       "      <th>feat_Perc_W</th>\n",
       "      <th>feat_Perc_Y</th>\n",
       "    </tr>\n",
       "  </thead>\n",
       "  <tbody>\n",
       "    <tr>\n",
       "      <th>0</th>\n",
       "      <td>AAB20743.1:2</td>\n",
       "      <td>AAB20743.1</td>\n",
       "      <td>42</td>\n",
       "      <td>L</td>\n",
       "      <td>LKFFEIDLTSRPAHG</td>\n",
       "      <td>3.640224</td>\n",
       "      <td>80</td>\n",
       "      <td>151</td>\n",
       "      <td>21</td>\n",
       "      <td>36</td>\n",
       "      <td>0</td>\n",
       "      <td>1983.17</td>\n",
       "      <td>0.266667</td>\n",
       "      <td>0.400000</td>\n",
       "      <td>0.266667</td>\n",
       "      <td>0.200000</td>\n",
       "      <td>0.533333</td>\n",
       "      <td>0.466667</td>\n",
       "      <td>0.333333</td>\n",
       "      <td>0.2</td>\n",
       "      <td>0.133333</td>\n",
       "      <td>-0.151333</td>\n",
       "      <td>-0.230667</td>\n",
       "      <td>0.014667</td>\n",
       "      <td>-0.106667</td>\n",
       "      <td>-0.090667</td>\n",
       "      <td>-0.181333</td>\n",
       "      <td>-0.008667</td>\n",
       "      <td>-0.149333</td>\n",
       "      <td>-0.456667</td>\n",
       "      <td>0.062667</td>\n",
       "      <td>-0.018667</td>\n",
       "      <td>0.268667</td>\n",
       "      <td>0.173333</td>\n",
       "      <td>-0.116667</td>\n",
       "      <td>-0.218667</td>\n",
       "      <td>-0.243333</td>\n",
       "      <td>-0.162000</td>\n",
       "      <td>0.308000</td>\n",
       "      <td>-0.003133</td>\n",
       "      <td>...</td>\n",
       "      <td>0</td>\n",
       "      <td>0.0</td>\n",
       "      <td>0.0</td>\n",
       "      <td>0.0</td>\n",
       "      <td>0.0</td>\n",
       "      <td>0.0</td>\n",
       "      <td>0.0</td>\n",
       "      <td>0</td>\n",
       "      <td>0.0</td>\n",
       "      <td>0.0</td>\n",
       "      <td>0.0</td>\n",
       "      <td>0.0</td>\n",
       "      <td>0.0</td>\n",
       "      <td>0.0</td>\n",
       "      <td>0</td>\n",
       "      <td>0.0</td>\n",
       "      <td>0.0</td>\n",
       "      <td>0.0</td>\n",
       "      <td>0.0</td>\n",
       "      <td>0.0</td>\n",
       "      <td>0.066667</td>\n",
       "      <td>0.0</td>\n",
       "      <td>0.066667</td>\n",
       "      <td>0.066667</td>\n",
       "      <td>0.133333</td>\n",
       "      <td>0.066667</td>\n",
       "      <td>0.066667</td>\n",
       "      <td>0.066667</td>\n",
       "      <td>0.066667</td>\n",
       "      <td>0.133333</td>\n",
       "      <td>0.0</td>\n",
       "      <td>0.0</td>\n",
       "      <td>0.066667</td>\n",
       "      <td>0.0</td>\n",
       "      <td>0.066667</td>\n",
       "      <td>0.066667</td>\n",
       "      <td>0.066667</td>\n",
       "      <td>0.0</td>\n",
       "      <td>0.0</td>\n",
       "      <td>0.0</td>\n",
       "    </tr>\n",
       "    <tr>\n",
       "      <th>1</th>\n",
       "      <td>AAB20743.1:2</td>\n",
       "      <td>AAB20743.1</td>\n",
       "      <td>43</td>\n",
       "      <td>T</td>\n",
       "      <td>KFFEIDLTSRPAHGG</td>\n",
       "      <td>3.640224</td>\n",
       "      <td>76</td>\n",
       "      <td>143</td>\n",
       "      <td>21</td>\n",
       "      <td>36</td>\n",
       "      <td>0</td>\n",
       "      <td>1927.07</td>\n",
       "      <td>0.333333</td>\n",
       "      <td>0.466667</td>\n",
       "      <td>0.200000</td>\n",
       "      <td>0.200000</td>\n",
       "      <td>0.533333</td>\n",
       "      <td>0.466667</td>\n",
       "      <td>0.333333</td>\n",
       "      <td>0.2</td>\n",
       "      <td>0.133333</td>\n",
       "      <td>-0.150000</td>\n",
       "      <td>-0.299333</td>\n",
       "      <td>0.063333</td>\n",
       "      <td>0.060000</td>\n",
       "      <td>-0.221333</td>\n",
       "      <td>-0.180667</td>\n",
       "      <td>0.054000</td>\n",
       "      <td>-0.106000</td>\n",
       "      <td>-0.327333</td>\n",
       "      <td>0.086667</td>\n",
       "      <td>0.189333</td>\n",
       "      <td>0.128000</td>\n",
       "      <td>0.142000</td>\n",
       "      <td>0.305333</td>\n",
       "      <td>-0.402667</td>\n",
       "      <td>-0.120000</td>\n",
       "      <td>-0.168667</td>\n",
       "      <td>0.226667</td>\n",
       "      <td>-0.096800</td>\n",
       "      <td>...</td>\n",
       "      <td>0</td>\n",
       "      <td>0.0</td>\n",
       "      <td>0.0</td>\n",
       "      <td>0.0</td>\n",
       "      <td>0.0</td>\n",
       "      <td>0.0</td>\n",
       "      <td>0.0</td>\n",
       "      <td>0</td>\n",
       "      <td>0.0</td>\n",
       "      <td>0.0</td>\n",
       "      <td>0.0</td>\n",
       "      <td>0.0</td>\n",
       "      <td>0.0</td>\n",
       "      <td>0.0</td>\n",
       "      <td>0</td>\n",
       "      <td>0.0</td>\n",
       "      <td>0.0</td>\n",
       "      <td>0.0</td>\n",
       "      <td>0.0</td>\n",
       "      <td>0.0</td>\n",
       "      <td>0.066667</td>\n",
       "      <td>0.0</td>\n",
       "      <td>0.066667</td>\n",
       "      <td>0.066667</td>\n",
       "      <td>0.133333</td>\n",
       "      <td>0.133333</td>\n",
       "      <td>0.066667</td>\n",
       "      <td>0.066667</td>\n",
       "      <td>0.066667</td>\n",
       "      <td>0.066667</td>\n",
       "      <td>0.0</td>\n",
       "      <td>0.0</td>\n",
       "      <td>0.066667</td>\n",
       "      <td>0.0</td>\n",
       "      <td>0.066667</td>\n",
       "      <td>0.066667</td>\n",
       "      <td>0.066667</td>\n",
       "      <td>0.0</td>\n",
       "      <td>0.0</td>\n",
       "      <td>0.0</td>\n",
       "    </tr>\n",
       "    <tr>\n",
       "      <th>2</th>\n",
       "      <td>AAB20743.1:2</td>\n",
       "      <td>AAB20743.1</td>\n",
       "      <td>44</td>\n",
       "      <td>S</td>\n",
       "      <td>FFEIDLTSRPAHGGK</td>\n",
       "      <td>3.640224</td>\n",
       "      <td>76</td>\n",
       "      <td>143</td>\n",
       "      <td>21</td>\n",
       "      <td>36</td>\n",
       "      <td>0</td>\n",
       "      <td>1927.07</td>\n",
       "      <td>0.333333</td>\n",
       "      <td>0.466667</td>\n",
       "      <td>0.200000</td>\n",
       "      <td>0.200000</td>\n",
       "      <td>0.533333</td>\n",
       "      <td>0.466667</td>\n",
       "      <td>0.333333</td>\n",
       "      <td>0.2</td>\n",
       "      <td>0.133333</td>\n",
       "      <td>-0.150000</td>\n",
       "      <td>-0.299333</td>\n",
       "      <td>0.063333</td>\n",
       "      <td>0.060000</td>\n",
       "      <td>-0.221333</td>\n",
       "      <td>-0.180667</td>\n",
       "      <td>0.054000</td>\n",
       "      <td>-0.106000</td>\n",
       "      <td>-0.327333</td>\n",
       "      <td>0.086667</td>\n",
       "      <td>0.189333</td>\n",
       "      <td>0.128000</td>\n",
       "      <td>0.142000</td>\n",
       "      <td>0.305333</td>\n",
       "      <td>-0.402667</td>\n",
       "      <td>-0.120000</td>\n",
       "      <td>-0.168667</td>\n",
       "      <td>0.226667</td>\n",
       "      <td>-0.096800</td>\n",
       "      <td>...</td>\n",
       "      <td>0</td>\n",
       "      <td>0.0</td>\n",
       "      <td>0.0</td>\n",
       "      <td>0.0</td>\n",
       "      <td>0.0</td>\n",
       "      <td>0.0</td>\n",
       "      <td>0.0</td>\n",
       "      <td>0</td>\n",
       "      <td>0.0</td>\n",
       "      <td>0.0</td>\n",
       "      <td>0.0</td>\n",
       "      <td>0.0</td>\n",
       "      <td>0.0</td>\n",
       "      <td>0.0</td>\n",
       "      <td>0</td>\n",
       "      <td>0.0</td>\n",
       "      <td>0.0</td>\n",
       "      <td>0.0</td>\n",
       "      <td>0.0</td>\n",
       "      <td>0.0</td>\n",
       "      <td>0.066667</td>\n",
       "      <td>0.0</td>\n",
       "      <td>0.066667</td>\n",
       "      <td>0.066667</td>\n",
       "      <td>0.133333</td>\n",
       "      <td>0.133333</td>\n",
       "      <td>0.066667</td>\n",
       "      <td>0.066667</td>\n",
       "      <td>0.066667</td>\n",
       "      <td>0.066667</td>\n",
       "      <td>0.0</td>\n",
       "      <td>0.0</td>\n",
       "      <td>0.066667</td>\n",
       "      <td>0.0</td>\n",
       "      <td>0.066667</td>\n",
       "      <td>0.066667</td>\n",
       "      <td>0.066667</td>\n",
       "      <td>0.0</td>\n",
       "      <td>0.0</td>\n",
       "      <td>0.0</td>\n",
       "    </tr>\n",
       "    <tr>\n",
       "      <th>3</th>\n",
       "      <td>AAB20743.1:2</td>\n",
       "      <td>AAB20743.1</td>\n",
       "      <td>45</td>\n",
       "      <td>R</td>\n",
       "      <td>FEIDLTSRPAHGGKT</td>\n",
       "      <td>3.640224</td>\n",
       "      <td>71</td>\n",
       "      <td>141</td>\n",
       "      <td>21</td>\n",
       "      <td>37</td>\n",
       "      <td>0</td>\n",
       "      <td>1881.00</td>\n",
       "      <td>0.400000</td>\n",
       "      <td>0.533333</td>\n",
       "      <td>0.200000</td>\n",
       "      <td>0.133333</td>\n",
       "      <td>0.466667</td>\n",
       "      <td>0.533333</td>\n",
       "      <td>0.333333</td>\n",
       "      <td>0.2</td>\n",
       "      <td>0.133333</td>\n",
       "      <td>-0.066667</td>\n",
       "      <td>-0.374000</td>\n",
       "      <td>0.126667</td>\n",
       "      <td>0.091333</td>\n",
       "      <td>-0.333333</td>\n",
       "      <td>-0.076000</td>\n",
       "      <td>0.191333</td>\n",
       "      <td>-0.127333</td>\n",
       "      <td>-0.259333</td>\n",
       "      <td>0.058000</td>\n",
       "      <td>0.039333</td>\n",
       "      <td>-0.023333</td>\n",
       "      <td>0.184000</td>\n",
       "      <td>0.636667</td>\n",
       "      <td>-0.677333</td>\n",
       "      <td>-0.265333</td>\n",
       "      <td>-0.302000</td>\n",
       "      <td>0.241333</td>\n",
       "      <td>-0.182067</td>\n",
       "      <td>...</td>\n",
       "      <td>0</td>\n",
       "      <td>0.0</td>\n",
       "      <td>0.0</td>\n",
       "      <td>0.0</td>\n",
       "      <td>0.0</td>\n",
       "      <td>0.0</td>\n",
       "      <td>0.0</td>\n",
       "      <td>0</td>\n",
       "      <td>0.0</td>\n",
       "      <td>0.0</td>\n",
       "      <td>0.0</td>\n",
       "      <td>0.0</td>\n",
       "      <td>0.0</td>\n",
       "      <td>0.0</td>\n",
       "      <td>0</td>\n",
       "      <td>0.0</td>\n",
       "      <td>0.0</td>\n",
       "      <td>0.0</td>\n",
       "      <td>0.0</td>\n",
       "      <td>0.0</td>\n",
       "      <td>0.066667</td>\n",
       "      <td>0.0</td>\n",
       "      <td>0.066667</td>\n",
       "      <td>0.066667</td>\n",
       "      <td>0.066667</td>\n",
       "      <td>0.133333</td>\n",
       "      <td>0.066667</td>\n",
       "      <td>0.066667</td>\n",
       "      <td>0.066667</td>\n",
       "      <td>0.066667</td>\n",
       "      <td>0.0</td>\n",
       "      <td>0.0</td>\n",
       "      <td>0.066667</td>\n",
       "      <td>0.0</td>\n",
       "      <td>0.066667</td>\n",
       "      <td>0.066667</td>\n",
       "      <td>0.133333</td>\n",
       "      <td>0.0</td>\n",
       "      <td>0.0</td>\n",
       "      <td>0.0</td>\n",
       "    </tr>\n",
       "    <tr>\n",
       "      <th>4</th>\n",
       "      <td>AAB20743.1:2</td>\n",
       "      <td>AAB20743.1</td>\n",
       "      <td>46</td>\n",
       "      <td>P</td>\n",
       "      <td>EIDLTSRPAHGGKTE</td>\n",
       "      <td>3.506891</td>\n",
       "      <td>67</td>\n",
       "      <td>139</td>\n",
       "      <td>21</td>\n",
       "      <td>39</td>\n",
       "      <td>0</td>\n",
       "      <td>1862.94</td>\n",
       "      <td>0.400000</td>\n",
       "      <td>0.533333</td>\n",
       "      <td>0.200000</td>\n",
       "      <td>0.066667</td>\n",
       "      <td>0.400000</td>\n",
       "      <td>0.600000</td>\n",
       "      <td>0.400000</td>\n",
       "      <td>0.2</td>\n",
       "      <td>0.200000</td>\n",
       "      <td>0.052667</td>\n",
       "      <td>-0.442000</td>\n",
       "      <td>0.099333</td>\n",
       "      <td>0.008667</td>\n",
       "      <td>-0.386000</td>\n",
       "      <td>-0.159333</td>\n",
       "      <td>0.364667</td>\n",
       "      <td>-0.229333</td>\n",
       "      <td>-0.178667</td>\n",
       "      <td>0.016000</td>\n",
       "      <td>-0.008667</td>\n",
       "      <td>-0.160667</td>\n",
       "      <td>0.205333</td>\n",
       "      <td>1.125333</td>\n",
       "      <td>-0.789333</td>\n",
       "      <td>-0.343333</td>\n",
       "      <td>-0.540667</td>\n",
       "      <td>0.266000</td>\n",
       "      <td>-0.355133</td>\n",
       "      <td>...</td>\n",
       "      <td>0</td>\n",
       "      <td>0.0</td>\n",
       "      <td>0.0</td>\n",
       "      <td>0.0</td>\n",
       "      <td>0.0</td>\n",
       "      <td>0.0</td>\n",
       "      <td>0.0</td>\n",
       "      <td>0</td>\n",
       "      <td>0.0</td>\n",
       "      <td>0.0</td>\n",
       "      <td>0.0</td>\n",
       "      <td>0.0</td>\n",
       "      <td>0.0</td>\n",
       "      <td>0.0</td>\n",
       "      <td>0</td>\n",
       "      <td>0.0</td>\n",
       "      <td>0.0</td>\n",
       "      <td>0.0</td>\n",
       "      <td>0.0</td>\n",
       "      <td>0.0</td>\n",
       "      <td>0.066667</td>\n",
       "      <td>0.0</td>\n",
       "      <td>0.066667</td>\n",
       "      <td>0.133333</td>\n",
       "      <td>0.000000</td>\n",
       "      <td>0.133333</td>\n",
       "      <td>0.066667</td>\n",
       "      <td>0.066667</td>\n",
       "      <td>0.066667</td>\n",
       "      <td>0.066667</td>\n",
       "      <td>0.0</td>\n",
       "      <td>0.0</td>\n",
       "      <td>0.066667</td>\n",
       "      <td>0.0</td>\n",
       "      <td>0.066667</td>\n",
       "      <td>0.066667</td>\n",
       "      <td>0.133333</td>\n",
       "      <td>0.0</td>\n",
       "      <td>0.0</td>\n",
       "      <td>0.0</td>\n",
       "    </tr>\n",
       "  </tbody>\n",
       "</table>\n",
       "<p>5 rows × 450 columns</p>\n",
       "</div>"
      ],
      "text/plain": [
       "     Info_PepID Info_protein_id  ...  feat_Perc_W feat_Perc_Y\n",
       "0  AAB20743.1:2      AAB20743.1  ...          0.0         0.0\n",
       "1  AAB20743.1:2      AAB20743.1  ...          0.0         0.0\n",
       "2  AAB20743.1:2      AAB20743.1  ...          0.0         0.0\n",
       "3  AAB20743.1:2      AAB20743.1  ...          0.0         0.0\n",
       "4  AAB20743.1:2      AAB20743.1  ...          0.0         0.0\n",
       "\n",
       "[5 rows x 450 columns]"
      ]
     },
     "execution_count": 84,
     "metadata": {
      "tags": []
     },
     "output_type": "execute_result"
    }
   ],
   "source": [
    "Hold_out_DF = pd.read_csv('/content/drive/MyDrive/Colab Notebooks/Data/CW_predict.csv')\n",
    "Hold_out_DF.head()"
   ]
  },
  {
   "cell_type": "code",
   "execution_count": 85,
   "metadata": {
    "colab": {
     "base_uri": "https://localhost:8080/"
    },
    "id": "HinVjYWb0_Hd",
    "outputId": "7fa39ec2-90b1-4cfa-dc2c-07f747c7ca91"
   },
   "outputs": [
    {
     "name": "stdout",
     "output_type": "stream",
     "text": [
      "<class 'pandas.core.frame.DataFrame'>\n",
      "RangeIndex: 1211 entries, 0 to 1210\n",
      "Columns: 445 entries, feat_seq_entropy to feat_Perc_Y\n",
      "dtypes: float64(314), int64(131)\n",
      "memory usage: 4.1 MB\n"
     ]
    }
   ],
   "source": [
    "Hold_out_Features = Hold_out_DF.filter(regex=\"^feat\")\n",
    "Hold_out_Features.info()"
   ]
  },
  {
   "cell_type": "code",
   "execution_count": 86,
   "metadata": {
    "colab": {
     "base_uri": "https://localhost:8080/",
     "height": 253
    },
    "id": "De6kruRy0_EN",
    "outputId": "a103c3f7-6931-4d4d-e7d9-6f0645ea17d0"
   },
   "outputs": [
    {
     "data": {
      "text/html": [
       "<div>\n",
       "<style scoped>\n",
       "    .dataframe tbody tr th:only-of-type {\n",
       "        vertical-align: middle;\n",
       "    }\n",
       "\n",
       "    .dataframe tbody tr th {\n",
       "        vertical-align: top;\n",
       "    }\n",
       "\n",
       "    .dataframe thead th {\n",
       "        text-align: right;\n",
       "    }\n",
       "</style>\n",
       "<table border=\"1\" class=\"dataframe\">\n",
       "  <thead>\n",
       "    <tr style=\"text-align: right;\">\n",
       "      <th></th>\n",
       "      <th>feat_seq_entropy</th>\n",
       "      <th>feat_C_atoms</th>\n",
       "      <th>feat_H_atoms</th>\n",
       "      <th>feat_N_atoms</th>\n",
       "      <th>feat_O_atoms</th>\n",
       "      <th>feat_S_atoms</th>\n",
       "      <th>feat_molecular_weight</th>\n",
       "      <th>feat_Perc_Tiny</th>\n",
       "      <th>feat_Perc_Small</th>\n",
       "      <th>feat_Perc_Aliphatic</th>\n",
       "      <th>feat_Perc_Aromatic</th>\n",
       "      <th>feat_Perc_NonPolar</th>\n",
       "      <th>feat_Perc_Polar</th>\n",
       "      <th>feat_Perc_Charged</th>\n",
       "      <th>feat_Perc_Basic</th>\n",
       "      <th>feat_Perc_Acidic</th>\n",
       "      <th>feat_PP1</th>\n",
       "      <th>feat_PP2</th>\n",
       "      <th>feat_PP3</th>\n",
       "      <th>feat_KF1</th>\n",
       "      <th>feat_KF2</th>\n",
       "      <th>feat_KF3</th>\n",
       "      <th>feat_KF4</th>\n",
       "      <th>feat_KF5</th>\n",
       "      <th>feat_KF6</th>\n",
       "      <th>feat_KF7</th>\n",
       "      <th>feat_KF8</th>\n",
       "      <th>feat_KF9</th>\n",
       "      <th>feat_KF10</th>\n",
       "      <th>feat_Z1</th>\n",
       "      <th>feat_Z2</th>\n",
       "      <th>feat_Z3</th>\n",
       "      <th>feat_Z4</th>\n",
       "      <th>feat_Z5</th>\n",
       "      <th>feat_F1</th>\n",
       "      <th>feat_F2</th>\n",
       "      <th>feat_F3</th>\n",
       "      <th>feat_F4</th>\n",
       "      <th>feat_F5</th>\n",
       "      <th>feat_F6</th>\n",
       "      <th>...</th>\n",
       "      <th>feat_CT641</th>\n",
       "      <th>feat_CT642</th>\n",
       "      <th>feat_CT643</th>\n",
       "      <th>feat_CT644</th>\n",
       "      <th>feat_CT645</th>\n",
       "      <th>feat_CT646</th>\n",
       "      <th>feat_CT650</th>\n",
       "      <th>feat_CT651</th>\n",
       "      <th>feat_CT652</th>\n",
       "      <th>feat_CT653</th>\n",
       "      <th>feat_CT654</th>\n",
       "      <th>feat_CT655</th>\n",
       "      <th>feat_CT656</th>\n",
       "      <th>feat_CT660</th>\n",
       "      <th>feat_CT661</th>\n",
       "      <th>feat_CT662</th>\n",
       "      <th>feat_CT663</th>\n",
       "      <th>feat_CT664</th>\n",
       "      <th>feat_CT665</th>\n",
       "      <th>feat_CT666</th>\n",
       "      <th>feat_Perc_A</th>\n",
       "      <th>feat_Perc_C</th>\n",
       "      <th>feat_Perc_D</th>\n",
       "      <th>feat_Perc_E</th>\n",
       "      <th>feat_Perc_F</th>\n",
       "      <th>feat_Perc_G</th>\n",
       "      <th>feat_Perc_H</th>\n",
       "      <th>feat_Perc_I</th>\n",
       "      <th>feat_Perc_K</th>\n",
       "      <th>feat_Perc_L</th>\n",
       "      <th>feat_Perc_M</th>\n",
       "      <th>feat_Perc_N</th>\n",
       "      <th>feat_Perc_P</th>\n",
       "      <th>feat_Perc_Q</th>\n",
       "      <th>feat_Perc_R</th>\n",
       "      <th>feat_Perc_S</th>\n",
       "      <th>feat_Perc_T</th>\n",
       "      <th>feat_Perc_V</th>\n",
       "      <th>feat_Perc_W</th>\n",
       "      <th>feat_Perc_Y</th>\n",
       "    </tr>\n",
       "  </thead>\n",
       "  <tbody>\n",
       "    <tr>\n",
       "      <th>0</th>\n",
       "      <td>3.640224</td>\n",
       "      <td>80</td>\n",
       "      <td>151</td>\n",
       "      <td>21</td>\n",
       "      <td>36</td>\n",
       "      <td>0</td>\n",
       "      <td>1983.17</td>\n",
       "      <td>0.266667</td>\n",
       "      <td>0.400000</td>\n",
       "      <td>0.266667</td>\n",
       "      <td>0.200000</td>\n",
       "      <td>0.533333</td>\n",
       "      <td>0.466667</td>\n",
       "      <td>0.333333</td>\n",
       "      <td>0.2</td>\n",
       "      <td>0.133333</td>\n",
       "      <td>-0.151333</td>\n",
       "      <td>-0.230667</td>\n",
       "      <td>0.014667</td>\n",
       "      <td>-0.106667</td>\n",
       "      <td>-0.090667</td>\n",
       "      <td>-0.181333</td>\n",
       "      <td>-0.008667</td>\n",
       "      <td>-0.149333</td>\n",
       "      <td>-0.456667</td>\n",
       "      <td>0.062667</td>\n",
       "      <td>-0.018667</td>\n",
       "      <td>0.268667</td>\n",
       "      <td>0.173333</td>\n",
       "      <td>-0.116667</td>\n",
       "      <td>-0.218667</td>\n",
       "      <td>-0.243333</td>\n",
       "      <td>-0.162000</td>\n",
       "      <td>0.308000</td>\n",
       "      <td>-0.003133</td>\n",
       "      <td>0.066667</td>\n",
       "      <td>-0.013267</td>\n",
       "      <td>0.435800</td>\n",
       "      <td>0.252800</td>\n",
       "      <td>-0.082733</td>\n",
       "      <td>...</td>\n",
       "      <td>0</td>\n",
       "      <td>0.0</td>\n",
       "      <td>0.0</td>\n",
       "      <td>0.0</td>\n",
       "      <td>0.0</td>\n",
       "      <td>0.0</td>\n",
       "      <td>0.0</td>\n",
       "      <td>0</td>\n",
       "      <td>0.0</td>\n",
       "      <td>0.0</td>\n",
       "      <td>0.0</td>\n",
       "      <td>0.0</td>\n",
       "      <td>0.0</td>\n",
       "      <td>0.0</td>\n",
       "      <td>0</td>\n",
       "      <td>0.0</td>\n",
       "      <td>0.0</td>\n",
       "      <td>0.0</td>\n",
       "      <td>0.0</td>\n",
       "      <td>0.0</td>\n",
       "      <td>0.066667</td>\n",
       "      <td>0.0</td>\n",
       "      <td>0.066667</td>\n",
       "      <td>0.066667</td>\n",
       "      <td>0.133333</td>\n",
       "      <td>0.066667</td>\n",
       "      <td>0.066667</td>\n",
       "      <td>0.066667</td>\n",
       "      <td>0.066667</td>\n",
       "      <td>0.133333</td>\n",
       "      <td>0.0</td>\n",
       "      <td>0.0</td>\n",
       "      <td>0.066667</td>\n",
       "      <td>0.0</td>\n",
       "      <td>0.066667</td>\n",
       "      <td>0.066667</td>\n",
       "      <td>0.066667</td>\n",
       "      <td>0.0</td>\n",
       "      <td>0.0</td>\n",
       "      <td>0.0</td>\n",
       "    </tr>\n",
       "    <tr>\n",
       "      <th>1</th>\n",
       "      <td>3.640224</td>\n",
       "      <td>76</td>\n",
       "      <td>143</td>\n",
       "      <td>21</td>\n",
       "      <td>36</td>\n",
       "      <td>0</td>\n",
       "      <td>1927.07</td>\n",
       "      <td>0.333333</td>\n",
       "      <td>0.466667</td>\n",
       "      <td>0.200000</td>\n",
       "      <td>0.200000</td>\n",
       "      <td>0.533333</td>\n",
       "      <td>0.466667</td>\n",
       "      <td>0.333333</td>\n",
       "      <td>0.2</td>\n",
       "      <td>0.133333</td>\n",
       "      <td>-0.150000</td>\n",
       "      <td>-0.299333</td>\n",
       "      <td>0.063333</td>\n",
       "      <td>0.060000</td>\n",
       "      <td>-0.221333</td>\n",
       "      <td>-0.180667</td>\n",
       "      <td>0.054000</td>\n",
       "      <td>-0.106000</td>\n",
       "      <td>-0.327333</td>\n",
       "      <td>0.086667</td>\n",
       "      <td>0.189333</td>\n",
       "      <td>0.128000</td>\n",
       "      <td>0.142000</td>\n",
       "      <td>0.305333</td>\n",
       "      <td>-0.402667</td>\n",
       "      <td>-0.120000</td>\n",
       "      <td>-0.168667</td>\n",
       "      <td>0.226667</td>\n",
       "      <td>-0.096800</td>\n",
       "      <td>-0.156467</td>\n",
       "      <td>-0.170533</td>\n",
       "      <td>0.390800</td>\n",
       "      <td>0.142733</td>\n",
       "      <td>-0.149733</td>\n",
       "      <td>...</td>\n",
       "      <td>0</td>\n",
       "      <td>0.0</td>\n",
       "      <td>0.0</td>\n",
       "      <td>0.0</td>\n",
       "      <td>0.0</td>\n",
       "      <td>0.0</td>\n",
       "      <td>0.0</td>\n",
       "      <td>0</td>\n",
       "      <td>0.0</td>\n",
       "      <td>0.0</td>\n",
       "      <td>0.0</td>\n",
       "      <td>0.0</td>\n",
       "      <td>0.0</td>\n",
       "      <td>0.0</td>\n",
       "      <td>0</td>\n",
       "      <td>0.0</td>\n",
       "      <td>0.0</td>\n",
       "      <td>0.0</td>\n",
       "      <td>0.0</td>\n",
       "      <td>0.0</td>\n",
       "      <td>0.066667</td>\n",
       "      <td>0.0</td>\n",
       "      <td>0.066667</td>\n",
       "      <td>0.066667</td>\n",
       "      <td>0.133333</td>\n",
       "      <td>0.133333</td>\n",
       "      <td>0.066667</td>\n",
       "      <td>0.066667</td>\n",
       "      <td>0.066667</td>\n",
       "      <td>0.066667</td>\n",
       "      <td>0.0</td>\n",
       "      <td>0.0</td>\n",
       "      <td>0.066667</td>\n",
       "      <td>0.0</td>\n",
       "      <td>0.066667</td>\n",
       "      <td>0.066667</td>\n",
       "      <td>0.066667</td>\n",
       "      <td>0.0</td>\n",
       "      <td>0.0</td>\n",
       "      <td>0.0</td>\n",
       "    </tr>\n",
       "    <tr>\n",
       "      <th>2</th>\n",
       "      <td>3.640224</td>\n",
       "      <td>76</td>\n",
       "      <td>143</td>\n",
       "      <td>21</td>\n",
       "      <td>36</td>\n",
       "      <td>0</td>\n",
       "      <td>1927.07</td>\n",
       "      <td>0.333333</td>\n",
       "      <td>0.466667</td>\n",
       "      <td>0.200000</td>\n",
       "      <td>0.200000</td>\n",
       "      <td>0.533333</td>\n",
       "      <td>0.466667</td>\n",
       "      <td>0.333333</td>\n",
       "      <td>0.2</td>\n",
       "      <td>0.133333</td>\n",
       "      <td>-0.150000</td>\n",
       "      <td>-0.299333</td>\n",
       "      <td>0.063333</td>\n",
       "      <td>0.060000</td>\n",
       "      <td>-0.221333</td>\n",
       "      <td>-0.180667</td>\n",
       "      <td>0.054000</td>\n",
       "      <td>-0.106000</td>\n",
       "      <td>-0.327333</td>\n",
       "      <td>0.086667</td>\n",
       "      <td>0.189333</td>\n",
       "      <td>0.128000</td>\n",
       "      <td>0.142000</td>\n",
       "      <td>0.305333</td>\n",
       "      <td>-0.402667</td>\n",
       "      <td>-0.120000</td>\n",
       "      <td>-0.168667</td>\n",
       "      <td>0.226667</td>\n",
       "      <td>-0.096800</td>\n",
       "      <td>-0.156467</td>\n",
       "      <td>-0.170533</td>\n",
       "      <td>0.390800</td>\n",
       "      <td>0.142733</td>\n",
       "      <td>-0.149733</td>\n",
       "      <td>...</td>\n",
       "      <td>0</td>\n",
       "      <td>0.0</td>\n",
       "      <td>0.0</td>\n",
       "      <td>0.0</td>\n",
       "      <td>0.0</td>\n",
       "      <td>0.0</td>\n",
       "      <td>0.0</td>\n",
       "      <td>0</td>\n",
       "      <td>0.0</td>\n",
       "      <td>0.0</td>\n",
       "      <td>0.0</td>\n",
       "      <td>0.0</td>\n",
       "      <td>0.0</td>\n",
       "      <td>0.0</td>\n",
       "      <td>0</td>\n",
       "      <td>0.0</td>\n",
       "      <td>0.0</td>\n",
       "      <td>0.0</td>\n",
       "      <td>0.0</td>\n",
       "      <td>0.0</td>\n",
       "      <td>0.066667</td>\n",
       "      <td>0.0</td>\n",
       "      <td>0.066667</td>\n",
       "      <td>0.066667</td>\n",
       "      <td>0.133333</td>\n",
       "      <td>0.133333</td>\n",
       "      <td>0.066667</td>\n",
       "      <td>0.066667</td>\n",
       "      <td>0.066667</td>\n",
       "      <td>0.066667</td>\n",
       "      <td>0.0</td>\n",
       "      <td>0.0</td>\n",
       "      <td>0.066667</td>\n",
       "      <td>0.0</td>\n",
       "      <td>0.066667</td>\n",
       "      <td>0.066667</td>\n",
       "      <td>0.066667</td>\n",
       "      <td>0.0</td>\n",
       "      <td>0.0</td>\n",
       "      <td>0.0</td>\n",
       "    </tr>\n",
       "    <tr>\n",
       "      <th>3</th>\n",
       "      <td>3.640224</td>\n",
       "      <td>71</td>\n",
       "      <td>141</td>\n",
       "      <td>21</td>\n",
       "      <td>37</td>\n",
       "      <td>0</td>\n",
       "      <td>1881.00</td>\n",
       "      <td>0.400000</td>\n",
       "      <td>0.533333</td>\n",
       "      <td>0.200000</td>\n",
       "      <td>0.133333</td>\n",
       "      <td>0.466667</td>\n",
       "      <td>0.533333</td>\n",
       "      <td>0.333333</td>\n",
       "      <td>0.2</td>\n",
       "      <td>0.133333</td>\n",
       "      <td>-0.066667</td>\n",
       "      <td>-0.374000</td>\n",
       "      <td>0.126667</td>\n",
       "      <td>0.091333</td>\n",
       "      <td>-0.333333</td>\n",
       "      <td>-0.076000</td>\n",
       "      <td>0.191333</td>\n",
       "      <td>-0.127333</td>\n",
       "      <td>-0.259333</td>\n",
       "      <td>0.058000</td>\n",
       "      <td>0.039333</td>\n",
       "      <td>-0.023333</td>\n",
       "      <td>0.184000</td>\n",
       "      <td>0.636667</td>\n",
       "      <td>-0.677333</td>\n",
       "      <td>-0.265333</td>\n",
       "      <td>-0.302000</td>\n",
       "      <td>0.241333</td>\n",
       "      <td>-0.182067</td>\n",
       "      <td>-0.206000</td>\n",
       "      <td>-0.300267</td>\n",
       "      <td>0.415267</td>\n",
       "      <td>0.149733</td>\n",
       "      <td>-0.110267</td>\n",
       "      <td>...</td>\n",
       "      <td>0</td>\n",
       "      <td>0.0</td>\n",
       "      <td>0.0</td>\n",
       "      <td>0.0</td>\n",
       "      <td>0.0</td>\n",
       "      <td>0.0</td>\n",
       "      <td>0.0</td>\n",
       "      <td>0</td>\n",
       "      <td>0.0</td>\n",
       "      <td>0.0</td>\n",
       "      <td>0.0</td>\n",
       "      <td>0.0</td>\n",
       "      <td>0.0</td>\n",
       "      <td>0.0</td>\n",
       "      <td>0</td>\n",
       "      <td>0.0</td>\n",
       "      <td>0.0</td>\n",
       "      <td>0.0</td>\n",
       "      <td>0.0</td>\n",
       "      <td>0.0</td>\n",
       "      <td>0.066667</td>\n",
       "      <td>0.0</td>\n",
       "      <td>0.066667</td>\n",
       "      <td>0.066667</td>\n",
       "      <td>0.066667</td>\n",
       "      <td>0.133333</td>\n",
       "      <td>0.066667</td>\n",
       "      <td>0.066667</td>\n",
       "      <td>0.066667</td>\n",
       "      <td>0.066667</td>\n",
       "      <td>0.0</td>\n",
       "      <td>0.0</td>\n",
       "      <td>0.066667</td>\n",
       "      <td>0.0</td>\n",
       "      <td>0.066667</td>\n",
       "      <td>0.066667</td>\n",
       "      <td>0.133333</td>\n",
       "      <td>0.0</td>\n",
       "      <td>0.0</td>\n",
       "      <td>0.0</td>\n",
       "    </tr>\n",
       "    <tr>\n",
       "      <th>4</th>\n",
       "      <td>3.506891</td>\n",
       "      <td>67</td>\n",
       "      <td>139</td>\n",
       "      <td>21</td>\n",
       "      <td>39</td>\n",
       "      <td>0</td>\n",
       "      <td>1862.94</td>\n",
       "      <td>0.400000</td>\n",
       "      <td>0.533333</td>\n",
       "      <td>0.200000</td>\n",
       "      <td>0.066667</td>\n",
       "      <td>0.400000</td>\n",
       "      <td>0.600000</td>\n",
       "      <td>0.400000</td>\n",
       "      <td>0.2</td>\n",
       "      <td>0.200000</td>\n",
       "      <td>0.052667</td>\n",
       "      <td>-0.442000</td>\n",
       "      <td>0.099333</td>\n",
       "      <td>0.008667</td>\n",
       "      <td>-0.386000</td>\n",
       "      <td>-0.159333</td>\n",
       "      <td>0.364667</td>\n",
       "      <td>-0.229333</td>\n",
       "      <td>-0.178667</td>\n",
       "      <td>0.016000</td>\n",
       "      <td>-0.008667</td>\n",
       "      <td>-0.160667</td>\n",
       "      <td>0.205333</td>\n",
       "      <td>1.125333</td>\n",
       "      <td>-0.789333</td>\n",
       "      <td>-0.343333</td>\n",
       "      <td>-0.540667</td>\n",
       "      <td>0.266000</td>\n",
       "      <td>-0.355133</td>\n",
       "      <td>-0.133000</td>\n",
       "      <td>-0.413400</td>\n",
       "      <td>0.431200</td>\n",
       "      <td>0.177200</td>\n",
       "      <td>-0.196133</td>\n",
       "      <td>...</td>\n",
       "      <td>0</td>\n",
       "      <td>0.0</td>\n",
       "      <td>0.0</td>\n",
       "      <td>0.0</td>\n",
       "      <td>0.0</td>\n",
       "      <td>0.0</td>\n",
       "      <td>0.0</td>\n",
       "      <td>0</td>\n",
       "      <td>0.0</td>\n",
       "      <td>0.0</td>\n",
       "      <td>0.0</td>\n",
       "      <td>0.0</td>\n",
       "      <td>0.0</td>\n",
       "      <td>0.0</td>\n",
       "      <td>0</td>\n",
       "      <td>0.0</td>\n",
       "      <td>0.0</td>\n",
       "      <td>0.0</td>\n",
       "      <td>0.0</td>\n",
       "      <td>0.0</td>\n",
       "      <td>0.066667</td>\n",
       "      <td>0.0</td>\n",
       "      <td>0.066667</td>\n",
       "      <td>0.133333</td>\n",
       "      <td>0.000000</td>\n",
       "      <td>0.133333</td>\n",
       "      <td>0.066667</td>\n",
       "      <td>0.066667</td>\n",
       "      <td>0.066667</td>\n",
       "      <td>0.066667</td>\n",
       "      <td>0.0</td>\n",
       "      <td>0.0</td>\n",
       "      <td>0.066667</td>\n",
       "      <td>0.0</td>\n",
       "      <td>0.066667</td>\n",
       "      <td>0.066667</td>\n",
       "      <td>0.133333</td>\n",
       "      <td>0.0</td>\n",
       "      <td>0.0</td>\n",
       "      <td>0.0</td>\n",
       "    </tr>\n",
       "  </tbody>\n",
       "</table>\n",
       "<p>5 rows × 445 columns</p>\n",
       "</div>"
      ],
      "text/plain": [
       "   feat_seq_entropy  feat_C_atoms  ...  feat_Perc_W  feat_Perc_Y\n",
       "0          3.640224            80  ...          0.0          0.0\n",
       "1          3.640224            76  ...          0.0          0.0\n",
       "2          3.640224            76  ...          0.0          0.0\n",
       "3          3.640224            71  ...          0.0          0.0\n",
       "4          3.506891            67  ...          0.0          0.0\n",
       "\n",
       "[5 rows x 445 columns]"
      ]
     },
     "execution_count": 86,
     "metadata": {
      "tags": []
     },
     "output_type": "execute_result"
    }
   ],
   "source": [
    "Hold_out_Features.head()"
   ]
  },
  {
   "cell_type": "code",
   "execution_count": 87,
   "metadata": {
    "colab": {
     "base_uri": "https://localhost:8080/"
    },
    "id": "diIuHVjy0_BC",
    "outputId": "7a36483b-d976-47c1-d0bf-8b76a9cef4ee"
   },
   "outputs": [
    {
     "data": {
      "text/plain": [
       "False"
      ]
     },
     "execution_count": 87,
     "metadata": {
      "tags": []
     },
     "output_type": "execute_result"
    }
   ],
   "source": [
    "#The data set does not hold any null values \n",
    "Hold_out_Features.isnull().sum().any()"
   ]
  },
  {
   "cell_type": "code",
   "execution_count": 88,
   "metadata": {
    "id": "qtg98WnkZ_Wr"
   },
   "outputs": [],
   "source": [
    "test_pca_Hold_out= pca1.fit_transform(Hold_out_Features)"
   ]
  },
  {
   "cell_type": "code",
   "execution_count": 89,
   "metadata": {
    "id": "FJR3x6nce0aQ"
   },
   "outputs": [],
   "source": [
    "y_pred_svc_bal_Hold_Out = svc_bal.predict(test_pca_Hold_out)"
   ]
  },
  {
   "cell_type": "code",
   "execution_count": 90,
   "metadata": {
    "id": "tuD56_KtfX8t"
   },
   "outputs": [],
   "source": [
    "Holdout_pred = pd.DataFrame(y_pred_svc_bal_Hold_Out)"
   ]
  },
  {
   "cell_type": "code",
   "execution_count": 91,
   "metadata": {
    "colab": {
     "base_uri": "https://localhost:8080/",
     "height": 419
    },
    "id": "5BwqRx33fkiv",
    "outputId": "dc7d84b7-8411-4a60-c9e3-16f811f4ff9a"
   },
   "outputs": [
    {
     "data": {
      "text/html": [
       "<div>\n",
       "<style scoped>\n",
       "    .dataframe tbody tr th:only-of-type {\n",
       "        vertical-align: middle;\n",
       "    }\n",
       "\n",
       "    .dataframe tbody tr th {\n",
       "        vertical-align: top;\n",
       "    }\n",
       "\n",
       "    .dataframe thead th {\n",
       "        text-align: right;\n",
       "    }\n",
       "</style>\n",
       "<table border=\"1\" class=\"dataframe\">\n",
       "  <thead>\n",
       "    <tr style=\"text-align: right;\">\n",
       "      <th></th>\n",
       "      <th>0</th>\n",
       "    </tr>\n",
       "  </thead>\n",
       "  <tbody>\n",
       "    <tr>\n",
       "      <th>0</th>\n",
       "      <td>-1</td>\n",
       "    </tr>\n",
       "    <tr>\n",
       "      <th>1</th>\n",
       "      <td>1</td>\n",
       "    </tr>\n",
       "    <tr>\n",
       "      <th>2</th>\n",
       "      <td>1</td>\n",
       "    </tr>\n",
       "    <tr>\n",
       "      <th>3</th>\n",
       "      <td>-1</td>\n",
       "    </tr>\n",
       "    <tr>\n",
       "      <th>4</th>\n",
       "      <td>-1</td>\n",
       "    </tr>\n",
       "    <tr>\n",
       "      <th>...</th>\n",
       "      <td>...</td>\n",
       "    </tr>\n",
       "    <tr>\n",
       "      <th>1206</th>\n",
       "      <td>-1</td>\n",
       "    </tr>\n",
       "    <tr>\n",
       "      <th>1207</th>\n",
       "      <td>-1</td>\n",
       "    </tr>\n",
       "    <tr>\n",
       "      <th>1208</th>\n",
       "      <td>-1</td>\n",
       "    </tr>\n",
       "    <tr>\n",
       "      <th>1209</th>\n",
       "      <td>-1</td>\n",
       "    </tr>\n",
       "    <tr>\n",
       "      <th>1210</th>\n",
       "      <td>-1</td>\n",
       "    </tr>\n",
       "  </tbody>\n",
       "</table>\n",
       "<p>1211 rows × 1 columns</p>\n",
       "</div>"
      ],
      "text/plain": [
       "      0\n",
       "0    -1\n",
       "1     1\n",
       "2     1\n",
       "3    -1\n",
       "4    -1\n",
       "...  ..\n",
       "1206 -1\n",
       "1207 -1\n",
       "1208 -1\n",
       "1209 -1\n",
       "1210 -1\n",
       "\n",
       "[1211 rows x 1 columns]"
      ]
     },
     "execution_count": 91,
     "metadata": {
      "tags": []
     },
     "output_type": "execute_result"
    }
   ],
   "source": [
    "Holdout_pred"
   ]
  },
  {
   "cell_type": "code",
   "execution_count": 92,
   "metadata": {
    "id": "wP6NfZtTftsq"
   },
   "outputs": [],
   "source": [
    "Final = pd.concat([Hold_out_DF['Info_PepID'],Hold_out_DF['Info_center_pos'],Holdout_pred], axis=1)\n"
   ]
  },
  {
   "cell_type": "code",
   "execution_count": 93,
   "metadata": {
    "colab": {
     "base_uri": "https://localhost:8080/",
     "height": 419
    },
    "id": "_SUNvWkHh1ao",
    "outputId": "6a5576c7-a986-4c4c-b3d7-cd985ff2ff06"
   },
   "outputs": [
    {
     "data": {
      "text/html": [
       "<div>\n",
       "<style scoped>\n",
       "    .dataframe tbody tr th:only-of-type {\n",
       "        vertical-align: middle;\n",
       "    }\n",
       "\n",
       "    .dataframe tbody tr th {\n",
       "        vertical-align: top;\n",
       "    }\n",
       "\n",
       "    .dataframe thead th {\n",
       "        text-align: right;\n",
       "    }\n",
       "</style>\n",
       "<table border=\"1\" class=\"dataframe\">\n",
       "  <thead>\n",
       "    <tr style=\"text-align: right;\">\n",
       "      <th></th>\n",
       "      <th>Info_PepID</th>\n",
       "      <th>Info_center_pos</th>\n",
       "      <th>Prediction</th>\n",
       "    </tr>\n",
       "  </thead>\n",
       "  <tbody>\n",
       "    <tr>\n",
       "      <th>0</th>\n",
       "      <td>AAB20743.1:2</td>\n",
       "      <td>42</td>\n",
       "      <td>-1</td>\n",
       "    </tr>\n",
       "    <tr>\n",
       "      <th>1</th>\n",
       "      <td>AAB20743.1:2</td>\n",
       "      <td>43</td>\n",
       "      <td>1</td>\n",
       "    </tr>\n",
       "    <tr>\n",
       "      <th>2</th>\n",
       "      <td>AAB20743.1:2</td>\n",
       "      <td>44</td>\n",
       "      <td>1</td>\n",
       "    </tr>\n",
       "    <tr>\n",
       "      <th>3</th>\n",
       "      <td>AAB20743.1:2</td>\n",
       "      <td>45</td>\n",
       "      <td>-1</td>\n",
       "    </tr>\n",
       "    <tr>\n",
       "      <th>4</th>\n",
       "      <td>AAB20743.1:2</td>\n",
       "      <td>46</td>\n",
       "      <td>-1</td>\n",
       "    </tr>\n",
       "    <tr>\n",
       "      <th>...</th>\n",
       "      <td>...</td>\n",
       "      <td>...</td>\n",
       "      <td>...</td>\n",
       "    </tr>\n",
       "    <tr>\n",
       "      <th>1206</th>\n",
       "      <td>WP_053308639.1:2</td>\n",
       "      <td>87</td>\n",
       "      <td>-1</td>\n",
       "    </tr>\n",
       "    <tr>\n",
       "      <th>1207</th>\n",
       "      <td>WP_053308639.1:2</td>\n",
       "      <td>88</td>\n",
       "      <td>-1</td>\n",
       "    </tr>\n",
       "    <tr>\n",
       "      <th>1208</th>\n",
       "      <td>WP_053308639.1:2</td>\n",
       "      <td>89</td>\n",
       "      <td>-1</td>\n",
       "    </tr>\n",
       "    <tr>\n",
       "      <th>1209</th>\n",
       "      <td>WP_053308639.1:2</td>\n",
       "      <td>90</td>\n",
       "      <td>-1</td>\n",
       "    </tr>\n",
       "    <tr>\n",
       "      <th>1210</th>\n",
       "      <td>WP_053308639.1:2</td>\n",
       "      <td>91</td>\n",
       "      <td>-1</td>\n",
       "    </tr>\n",
       "  </tbody>\n",
       "</table>\n",
       "<p>1211 rows × 3 columns</p>\n",
       "</div>"
      ],
      "text/plain": [
       "            Info_PepID  Info_center_pos  Prediction\n",
       "0         AAB20743.1:2               42          -1\n",
       "1         AAB20743.1:2               43           1\n",
       "2         AAB20743.1:2               44           1\n",
       "3         AAB20743.1:2               45          -1\n",
       "4         AAB20743.1:2               46          -1\n",
       "...                ...              ...         ...\n",
       "1206  WP_053308639.1:2               87          -1\n",
       "1207  WP_053308639.1:2               88          -1\n",
       "1208  WP_053308639.1:2               89          -1\n",
       "1209  WP_053308639.1:2               90          -1\n",
       "1210  WP_053308639.1:2               91          -1\n",
       "\n",
       "[1211 rows x 3 columns]"
      ]
     },
     "execution_count": 93,
     "metadata": {
      "tags": []
     },
     "output_type": "execute_result"
    }
   ],
   "source": [
    "Final.rename(columns= {0:'Prediction'}, inplace=True)\n",
    "Final"
   ]
  },
  {
   "cell_type": "code",
   "execution_count": 94,
   "metadata": {
    "id": "CV29jPJqiPk5"
   },
   "outputs": [],
   "source": [
    "Final.to_csv('/content/drive/MyDrive/Colab Notebooks/Data/Fathi_Hassan_CS4850_Prediction.csv')"
   ]
  },
  {
   "cell_type": "markdown",
   "metadata": {
    "id": "AtpP6jCdkY6I"
   },
   "source": [
    "# Conclusion and Discussion\n",
    "\n",
    "Through this task, we were able to learn a lot from data. We discovered the distribution, that there were outliers, no duplicate data or missing values and that the data was very imbalanced. The data pre-processing methods presented in this report have attempted to address all the potential issues with the data. They needed to be addressed because it will allow better performance from most machine learning methods [1]. Interestingly, following scaling and oversampling of the models that weren't cost-sensitive, the MCC score was reduced compared to their benchmarks. This could be because the data was not normally distributed, often affecting model performance[1]. The machine learning models with built-in cost-sensitive extensions performed the best out of all the models evaluated in this report. The main difference between the pre-processing of the data for the cost-sensitive models was that they were not over-sampled using SMOTE.\n",
    "\n",
    "For future work, I would suggest trying different models and perhaps testing the benefits (or lack thereof) of the oversampling. Another area of improvement could be to address the non-normal distribution of the dataset; this could help model performances. Lastly, as part of this data mining solution, GridSearchCV was used to improve the performance of specific models by finding the optimal max_depth. Other parameters such as class_weight have also been adjusted. The process of using GridSearchCv for max_depth was quite time-consuming. It required a lot of computational power, which is why I didn't utilise it for fine-tuning other parameters for all models where possible. This could be an area of consideration for going forward."
   ]
  },
  {
   "cell_type": "markdown",
   "metadata": {
    "id": "pEicpjA71AK5"
   },
   "source": [
    "# References\n",
    "[1] Pedregosa F, Varoquaux, Ga\"el, Gramfort A, Michel V, Thirion B, Grisel O, et al. Scikit-learn: Machine learning in Python. Journal of machine learning research. 2011;12(Oct):2825–30.\n",
    "* This is a reference to indicate that the appropriate SKLearn documentation has been accessed. This is the preferred way of citing SKLearn documentation as per their website under 'Cite us\".\n",
    "\n",
    "[2] Chicco D, Jurman G. The advantages of the Matthews correlation coefficient (MCC) over F1 score and accuracy in binary classification evaluation. BMC Genomics. 2020 Jan 2;21(1):6. doi: 10.1186/s12864-019-6413-7. PMID: 31898477; PMCID: PMC6941312.\n",
    "\n",
    "[3] Guilford JP. Psychometric Methods. New York City: McGraw-Hill; 1954.\n",
    "\n",
    "[4] Sokolova M, Japkowicz N, Szpakowicz S. Beyond accuracy, F-score and ROC: a family of discriminant measures for performance evaluation. In: Proceedings of Advances in Artificial Intelligence (AI 2006), Lecture Notes in Computer Science, vol. 4304. Heidelberg: Springer: 2006. p. 1015–21.\n",
    "\n",
    "[5] Powers DMW. Evaluation: from precision, recall and F-measure to ROC, informedness, markedness & correlation. J Mach Learn Technol. 2011; 2(1):37–63.\n",
    "\n",
    "[6] Yoshida K, Ichiki K, Nishizawa AJ. Density Fluctuation Reconstruction using KS test and D’Agostino’s K-squared test. 2019. Accessed August 16, 2021. https://search.ebscohost.com/login.aspx?direct=true&db=edsarx&AN=edsarx.1912.08384&site=eds-live\n",
    "\n",
    "[7] GEWERS FL, FERREIRA GR, DE ARRUDA HF, et al. Principal Component Analysis: A Natural Approach to Data Exploration. ACM Computing Surveys. 2021;54(4):1-34. doi:10.1145/3447755\n",
    "\n",
    "[8] Janssens D, Wets G, Brijs T, Vanhoof K, Arentze T, Timmermans H. Integrating Bayesian networks and decision trees in a sequential rule-based transportation model. European Journal of Operational Research [Internet]. 2006 Nov 16 [cited 2021 Aug 16];175(1):16–34. Available from: https://search.ebscohost.com/login.aspx?direct=true&db=bth&AN=22219749&site=eds-live"
   ]
  },
  {
   "cell_type": "code",
   "execution_count": 94,
   "metadata": {
    "id": "rORMRhEWwq1d"
   },
   "outputs": [],
   "source": []
  }
 ],
 "metadata": {
  "colab": {
   "collapsed_sections": [],
   "name": "Datamining.ipynb",
   "provenance": [],
   "toc_visible": true
  },
  "kernelspec": {
   "display_name": "Python 3",
   "language": "python",
   "name": "python3"
  },
  "language_info": {
   "codemirror_mode": {
    "name": "ipython",
    "version": 3
   },
   "file_extension": ".py",
   "mimetype": "text/x-python",
   "name": "python",
   "nbconvert_exporter": "python",
   "pygments_lexer": "ipython3",
   "version": "3.8.5"
  }
 },
 "nbformat": 4,
 "nbformat_minor": 4
}
